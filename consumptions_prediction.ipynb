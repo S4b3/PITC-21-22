{
  "nbformat": 4,
  "nbformat_minor": 0,
  "metadata": {
    "colab": {
      "name": "consumptions_prediction.ipynb",
      "provenance": [],
      "collapsed_sections": []
    },
    "kernelspec": {
      "name": "python3",
      "display_name": "Python 3"
    },
    "language_info": {
      "name": "python"
    },
    "gpuClass": "standard"
  },
  "cells": [
    {
      "cell_type": "markdown",
      "source": [
        "# Sync Code"
      ],
      "metadata": {
        "id": "NH7XX7enTZrO"
      }
    },
    {
      "cell_type": "markdown",
      "source": [
        "Clone the GitHub Repo"
      ],
      "metadata": {
        "id": "h9sw75v2ThYW"
      }
    },
    {
      "cell_type": "code",
      "source": [
        "!cd /content\n",
        "!git clone https://github.com/szappac20/training_camp_21_22.git -b develop"
      ],
      "metadata": {
        "colab": {
          "base_uri": "https://localhost:8080/"
        },
        "id": "TPg35Pr-Tl8l",
        "outputId": "7872411d-578c-419d-9918-b0db29af05c8"
      },
      "execution_count": 45,
      "outputs": [
        {
          "output_type": "stream",
          "name": "stdout",
          "text": [
            "fatal: destination path 'training_camp_21_22' already exists and is not an empty directory.\n"
          ]
        }
      ]
    },
    {
      "cell_type": "markdown",
      "source": [
        "Move to the Python Project root folder and install requirements"
      ],
      "metadata": {
        "id": "IRgC7PqhTsFy"
      }
    },
    {
      "cell_type": "code",
      "source": [
        "%cd /content/training_camp_21_22\n",
        "%pip install --upgrade -r requirements.txt -qqq"
      ],
      "metadata": {
        "colab": {
          "base_uri": "https://localhost:8080/"
        },
        "id": "PYuBILIRTvtw",
        "outputId": "4efaf382-bce4-478b-ee28-584fb4867c99"
      },
      "execution_count": 46,
      "outputs": [
        {
          "output_type": "stream",
          "name": "stdout",
          "text": [
            "/content/training_camp_21_22\n"
          ]
        }
      ]
    },
    {
      "cell_type": "markdown",
      "source": [
        "# Download Dataset from Kaggle competition"
      ],
      "metadata": {
        "id": "7b7mdBBAT2LP"
      }
    },
    {
      "cell_type": "markdown",
      "source": [
        "Download dataset from Kaggle competition pitc-2122-prediction"
      ],
      "metadata": {
        "id": "BeOTFnmtT_Sz"
      }
    },
    {
      "cell_type": "code",
      "source": [
        "!mkdir -p ~/.kaggle"
      ],
      "metadata": {
        "id": "0ph9xnWWUJDE"
      },
      "execution_count": 47,
      "outputs": []
    },
    {
      "cell_type": "markdown",
      "source": [
        "Download the kaggle.json token file"
      ],
      "metadata": {
        "id": "GqFdecwgUNLf"
      }
    },
    {
      "cell_type": "markdown",
      "source": [
        "Download the input file (training and test)"
      ],
      "metadata": {
        "id": "mas9kArmWktp"
      }
    },
    {
      "cell_type": "code",
      "source": [
        "!mkdir -p data/task_1\n",
        "!mkdir -p data/task_2"
      ],
      "metadata": {
        "id": "5TOkPATGWj7A"
      },
      "execution_count": 48,
      "outputs": []
    },
    {
      "cell_type": "code",
      "source": [
        "%cd data/task_1"
      ],
      "metadata": {
        "colab": {
          "base_uri": "https://localhost:8080/"
        },
        "id": "JKxCOm-PFc8o",
        "outputId": "7716d676-d682-48bd-d85d-12dde3c9b28d"
      },
      "execution_count": 49,
      "outputs": [
        {
          "output_type": "stream",
          "name": "stdout",
          "text": [
            "/content/training_camp_21_22/data/task_1\n"
          ]
        }
      ]
    },
    {
      "cell_type": "code",
      "source": [
        "!kaggle competitions download -c pitc-2122-clustering\n",
        "!unzip pitc-2122-clustering.zip"
      ],
      "metadata": {
        "colab": {
          "base_uri": "https://localhost:8080/"
        },
        "id": "1Y8yRnfOFc1E",
        "outputId": "6dcb5992-e855-43d0-b47d-92c62f1aca3e"
      },
      "execution_count": null,
      "outputs": [
        {
          "output_type": "stream",
          "name": "stdout",
          "text": [
            "Warning: Your Kaggle API key is readable by other users on this system! To fix this, you can run 'chmod 600 /root/.kaggle/kaggle.json'\n",
            "Downloading pitc-2122-clustering.zip to /content/training_camp_21_22/data/task_1\n",
            "  0% 0.00/23.1M [00:00<?, ?B/s]\n",
            "100% 23.1M/23.1M [00:00<00:00, 291MB/s]\n",
            "Archive:  pitc-2122-clustering.zip\n",
            "  inflating: sample_submission.csv   \n",
            "  inflating: test.csv                \n",
            "  inflating: train.csv               \n"
          ]
        }
      ]
    },
    {
      "cell_type": "code",
      "source": [
        "%cd ../task_2"
      ],
      "metadata": {
        "colab": {
          "base_uri": "https://localhost:8080/"
        },
        "id": "dSY5QaG9Wo13",
        "outputId": "7bafba60-172a-4958-8a02-9ef026f5aace"
      },
      "execution_count": null,
      "outputs": [
        {
          "output_type": "stream",
          "name": "stdout",
          "text": [
            "/content/training_camp_21_22/data/task_2\n"
          ]
        }
      ]
    },
    {
      "cell_type": "code",
      "source": [
        "!kaggle competitions download -c pitc-2122-prediction\n",
        "!unzip pitc-2122-prediction.zip"
      ],
      "metadata": {
        "colab": {
          "base_uri": "https://localhost:8080/"
        },
        "id": "UcgTK9DiWsIb",
        "outputId": "aa6861f4-f5df-416f-8650-a9c34ea4ef35"
      },
      "execution_count": null,
      "outputs": [
        {
          "output_type": "stream",
          "name": "stdout",
          "text": [
            "Warning: Your Kaggle API key is readable by other users on this system! To fix this, you can run 'chmod 600 /root/.kaggle/kaggle.json'\n",
            "Downloading pitc-2122-prediction.zip to /content/training_camp_21_22/data/task_2\n",
            " 82% 65.0M/79.3M [00:00<00:00, 147MB/s]\n",
            "100% 79.3M/79.3M [00:00<00:00, 124MB/s]\n",
            "Archive:  pitc-2122-prediction.zip\n",
            "  inflating: solution_sample.csv     \n",
            "  inflating: test.csv                \n",
            "  inflating: train.csv               \n"
          ]
        }
      ]
    },
    {
      "cell_type": "code",
      "source": [
        "%cd /content/training_camp_21_22"
      ],
      "metadata": {
        "colab": {
          "base_uri": "https://localhost:8080/"
        },
        "id": "_bEXtXJuW9Y1",
        "outputId": "33bf172d-6210-42a2-f50a-35da105ae9fe"
      },
      "execution_count": null,
      "outputs": [
        {
          "output_type": "stream",
          "name": "stdout",
          "text": [
            "/content/training_camp_21_22\n"
          ]
        }
      ]
    },
    {
      "cell_type": "markdown",
      "source": [
        "# Import packages"
      ],
      "metadata": {
        "id": "eXQScqSaXhwn"
      }
    },
    {
      "cell_type": "markdown",
      "source": [
        "Move back to the Python project folder"
      ],
      "metadata": {
        "id": "Pbk1nsbEXjUy"
      }
    },
    {
      "cell_type": "code",
      "source": [
        "import sys\n",
        "import os\n",
        "\n",
        "sys.path.append(\"training_camp_21_22\")"
      ],
      "metadata": {
        "id": "M589z_OBXCkY"
      },
      "execution_count": 50,
      "outputs": []
    },
    {
      "cell_type": "markdown",
      "source": [
        "Import libraries"
      ],
      "metadata": {
        "id": "3GJd4NsvXsuL"
      }
    },
    {
      "cell_type": "code",
      "source": [
        "import datetime\n",
        "import random\n",
        "import numpy as np\n",
        "import pandas as pd\n",
        "import tensorflow as tf\n",
        "import tensorflow_datasets as tfds\n",
        "import itertools\n",
        "\n",
        "import csv\n",
        "import json\n",
        "from tqdm import tqdm\n",
        "from sklearn.model_selection import train_test_split\n",
        "\n",
        "import training_camp_21_22.config\n",
        "import training_camp_21_22.models\n",
        "\n",
        "import training_camp_21_22.models.baseline\n",
        "import training_camp_21_22.data.window_generator"
      ],
      "metadata": {
        "id": "ieBC_aY0X4Ez"
      },
      "execution_count": 51,
      "outputs": []
    },
    {
      "cell_type": "markdown",
      "source": [
        "# Preprocess Data"
      ],
      "metadata": {
        "id": "g1U47YRBXvDc"
      }
    },
    {
      "cell_type": "markdown",
      "source": [
        "Parse the data (see the previous task!)"
      ],
      "metadata": {
        "id": "QrA5cjqRC3r3"
      }
    },
    {
      "cell_type": "code",
      "source": [
        "# Parse the csv file with json entries\n",
        "\n",
        "def convert_json_2_pd(json_input_path, train = True):\n",
        "    \"\"\"\n",
        "    Read the csv file and extract from json events\n",
        "    any feature useful to classify the consumer consumption profile \n",
        "    \"\"\"\n",
        "    csv_df = pd.DataFrame(columns=[\n",
        "      \"userID\",\n",
        "      \"legalNature\",\n",
        "      \"citizenshipNoUSA\",\n",
        "      \"billing_range.from_date\",\n",
        "      \"billing_range.to_date\",\n",
        "      \"fasciaF0ConsumoFatturato\",\n",
        "      \"fasciaF1ConsumoFatturato\",\n",
        "      \"fasciaF2ConsumoFatturato\",\n",
        "      \"fasciaF3ConsumoFatturato\",\n",
        "      \"fasciaF4ConsumoFatturato\",\n",
        "      \"fasciaF5ConsumoFatturato\",\n",
        "      \"fasciaF6ConsumoFatturato\",\n",
        "      \"res_address_code\",\n",
        "      \"res_address_value\",\n",
        "      \"dom_address_code\",\n",
        "      \"dom_address_value\"\n",
        "    ])\n",
        "\n",
        "\n",
        "    d = {}\n",
        "    labels = {}\n",
        "    i = 0\n",
        "    j = 0\n",
        "    with open(json_input_path) as csvfile:\n",
        "\n",
        "        reader = csv.reader(csvfile, delimiter=',')\n",
        "        next(reader)\n",
        "\n",
        "        for row in tqdm(reader):\n",
        "          # iterate through bill\n",
        "\n",
        "          for bill in json.loads(row[-1]) :\n",
        "            # read consumer id\n",
        "            id = row[0]\n",
        "\n",
        "            # billing_range\n",
        "            billing_range = bill['customData']['billing_range']\n",
        "            energy = bill['customData']['energy']\n",
        "            addresses = bill['bamData']['items']['bamItem']['addresses']\n",
        "            \n",
        "            res_address_code = ''\n",
        "            res_address_value = ''\n",
        "            dom_address_code = ''\n",
        "            dom_address_value = ''\n",
        "\n",
        "            # build the fields\n",
        "            for addr in addresses:\n",
        "              if(addr['type']['code'] == '2'):\n",
        "                res_address_code = addr['city']['code']\n",
        "                res_address_value = addr['city']['value']\n",
        "              elif(addr['type']['code'] == '6'):\n",
        "                dom_address_code = addr['city']['code']\n",
        "                dom_address_value = addr['city']['value']\n",
        "            \n",
        "\n",
        "            d[i] = {\n",
        "              'userID' : id,\n",
        "              'legalNature' : bill['bamData']['items']['bamItem']['legalNature'],\n",
        "              'citizenshipNoUSA' : bill['bamData']['items']['bamItem']['personInfo']['citizenshipNoUSA'],\n",
        "              'billing_range.from_date' : billing_range['from_date'],\n",
        "              'billing_range.to_date' : billing_range['to_date'],\n",
        "              'f1' : energy['fasciaF1ConsumoFatturato'],\n",
        "              'f2' : energy['fasciaF2ConsumoFatturato'],\n",
        "              'f3' : energy['fasciaF3ConsumoFatturato'],\n",
        "              'res_address_code': res_address_code,\n",
        "              'res_address_value': res_address_value,\n",
        "              'dom_address_code': dom_address_code,\n",
        "              'dom_address_value': dom_address_value\n",
        "            }\n",
        "            i = i+1\n",
        "\n",
        "          if(train):\n",
        "            labels[j] = {'userID' : row[0] , 'cluster': int(row[1])}\n",
        "            j += 1\n",
        "\n",
        "\n",
        "    if(train):\n",
        "      return pd.DataFrame.from_dict(d, \"index\"), pd.DataFrame.from_dict(labels, 'index')\n",
        "    return  pd.DataFrame.from_dict(d, \"index\")\n",
        "\n",
        "\n",
        "features_df, labels_df = convert_json_2_pd(json_input_path=\"/content/training_camp_21_22/data/task_1/train.csv\")"
      ],
      "metadata": {
        "id": "niFNMLvYC0mn",
        "colab": {
          "base_uri": "https://localhost:8080/"
        },
        "outputId": "a76d6bdc-8ed4-45bf-d095-8670b4fa3888"
      },
      "execution_count": null,
      "outputs": [
        {
          "output_type": "stream",
          "name": "stderr",
          "text": [
            "70000it [00:21, 3260.90it/s]\n"
          ]
        }
      ]
    },
    {
      "cell_type": "markdown",
      "source": [
        "Fill the missing data (for the data coming from the past history)"
      ],
      "metadata": {
        "id": "MkbFWhJMIeeU"
      }
    },
    {
      "cell_type": "code",
      "source": [
        ""
      ],
      "metadata": {
        "id": "4FuoNqOlHPH3"
      },
      "execution_count": null,
      "outputs": []
    },
    {
      "cell_type": "markdown",
      "source": [
        "# Model"
      ],
      "metadata": {
        "id": "WjQwFmpGEnIh"
      }
    },
    {
      "cell_type": "markdown",
      "source": [
        "Define a function for train and evaluate "
      ],
      "metadata": {
        "id": "rVeXorYOErPZ"
      }
    },
    {
      "cell_type": "code",
      "source": [
        "def train_evaluate_model(\n",
        "        model, train_window, plot_window,\n",
        "        val_performance, test_performance):\n",
        "\n",
        "    history = model.compile_and_fit(train_window)\n",
        "\n",
        "    val_performance[model.name] = model.evaluate(\n",
        "        train_window.val)\n",
        "    test_performance[model.name] = model.evaluate(\n",
        "        train_window.test, verbose=False)\n",
        "\n",
        "    print(f\"Final plot {model.name}\")\n",
        "    plot_window.plot(model)\n",
        "\n",
        "    return history\n"
      ],
      "metadata": {
        "id": "KNJwLc5D7kv6"
      },
      "execution_count": null,
      "outputs": []
    },
    {
      "cell_type": "code",
      "source": [
        "train_2022_05 = train_df[(train_df.index <= '2022-05-01')]\n",
        "val_2022_05 = val_df[(val_df.index <= '2022-05-01')]\n",
        "test_2022_05 = test_df[(test_df.index <= '2022-05-01')]"
      ],
      "metadata": {
        "id": "Nl4xAvm17nkT"
      },
      "execution_count": null,
      "outputs": []
    },
    {
      "cell_type": "markdown",
      "source": [
        "Define a window generator (to manage the composition of a dataset in the case of a time-series)"
      ],
      "metadata": {
        "id": "_ujHP2LTE32d"
      }
    },
    {
      "cell_type": "code",
      "source": [
        "monthly_window = training_camp_21_22.data.window_generator.WindowGenerator (\n",
        "            input_width=1, label_width=1, shift=1,\n",
        "            train_df=train_2022_05 ,val_df=val_2022_05, test_df=test_2022_05,\n",
        "            label_columns=[\"f1\", \"f2\", \"f3\"])\n",
        "\n",
        "quadrimestral_window = training_camp_21_22.data.window_generator.WindowGenerator(\n",
        "            input_width=6, label_width=6, shift=1,\n",
        "            train_df=train_2022_05, val_df=val_2022_05,  test_df=test_2022_05,\n",
        "            label_columns=[\"f1\", \"f2\", \"f3\"])"
      ],
      "metadata": {
        "id": "_tEpg3iJJHJL"
      },
      "execution_count": null,
      "outputs": []
    },
    {
      "cell_type": "code",
      "source": [
        "val_performance = {}\n",
        "test_performance = {}\n",
        "column_indices = {name: i for i, name in enumerate(train_df.columns)}\n",
        "baseline = training_camp_21_22.models.baseline.Baseline(\n",
        "        label_indices=[column_indices[f] for f in [\"f1\", \"f2\", \"f3\"]])\n",
        "\n",
        "baseline_history = train_evaluate_model(\n",
        "    baseline, monthly_window, quadrimestral_window, val_performance, test_performance)\n"
      ],
      "metadata": {
        "colab": {
          "base_uri": "https://localhost:8080/",
          "height": 620
        },
        "id": "S3Bn9-wNJXfx",
        "outputId": "4bfd8f9e-868b-4517-8165-5f0162540e64"
      },
      "execution_count": null,
      "outputs": [
        {
          "output_type": "stream",
          "name": "stdout",
          "text": [
            "3/3 [==============================] - 0s 5ms/step - loss: 326.6286 - mean_absolute_error: 8.1540\n",
            "Final plot baseline\n"
          ]
        },
        {
          "output_type": "display_data",
          "data": {
            "text/plain": [
              "<Figure size 864x576 with 3 Axes>"
            ],
            "image/png": "[encoded data removed]"
          },
          "metadata": {
            "needs_background": "light"
          }
        }
      ]
    },
    {
      "cell_type": "markdown",
      "source": [
        "Plot models"
      ],
      "metadata": {
        "id": "hFWFg-b17vxo"
      }
    },
    {
      "cell_type": "code",
      "source": [
        "def plot_models(model_list):\n",
        "\n",
        "    for model in model_list:\n",
        "        model_plot_path = os.path.join(\n",
        "            training_camp_21_22.config.plot_path,\n",
        "            f\"{model.name}_model.png\")\n",
        "        os.makedirs(model_plot_path, exist_ok=True)\n",
        "        model.summary()\n",
        "        tf.keras.utils.plot_model(\n",
        "            model, model_plot_path, show_shapes=True)\n"
      ],
      "metadata": {
        "id": "DAhjx_0z7pdx"
      },
      "execution_count": null,
      "outputs": []
    },
    {
      "cell_type": "markdown",
      "source": [
        "# Baseline model"
      ],
      "metadata": {
        "id": "2IlaoXLvk2wz"
      }
    },
    {
      "cell_type": "code",
      "source": [
        "app = test_features_ds_pd_2[test_features_ds_pd_2[\"date\"] > \"2022-05-01\"]\n",
        "app = app[[\"date\", 'f1', 'f2', 'f3', 'month', 'user', \"year\"]]"
      ],
      "metadata": {
        "id": "Qc5GmcLFk5Lr"
      },
      "execution_count": null,
      "outputs": []
    },
    {
      "cell_type": "code",
      "source": [
        "def baseline_predictions(df):\n",
        "    df = df.drop(df[(df[\"month\"]==6) & (df[\"year\"]==2023)].index)\n",
        "    return df\n",
        "\n",
        "def create_kaggle_submission(df):\n",
        "\n",
        "    def build_key(row):\n",
        "        output = (\n",
        "            str(row[\"user\"]) + \"_\" +\n",
        "            datetime.datetime.strftime(row[\"date\"], \"%m_%Y\")) \n",
        "        return output\n",
        "\n",
        "    df[\"key\"] = df.apply(build_key, axis=1)\n",
        "    df.drop([\"date\", \"user\", \"month\", \"year\"], axis=1, inplace=True)\n",
        "    df.rename(\n",
        "        columns={\n",
        "            \"key\": \"user_month_year\",\n",
        "            \"f1\": \"next_month_f1\",\n",
        "            \"f2\": \"next_month_f2\",\n",
        "            \"f3\": \"next_month_f3\"},\n",
        "            inplace=True)\n",
        "    return df"
      ],
      "metadata": {
        "id": "-w8_ZtAFo9fx"
      },
      "execution_count": null,
      "outputs": []
    },
    {
      "cell_type": "markdown",
      "source": [
        ""
      ],
      "metadata": {
        "id": "H2PGJ9Ptk4tt"
      }
    },
    {
      "cell_type": "code",
      "source": [
        "baseline_predictions = baseline_predictions(app)\n",
        "baseline_predictions = create_kaggle_submission(baseline_predictions)"
      ],
      "metadata": {
        "id": "HNmMVsxikVjz"
      },
      "execution_count": null,
      "outputs": []
    },
    {
      "cell_type": "markdown",
      "source": [
        "# Neural Models must be inserted here"
      ],
      "metadata": {
        "id": "QB-lf2JOMZL8"
      }
    },
    {
      "cell_type": "code",
      "source": [
        "# Insert a list of models here\n",
        "# (linear, echo-state network, dense, multi_step_dense, long-short time memory)\n",
        "\n",
        "\n"
      ],
      "metadata": {
        "id": "rwEslsLr7zB3"
      },
      "execution_count": null,
      "outputs": []
    },
    {
      "cell_type": "code",
      "source": [
        "from keras.models import Sequential\n",
        "from keras.layers import Dense\n",
        "from keras.optimizers import SGD"
      ],
      "metadata": {
        "id": "25vHOWaEHwuz"
      },
      "execution_count": null,
      "outputs": []
    },
    {
      "cell_type": "code",
      "source": [
        "pd.read_csv(\"/content/training_camp_21_22/data/task_2/train.csv\").head()"
      ],
      "metadata": {
        "colab": {
          "base_uri": "https://localhost:8080/",
          "height": 206
        },
        "id": "HAK5Qb04II7Z",
        "outputId": "35bbe075-9a07-49e7-a053-7cddc596a926"
      },
      "execution_count": null,
      "outputs": [
        {
          "output_type": "execute_result",
          "data": {
            "text/plain": [
              "  user_month_year                                             events  \\\n",
              "0       0_07_2022  [{\"source\":\"energy-simulazione\",\"sourceVersion...   \n",
              "1       0_08_2022  [{\"source\":\"energy-simulazione\",\"sourceVersion...   \n",
              "2       0_09_2022  [{\"source\":\"energy-simulazione\",\"sourceVersion...   \n",
              "3       0_10_2022  [{\"source\":\"energy-simulazione\",\"sourceVersion...   \n",
              "4       0_11_2022  [{\"source\":\"energy-simulazione\",\"sourceVersion...   \n",
              "\n",
              "   next_month_f1  next_month_f2  next_month_f3  \n",
              "0           59.0           44.0           57.0  \n",
              "1           32.0           31.0           37.0  \n",
              "2            2.0           33.0           25.0  \n",
              "3            5.0           40.0           20.0  \n",
              "4           -0.0           54.0           27.0  "
            ],
            "text/html": [
              "\n",
              "  <div id=\"df-d18f7a15-d3f3-4974-8537-7ec4add41952\">\n",
              "    <div class=\"colab-df-container\">\n",
              "      <div>\n",
              "<style scoped>\n",
              "    .dataframe tbody tr th:only-of-type {\n",
              "        vertical-align: middle;\n",
              "    }\n",
              "\n",
              "    .dataframe tbody tr th {\n",
              "        vertical-align: top;\n",
              "    }\n",
              "\n",
              "    .dataframe thead th {\n",
              "        text-align: right;\n",
              "    }\n",
              "</style>\n",
              "<table border=\"1\" class=\"dataframe\">\n",
              "  <thead>\n",
              "    <tr style=\"text-align: right;\">\n",
              "      <th></th>\n",
              "      <th>user_month_year</th>\n",
              "      <th>events</th>\n",
              "      <th>next_month_f1</th>\n",
              "      <th>next_month_f2</th>\n",
              "      <th>next_month_f3</th>\n",
              "    </tr>\n",
              "  </thead>\n",
              "  <tbody>\n",
              "    <tr>\n",
              "      <th>0</th>\n",
              "      <td>0_07_2022</td>\n",
              "      <td>[{\"source\":\"energy-simulazione\",\"sourceVersion...</td>\n",
              "      <td>59.0</td>\n",
              "      <td>44.0</td>\n",
              "      <td>57.0</td>\n",
              "    </tr>\n",
              "    <tr>\n",
              "      <th>1</th>\n",
              "      <td>0_08_2022</td>\n",
              "      <td>[{\"source\":\"energy-simulazione\",\"sourceVersion...</td>\n",
              "      <td>32.0</td>\n",
              "      <td>31.0</td>\n",
              "      <td>37.0</td>\n",
              "    </tr>\n",
              "    <tr>\n",
              "      <th>2</th>\n",
              "      <td>0_09_2022</td>\n",
              "      <td>[{\"source\":\"energy-simulazione\",\"sourceVersion...</td>\n",
              "      <td>2.0</td>\n",
              "      <td>33.0</td>\n",
              "      <td>25.0</td>\n",
              "    </tr>\n",
              "    <tr>\n",
              "      <th>3</th>\n",
              "      <td>0_10_2022</td>\n",
              "      <td>[{\"source\":\"energy-simulazione\",\"sourceVersion...</td>\n",
              "      <td>5.0</td>\n",
              "      <td>40.0</td>\n",
              "      <td>20.0</td>\n",
              "    </tr>\n",
              "    <tr>\n",
              "      <th>4</th>\n",
              "      <td>0_11_2022</td>\n",
              "      <td>[{\"source\":\"energy-simulazione\",\"sourceVersion...</td>\n",
              "      <td>-0.0</td>\n",
              "      <td>54.0</td>\n",
              "      <td>27.0</td>\n",
              "    </tr>\n",
              "  </tbody>\n",
              "</table>\n",
              "</div>\n",
              "      <button class=\"colab-df-convert\" onclick=\"convertToInteractive('df-d18f7a15-d3f3-4974-8537-7ec4add41952')\"\n",
              "              title=\"Convert this dataframe to an interactive table.\"\n",
              "              style=\"display:none;\">\n",
              "        \n",
              "  <svg xmlns=\"http://www.w3.org/2000/svg\" height=\"24px\"viewBox=\"0 0 24 24\"\n",
              "       width=\"24px\">\n",
              "    <path d=\"M0 0h24v24H0V0z\" fill=\"none\"/>\n",
              "    <path d=\"M18.56 5.44l.94 2.06.94-2.06 2.06-.94-2.06-.94-.94-2.06-.94 2.06-2.06.94zm-11 1L8.5 8.5l.94-2.06 2.06-.94-2.06-.94L8.5 2.5l-.94 2.06-2.06.94zm10 10l.94 2.06.94-2.06 2.06-.94-2.06-.94-.94-2.06-.94 2.06-2.06.94z\"/><path d=\"M17.41 7.96l-1.37-1.37c-.4-.4-.92-.59-1.43-.59-.52 0-1.04.2-1.43.59L10.3 9.45l-7.72 7.72c-.78.78-.78 2.05 0 2.83L4 21.41c.39.39.9.59 1.41.59.51 0 1.02-.2 1.41-.59l7.78-7.78 2.81-2.81c.8-.78.8-2.07 0-2.86zM5.41 20L4 18.59l7.72-7.72 1.47 1.35L5.41 20z\"/>\n",
              "  </svg>\n",
              "      </button>\n",
              "      \n",
              "  <style>\n",
              "    .colab-df-container {\n",
              "      display:flex;\n",
              "      flex-wrap:wrap;\n",
              "      gap: 12px;\n",
              "    }\n",
              "\n",
              "    .colab-df-convert {\n",
              "      background-color: #E8F0FE;\n",
              "      border: none;\n",
              "      border-radius: 50%;\n",
              "      cursor: pointer;\n",
              "      display: none;\n",
              "      fill: #1967D2;\n",
              "      height: 32px;\n",
              "      padding: 0 0 0 0;\n",
              "      width: 32px;\n",
              "    }\n",
              "\n",
              "    .colab-df-convert:hover {\n",
              "      background-color: #E2EBFA;\n",
              "      box-shadow: 0px 1px 2px rgba(60, 64, 67, 0.3), 0px 1px 3px 1px rgba(60, 64, 67, 0.15);\n",
              "      fill: #174EA6;\n",
              "    }\n",
              "\n",
              "    [theme=dark] .colab-df-convert {\n",
              "      background-color: #3B4455;\n",
              "      fill: #D2E3FC;\n",
              "    }\n",
              "\n",
              "    [theme=dark] .colab-df-convert:hover {\n",
              "      background-color: #434B5C;\n",
              "      box-shadow: 0px 1px 3px 1px rgba(0, 0, 0, 0.15);\n",
              "      filter: drop-shadow(0px 1px 2px rgba(0, 0, 0, 0.3));\n",
              "      fill: #FFFFFF;\n",
              "    }\n",
              "  </style>\n",
              "\n",
              "      <script>\n",
              "        const buttonEl =\n",
              "          document.querySelector('#df-d18f7a15-d3f3-4974-8537-7ec4add41952 button.colab-df-convert');\n",
              "        buttonEl.style.display =\n",
              "          google.colab.kernel.accessAllowed ? 'block' : 'none';\n",
              "\n",
              "        async function convertToInteractive(key) {\n",
              "          const element = document.querySelector('#df-d18f7a15-d3f3-4974-8537-7ec4add41952');\n",
              "          const dataTable =\n",
              "            await google.colab.kernel.invokeFunction('convertToInteractive',\n",
              "                                                     [key], {});\n",
              "          if (!dataTable) return;\n",
              "\n",
              "          const docLinkHtml = 'Like what you see? Visit the ' +\n",
              "            '<a target=\"_blank\" href=https://colab.research.google.com/notebooks/data_table.ipynb>data table notebook</a>'\n",
              "            + ' to learn more about interactive tables.';\n",
              "          element.innerHTML = '';\n",
              "          dataTable['output_type'] = 'display_data';\n",
              "          await google.colab.output.renderOutput(dataTable, element);\n",
              "          const docLink = document.createElement('div');\n",
              "          docLink.innerHTML = docLinkHtml;\n",
              "          element.appendChild(docLink);\n",
              "        }\n",
              "      </script>\n",
              "    </div>\n",
              "  </div>\n",
              "  "
            ]
          },
          "metadata": {},
          "execution_count": 34
        }
      ]
    },
    {
      "cell_type": "code",
      "source": [
        "# Parse the csv file with json entries\n",
        "\n",
        "def convert_json_2_pd(json_input_path, train = True):\n",
        "    \"\"\"\n",
        "    Read the csv file and extract from json events\n",
        "    any feature useful to classify the consumer consumption profile \n",
        "    \"\"\"\n",
        "    csv_df = pd.DataFrame(columns=[\n",
        "      \"user_month\",\n",
        "      \"fasciaF1ConsumoFatturato\",\n",
        "      \"fasciaF2ConsumoFatturato\",\n",
        "      \"fasciaF3ConsumoFatturato\",\n",
        "      \"res_address_code\",\n",
        "      \"res_address_value\",\n",
        "      \"dom_address_code\",\n",
        "      \"dom_address_value\",\n",
        "      \"next_f1\",\n",
        "      \"next_f2\",\n",
        "      \"next_f3\"\n",
        "    ])\n",
        "\n",
        "\n",
        "    d = {}\n",
        "    truth = {}\n",
        "    i = 0\n",
        "    j = 0\n",
        "    with open(json_input_path) as csvfile:\n",
        "\n",
        "        reader = csv.reader(csvfile, delimiter=',')\n",
        "        next(reader)\n",
        "\n",
        "        for row in tqdm(reader):\n",
        "          # iterate through bill\n",
        "\n",
        "          for bill in json.loads(row[1]) :\n",
        "            # read consumer id\n",
        "            user_month = row[0]\n",
        "\n",
        "            # billing_range\n",
        "            billing_range = bill['customData']['billing_range']\n",
        "            energy = bill['customData']['energy']\n",
        "            addresses = bill['bamData']['items']['bamItem']['addresses']\n",
        "            \n",
        "            res_address_code = ''\n",
        "            res_address_value = ''\n",
        "            dom_address_code = ''\n",
        "            dom_address_value = ''\n",
        "\n",
        "            # build the fields\n",
        "            for addr in addresses:\n",
        "              if(addr['type']['code'] == '2'):\n",
        "                res_address_code = addr['city']['code']\n",
        "                res_address_value = addr['city']['value']\n",
        "              elif(addr['type']['code'] == '6'):\n",
        "                dom_address_code = addr['city']['code']\n",
        "                dom_address_value = addr['city']['value']\n",
        "            \n",
        "\n",
        "            d[i] = {\n",
        "              'user_month' : user_month,\n",
        "              'month': int(user_month.split('_')[1]),\n",
        "              'f1' : float(energy['fasciaF1ConsumoFatturato']),\n",
        "              'f2' : float(energy['fasciaF2ConsumoFatturato']),\n",
        "              'f3' : float(energy['fasciaF3ConsumoFatturato']),\n",
        "              'res_address_code': res_address_code,\n",
        "              'res_address_value': res_address_value,\n",
        "              'dom_address_code': dom_address_code,\n",
        "              'dom_address_value': dom_address_value,\n",
        "              'next_f1' : float(row[2]) if train else None,\n",
        "              'next_f2' : float(row[3]) if train else None,\n",
        "              'next_f3' : float(row[4]) if train else None\n",
        "            }\n",
        "            i = i+1\n",
        "\n",
        "          if(train):\n",
        "            truth[j] = {'user_month' : user_month, 'next_f1' : row[2],\n",
        "              'next_f2' : row[3],\n",
        "              'next_f3' : row[4]}\n",
        "            j += 1\n",
        "\n",
        "\n",
        "    if(train):\n",
        "      return pd.DataFrame.from_dict(d, \"index\"), pd.DataFrame.from_dict(truth, 'index')\n",
        "    return  pd.DataFrame.from_dict(d, \"index\")"
      ],
      "metadata": {
        "id": "Ly5eNGBGIqOc"
      },
      "execution_count": 52,
      "outputs": []
    },
    {
      "cell_type": "code",
      "source": [
        "features_df, truth_df = convert_json_2_pd(json_input_path=\"/content/training_camp_21_22/data/task_2/train.csv\")"
      ],
      "metadata": {
        "id": "WVEt3_eKMo75",
        "outputId": "34ff7cf1-a05e-4d8d-f150-1664dbfe66a4",
        "colab": {
          "base_uri": "https://localhost:8080/"
        }
      },
      "execution_count": 53,
      "outputs": [
        {
          "output_type": "stream",
          "name": "stderr",
          "text": [
            "770000it [02:10, 5882.50it/s]\n"
          ]
        }
      ]
    },
    {
      "cell_type": "code",
      "source": [
        "features_df.head()"
      ],
      "metadata": {
        "id": "KlqHPPmkqt42",
        "outputId": "d240681e-9890-4291-a7fa-4306ebfc7691",
        "colab": {
          "base_uri": "https://localhost:8080/",
          "height": 270
        }
      },
      "execution_count": null,
      "outputs": [
        {
          "output_type": "execute_result",
          "data": {
            "text/plain": [
              "  user_month  month    f1    f2    f3 res_address_code res_address_value  \\\n",
              "0  0_07_2022      7  56.0  42.0  60.0             E844        Malalbergo   \n",
              "1  0_08_2022      8  59.0  44.0  57.0             E844        Malalbergo   \n",
              "2  0_09_2022      9  32.0  31.0  37.0             E844        Malalbergo   \n",
              "3  0_10_2022     10   2.0  33.0  25.0             E844        Malalbergo   \n",
              "4  0_11_2022     11   5.0  40.0  20.0             E844        Malalbergo   \n",
              "\n",
              "  dom_address_code dom_address_value  next_f1  next_f2  next_f3  \n",
              "0             E844        Malalbergo     59.0     44.0     57.0  \n",
              "1             E844        Malalbergo     32.0     31.0     37.0  \n",
              "2             E844        Malalbergo      2.0     33.0     25.0  \n",
              "3             E844        Malalbergo      5.0     40.0     20.0  \n",
              "4             E844        Malalbergo     -0.0     54.0     27.0  "
            ],
            "text/html": [
              "\n",
              "  <div id=\"df-a8123893-5f04-4fef-a36e-cb2373b86ea7\">\n",
              "    <div class=\"colab-df-container\">\n",
              "      <div>\n",
              "<style scoped>\n",
              "    .dataframe tbody tr th:only-of-type {\n",
              "        vertical-align: middle;\n",
              "    }\n",
              "\n",
              "    .dataframe tbody tr th {\n",
              "        vertical-align: top;\n",
              "    }\n",
              "\n",
              "    .dataframe thead th {\n",
              "        text-align: right;\n",
              "    }\n",
              "</style>\n",
              "<table border=\"1\" class=\"dataframe\">\n",
              "  <thead>\n",
              "    <tr style=\"text-align: right;\">\n",
              "      <th></th>\n",
              "      <th>user_month</th>\n",
              "      <th>month</th>\n",
              "      <th>f1</th>\n",
              "      <th>f2</th>\n",
              "      <th>f3</th>\n",
              "      <th>res_address_code</th>\n",
              "      <th>res_address_value</th>\n",
              "      <th>dom_address_code</th>\n",
              "      <th>dom_address_value</th>\n",
              "      <th>next_f1</th>\n",
              "      <th>next_f2</th>\n",
              "      <th>next_f3</th>\n",
              "    </tr>\n",
              "  </thead>\n",
              "  <tbody>\n",
              "    <tr>\n",
              "      <th>0</th>\n",
              "      <td>0_07_2022</td>\n",
              "      <td>7</td>\n",
              "      <td>56.0</td>\n",
              "      <td>42.0</td>\n",
              "      <td>60.0</td>\n",
              "      <td>E844</td>\n",
              "      <td>Malalbergo</td>\n",
              "      <td>E844</td>\n",
              "      <td>Malalbergo</td>\n",
              "      <td>59.0</td>\n",
              "      <td>44.0</td>\n",
              "      <td>57.0</td>\n",
              "    </tr>\n",
              "    <tr>\n",
              "      <th>1</th>\n",
              "      <td>0_08_2022</td>\n",
              "      <td>8</td>\n",
              "      <td>59.0</td>\n",
              "      <td>44.0</td>\n",
              "      <td>57.0</td>\n",
              "      <td>E844</td>\n",
              "      <td>Malalbergo</td>\n",
              "      <td>E844</td>\n",
              "      <td>Malalbergo</td>\n",
              "      <td>32.0</td>\n",
              "      <td>31.0</td>\n",
              "      <td>37.0</td>\n",
              "    </tr>\n",
              "    <tr>\n",
              "      <th>2</th>\n",
              "      <td>0_09_2022</td>\n",
              "      <td>9</td>\n",
              "      <td>32.0</td>\n",
              "      <td>31.0</td>\n",
              "      <td>37.0</td>\n",
              "      <td>E844</td>\n",
              "      <td>Malalbergo</td>\n",
              "      <td>E844</td>\n",
              "      <td>Malalbergo</td>\n",
              "      <td>2.0</td>\n",
              "      <td>33.0</td>\n",
              "      <td>25.0</td>\n",
              "    </tr>\n",
              "    <tr>\n",
              "      <th>3</th>\n",
              "      <td>0_10_2022</td>\n",
              "      <td>10</td>\n",
              "      <td>2.0</td>\n",
              "      <td>33.0</td>\n",
              "      <td>25.0</td>\n",
              "      <td>E844</td>\n",
              "      <td>Malalbergo</td>\n",
              "      <td>E844</td>\n",
              "      <td>Malalbergo</td>\n",
              "      <td>5.0</td>\n",
              "      <td>40.0</td>\n",
              "      <td>20.0</td>\n",
              "    </tr>\n",
              "    <tr>\n",
              "      <th>4</th>\n",
              "      <td>0_11_2022</td>\n",
              "      <td>11</td>\n",
              "      <td>5.0</td>\n",
              "      <td>40.0</td>\n",
              "      <td>20.0</td>\n",
              "      <td>E844</td>\n",
              "      <td>Malalbergo</td>\n",
              "      <td>E844</td>\n",
              "      <td>Malalbergo</td>\n",
              "      <td>-0.0</td>\n",
              "      <td>54.0</td>\n",
              "      <td>27.0</td>\n",
              "    </tr>\n",
              "  </tbody>\n",
              "</table>\n",
              "</div>\n",
              "      <button class=\"colab-df-convert\" onclick=\"convertToInteractive('df-a8123893-5f04-4fef-a36e-cb2373b86ea7')\"\n",
              "              title=\"Convert this dataframe to an interactive table.\"\n",
              "              style=\"display:none;\">\n",
              "        \n",
              "  <svg xmlns=\"http://www.w3.org/2000/svg\" height=\"24px\"viewBox=\"0 0 24 24\"\n",
              "       width=\"24px\">\n",
              "    <path d=\"M0 0h24v24H0V0z\" fill=\"none\"/>\n",
              "    <path d=\"M18.56 5.44l.94 2.06.94-2.06 2.06-.94-2.06-.94-.94-2.06-.94 2.06-2.06.94zm-11 1L8.5 8.5l.94-2.06 2.06-.94-2.06-.94L8.5 2.5l-.94 2.06-2.06.94zm10 10l.94 2.06.94-2.06 2.06-.94-2.06-.94-.94-2.06-.94 2.06-2.06.94z\"/><path d=\"M17.41 7.96l-1.37-1.37c-.4-.4-.92-.59-1.43-.59-.52 0-1.04.2-1.43.59L10.3 9.45l-7.72 7.72c-.78.78-.78 2.05 0 2.83L4 21.41c.39.39.9.59 1.41.59.51 0 1.02-.2 1.41-.59l7.78-7.78 2.81-2.81c.8-.78.8-2.07 0-2.86zM5.41 20L4 18.59l7.72-7.72 1.47 1.35L5.41 20z\"/>\n",
              "  </svg>\n",
              "      </button>\n",
              "      \n",
              "  <style>\n",
              "    .colab-df-container {\n",
              "      display:flex;\n",
              "      flex-wrap:wrap;\n",
              "      gap: 12px;\n",
              "    }\n",
              "\n",
              "    .colab-df-convert {\n",
              "      background-color: #E8F0FE;\n",
              "      border: none;\n",
              "      border-radius: 50%;\n",
              "      cursor: pointer;\n",
              "      display: none;\n",
              "      fill: #1967D2;\n",
              "      height: 32px;\n",
              "      padding: 0 0 0 0;\n",
              "      width: 32px;\n",
              "    }\n",
              "\n",
              "    .colab-df-convert:hover {\n",
              "      background-color: #E2EBFA;\n",
              "      box-shadow: 0px 1px 2px rgba(60, 64, 67, 0.3), 0px 1px 3px 1px rgba(60, 64, 67, 0.15);\n",
              "      fill: #174EA6;\n",
              "    }\n",
              "\n",
              "    [theme=dark] .colab-df-convert {\n",
              "      background-color: #3B4455;\n",
              "      fill: #D2E3FC;\n",
              "    }\n",
              "\n",
              "    [theme=dark] .colab-df-convert:hover {\n",
              "      background-color: #434B5C;\n",
              "      box-shadow: 0px 1px 3px 1px rgba(0, 0, 0, 0.15);\n",
              "      filter: drop-shadow(0px 1px 2px rgba(0, 0, 0, 0.3));\n",
              "      fill: #FFFFFF;\n",
              "    }\n",
              "  </style>\n",
              "\n",
              "      <script>\n",
              "        const buttonEl =\n",
              "          document.querySelector('#df-a8123893-5f04-4fef-a36e-cb2373b86ea7 button.colab-df-convert');\n",
              "        buttonEl.style.display =\n",
              "          google.colab.kernel.accessAllowed ? 'block' : 'none';\n",
              "\n",
              "        async function convertToInteractive(key) {\n",
              "          const element = document.querySelector('#df-a8123893-5f04-4fef-a36e-cb2373b86ea7');\n",
              "          const dataTable =\n",
              "            await google.colab.kernel.invokeFunction('convertToInteractive',\n",
              "                                                     [key], {});\n",
              "          if (!dataTable) return;\n",
              "\n",
              "          const docLinkHtml = 'Like what you see? Visit the ' +\n",
              "            '<a target=\"_blank\" href=https://colab.research.google.com/notebooks/data_table.ipynb>data table notebook</a>'\n",
              "            + ' to learn more about interactive tables.';\n",
              "          element.innerHTML = '';\n",
              "          dataTable['output_type'] = 'display_data';\n",
              "          await google.colab.output.renderOutput(dataTable, element);\n",
              "          const docLink = document.createElement('div');\n",
              "          docLink.innerHTML = docLinkHtml;\n",
              "          element.appendChild(docLink);\n",
              "        }\n",
              "      </script>\n",
              "    </div>\n",
              "  </div>\n",
              "  "
            ]
          },
          "metadata": {},
          "execution_count": 37
        }
      ]
    },
    {
      "cell_type": "code",
      "source": [
        "from sklearn.model_selection import train_test_split\n",
        "\n",
        "# use only base features\n",
        "X=features_df[['month', 'f1', 'f2', 'f3']]\n",
        "#'res_address_code', 'res_address_value', 'dom_address_code','dom_address_value'\n",
        "\n",
        "# define ground truths\n",
        "y=features_df[['next_f1', 'next_f2', 'next_f3']]\n",
        "\n",
        "# split into train and validation\n",
        "X_train, X_val, y_train, y_val = train_test_split(X, y, test_size=0.33, random_state=42)"
      ],
      "metadata": {
        "id": "Vt3dM2-2KA2K"
      },
      "execution_count": 54,
      "outputs": []
    },
    {
      "cell_type": "code",
      "source": [
        "X_train.head()"
      ],
      "metadata": {
        "id": "2bI5pjZmri8u",
        "outputId": "6024085e-2834-49a7-ad7e-5e3cb0d6dedc",
        "colab": {
          "base_uri": "https://localhost:8080/",
          "height": 206
        }
      },
      "execution_count": 55,
      "outputs": [
        {
          "output_type": "execute_result",
          "data": {
            "text/plain": [
              "        month    f1    f2    f3\n",
              "415516      9  52.0  50.0  37.0\n",
              "107398     12   0.0  10.0  18.0\n",
              "355084     11  18.0  50.0  30.0\n",
              "670102     11  27.0  30.0  21.0\n",
              "374653     11  24.0  23.0  22.0"
            ],
            "text/html": [
              "\n",
              "  <div id=\"df-f5fb58a6-02dd-4a39-aa7f-008e6983ef55\">\n",
              "    <div class=\"colab-df-container\">\n",
              "      <div>\n",
              "<style scoped>\n",
              "    .dataframe tbody tr th:only-of-type {\n",
              "        vertical-align: middle;\n",
              "    }\n",
              "\n",
              "    .dataframe tbody tr th {\n",
              "        vertical-align: top;\n",
              "    }\n",
              "\n",
              "    .dataframe thead th {\n",
              "        text-align: right;\n",
              "    }\n",
              "</style>\n",
              "<table border=\"1\" class=\"dataframe\">\n",
              "  <thead>\n",
              "    <tr style=\"text-align: right;\">\n",
              "      <th></th>\n",
              "      <th>month</th>\n",
              "      <th>f1</th>\n",
              "      <th>f2</th>\n",
              "      <th>f3</th>\n",
              "    </tr>\n",
              "  </thead>\n",
              "  <tbody>\n",
              "    <tr>\n",
              "      <th>415516</th>\n",
              "      <td>9</td>\n",
              "      <td>52.0</td>\n",
              "      <td>50.0</td>\n",
              "      <td>37.0</td>\n",
              "    </tr>\n",
              "    <tr>\n",
              "      <th>107398</th>\n",
              "      <td>12</td>\n",
              "      <td>0.0</td>\n",
              "      <td>10.0</td>\n",
              "      <td>18.0</td>\n",
              "    </tr>\n",
              "    <tr>\n",
              "      <th>355084</th>\n",
              "      <td>11</td>\n",
              "      <td>18.0</td>\n",
              "      <td>50.0</td>\n",
              "      <td>30.0</td>\n",
              "    </tr>\n",
              "    <tr>\n",
              "      <th>670102</th>\n",
              "      <td>11</td>\n",
              "      <td>27.0</td>\n",
              "      <td>30.0</td>\n",
              "      <td>21.0</td>\n",
              "    </tr>\n",
              "    <tr>\n",
              "      <th>374653</th>\n",
              "      <td>11</td>\n",
              "      <td>24.0</td>\n",
              "      <td>23.0</td>\n",
              "      <td>22.0</td>\n",
              "    </tr>\n",
              "  </tbody>\n",
              "</table>\n",
              "</div>\n",
              "      <button class=\"colab-df-convert\" onclick=\"convertToInteractive('df-f5fb58a6-02dd-4a39-aa7f-008e6983ef55')\"\n",
              "              title=\"Convert this dataframe to an interactive table.\"\n",
              "              style=\"display:none;\">\n",
              "        \n",
              "  <svg xmlns=\"http://www.w3.org/2000/svg\" height=\"24px\"viewBox=\"0 0 24 24\"\n",
              "       width=\"24px\">\n",
              "    <path d=\"M0 0h24v24H0V0z\" fill=\"none\"/>\n",
              "    <path d=\"M18.56 5.44l.94 2.06.94-2.06 2.06-.94-2.06-.94-.94-2.06-.94 2.06-2.06.94zm-11 1L8.5 8.5l.94-2.06 2.06-.94-2.06-.94L8.5 2.5l-.94 2.06-2.06.94zm10 10l.94 2.06.94-2.06 2.06-.94-2.06-.94-.94-2.06-.94 2.06-2.06.94z\"/><path d=\"M17.41 7.96l-1.37-1.37c-.4-.4-.92-.59-1.43-.59-.52 0-1.04.2-1.43.59L10.3 9.45l-7.72 7.72c-.78.78-.78 2.05 0 2.83L4 21.41c.39.39.9.59 1.41.59.51 0 1.02-.2 1.41-.59l7.78-7.78 2.81-2.81c.8-.78.8-2.07 0-2.86zM5.41 20L4 18.59l7.72-7.72 1.47 1.35L5.41 20z\"/>\n",
              "  </svg>\n",
              "      </button>\n",
              "      \n",
              "  <style>\n",
              "    .colab-df-container {\n",
              "      display:flex;\n",
              "      flex-wrap:wrap;\n",
              "      gap: 12px;\n",
              "    }\n",
              "\n",
              "    .colab-df-convert {\n",
              "      background-color: #E8F0FE;\n",
              "      border: none;\n",
              "      border-radius: 50%;\n",
              "      cursor: pointer;\n",
              "      display: none;\n",
              "      fill: #1967D2;\n",
              "      height: 32px;\n",
              "      padding: 0 0 0 0;\n",
              "      width: 32px;\n",
              "    }\n",
              "\n",
              "    .colab-df-convert:hover {\n",
              "      background-color: #E2EBFA;\n",
              "      box-shadow: 0px 1px 2px rgba(60, 64, 67, 0.3), 0px 1px 3px 1px rgba(60, 64, 67, 0.15);\n",
              "      fill: #174EA6;\n",
              "    }\n",
              "\n",
              "    [theme=dark] .colab-df-convert {\n",
              "      background-color: #3B4455;\n",
              "      fill: #D2E3FC;\n",
              "    }\n",
              "\n",
              "    [theme=dark] .colab-df-convert:hover {\n",
              "      background-color: #434B5C;\n",
              "      box-shadow: 0px 1px 3px 1px rgba(0, 0, 0, 0.15);\n",
              "      filter: drop-shadow(0px 1px 2px rgba(0, 0, 0, 0.3));\n",
              "      fill: #FFFFFF;\n",
              "    }\n",
              "  </style>\n",
              "\n",
              "      <script>\n",
              "        const buttonEl =\n",
              "          document.querySelector('#df-f5fb58a6-02dd-4a39-aa7f-008e6983ef55 button.colab-df-convert');\n",
              "        buttonEl.style.display =\n",
              "          google.colab.kernel.accessAllowed ? 'block' : 'none';\n",
              "\n",
              "        async function convertToInteractive(key) {\n",
              "          const element = document.querySelector('#df-f5fb58a6-02dd-4a39-aa7f-008e6983ef55');\n",
              "          const dataTable =\n",
              "            await google.colab.kernel.invokeFunction('convertToInteractive',\n",
              "                                                     [key], {});\n",
              "          if (!dataTable) return;\n",
              "\n",
              "          const docLinkHtml = 'Like what you see? Visit the ' +\n",
              "            '<a target=\"_blank\" href=https://colab.research.google.com/notebooks/data_table.ipynb>data table notebook</a>'\n",
              "            + ' to learn more about interactive tables.';\n",
              "          element.innerHTML = '';\n",
              "          dataTable['output_type'] = 'display_data';\n",
              "          await google.colab.output.renderOutput(dataTable, element);\n",
              "          const docLink = document.createElement('div');\n",
              "          docLink.innerHTML = docLinkHtml;\n",
              "          element.appendChild(docLink);\n",
              "        }\n",
              "      </script>\n",
              "    </div>\n",
              "  </div>\n",
              "  "
            ]
          },
          "metadata": {},
          "execution_count": 55
        }
      ]
    },
    {
      "cell_type": "code",
      "source": [
        "from sklearn.preprocessing import StandardScaler\n",
        "\n",
        "# define a scaler to normalize data\n",
        "scaler = StandardScaler().fit(X_train)\n",
        "X_train = scaler.transform(X_train)\n",
        "X_val = scaler.transform(X_val)"
      ],
      "metadata": {
        "id": "gzmukYH-JmlI"
      },
      "execution_count": 56,
      "outputs": []
    },
    {
      "cell_type": "code",
      "source": [
        "# build the neural network\n",
        "\n",
        "model = Sequential()\n",
        "model.add(Dense(8, input_dim=4, activation='relu'))\n",
        "model.add(Dense(8, activation='relu'))\n",
        "model.add(Dense(3, activation='linear'))\n",
        "model.compile(loss='mae', optimizer='adam')\n",
        "\n",
        "# fit the data\n",
        "model.fit(X_train, y_train,epochs=6, verbose=1, validation_data=(X_val, y_val))\n"
      ],
      "metadata": {
        "colab": {
          "base_uri": "https://localhost:8080/"
        },
        "id": "P-waN0fHHxkC",
        "outputId": "4b30e9ca-2ad3-4785-89be-028b0b1b6230"
      },
      "execution_count": 57,
      "outputs": [
        {
          "output_type": "stream",
          "name": "stdout",
          "text": [
            "Epoch 1/6\n",
            "16122/16122 [==============================] - 65s 4ms/step - loss: 8.2908 - val_loss: 7.2910\n",
            "Epoch 2/6\n",
            "16122/16122 [==============================] - 40s 3ms/step - loss: 7.3067 - val_loss: 7.2849\n",
            "Epoch 3/6\n",
            "16122/16122 [==============================] - 38s 2ms/step - loss: 7.3054 - val_loss: 7.2788\n",
            "Epoch 4/6\n",
            "16122/16122 [==============================] - 48s 3ms/step - loss: 7.3041 - val_loss: 7.2916\n",
            "Epoch 5/6\n",
            "16122/16122 [==============================] - 40s 2ms/step - loss: 7.3032 - val_loss: 7.2783\n",
            "Epoch 6/6\n",
            "16122/16122 [==============================] - 43s 3ms/step - loss: 7.3042 - val_loss: 7.3008\n"
          ]
        },
        {
          "output_type": "execute_result",
          "data": {
            "text/plain": [
              "<keras.callbacks.History at 0x7f27440edf50>"
            ]
          },
          "metadata": {},
          "execution_count": 57
        }
      ]
    },
    {
      "cell_type": "code",
      "source": [
        "# extract data\n",
        "test_df = convert_json_2_pd(json_input_path=\"/content/training_camp_21_22/data/task_2/test.csv\", train=False)\n",
        "\n",
        "# define test matrix\n",
        "X_test = scaler.transform(test_df[['month', 'f1', 'f2', 'f3']])"
      ],
      "metadata": {
        "id": "HR6DxA7Tyjpx",
        "outputId": "2241f7b8-54d5-4b8e-e827-70cba92ab63e",
        "colab": {
          "base_uri": "https://localhost:8080/"
        }
      },
      "execution_count": 60,
      "outputs": [
        {
          "output_type": "stream",
          "name": "stderr",
          "text": [
            "110000it [00:19, 5513.96it/s]\n"
          ]
        }
      ]
    },
    {
      "cell_type": "code",
      "source": [
        "# make prediction\n",
        "pred = model.predict(X_test)"
      ],
      "metadata": {
        "id": "vMBnNEXZM6P_",
        "outputId": "b9a3ed52-9827-4034-c73b-aa215e936ec4",
        "colab": {
          "base_uri": "https://localhost:8080/"
        }
      },
      "execution_count": 61,
      "outputs": [
        {
          "output_type": "stream",
          "name": "stdout",
          "text": [
            "3438/3438 [==============================] - 5s 1ms/step\n"
          ]
        }
      ]
    },
    {
      "cell_type": "code",
      "source": [
        "# explore prediction\n",
        "pred"
      ],
      "metadata": {
        "id": "v7M5PnirN5_p",
        "outputId": "87833446-3639-4070-886c-75d01001cfa2",
        "colab": {
          "base_uri": "https://localhost:8080/"
        }
      },
      "execution_count": 62,
      "outputs": [
        {
          "output_type": "execute_result",
          "data": {
            "text/plain": [
              "array([[ 0.8049984, 33.19956  , 33.459377 ],\n",
              "       [ 0.5808215, 24.771086 , 35.293495 ],\n",
              "       [ 2.4821596, 20.23807  , 33.261612 ],\n",
              "       ...,\n",
              "       [46.752388 , 46.207    , 35.08097  ],\n",
              "       [43.061172 , 39.552013 , 31.375372 ],\n",
              "       [35.97249  , 28.106995 , 17.243465 ]], dtype=float32)"
            ]
          },
          "metadata": {},
          "execution_count": 62
        }
      ]
    },
    {
      "cell_type": "code",
      "source": [
        "def create_submission_for_dense(users, pred):\n",
        "  ''' \n",
        "    define the submission structure starting from the keys list and predictions\n",
        "  '''\n",
        "  sub = {\n",
        "      'user_month_year' : users,\n",
        "      'next_month_f1': pred[:,0],\n",
        "      'next_month_f2': pred[:,1],\n",
        "      'next_month_f3': pred[:,2]\n",
        "  }\n",
        "\n",
        "  return pd.DataFrame.from_dict(sub)"
      ],
      "metadata": {
        "id": "rhHIX8bRNBi8"
      },
      "execution_count": 63,
      "outputs": []
    },
    {
      "cell_type": "markdown",
      "source": [
        "# Submit solution to Kaggle competition"
      ],
      "metadata": {
        "id": "lem1OcCxjquo"
      }
    },
    {
      "cell_type": "markdown",
      "source": [
        "Create a termporary folder for submissions"
      ],
      "metadata": {
        "id": "ELA1MHivjvkr"
      }
    },
    {
      "cell_type": "code",
      "source": [
        "!mkdir -p submissions"
      ],
      "metadata": {
        "id": "a1fjBxTrjrzX"
      },
      "execution_count": 66,
      "outputs": []
    },
    {
      "cell_type": "code",
      "source": [
        "baseline_predictions_path = \"submissions/baseline.csv\"\n",
        "baseline_predictions.to_csv(baseline_predictions_path, index=False)"
      ],
      "metadata": {
        "id": "Gg06fnZZjy8M"
      },
      "execution_count": null,
      "outputs": []
    },
    {
      "cell_type": "code",
      "source": [
        "!kaggle competitions submit -c pitc-2122-prediction -f \"submissions/baseline.csv\" -m \"Baseline prediction\""
      ],
      "metadata": {
        "colab": {
          "base_uri": "https://localhost:8080/"
        },
        "id": "0NOFLNTfj9n0",
        "outputId": "82689f11-3570-40dd-fa24-cbb93c303bae"
      },
      "execution_count": null,
      "outputs": [
        {
          "output_type": "stream",
          "name": "stdout",
          "text": [
            "100% 3.00M/3.00M [00:00<00:00, 6.90MB/s]\n",
            "Successfully submitted to PITC 21/22 - Prediction"
          ]
        }
      ]
    },
    {
      "cell_type": "markdown",
      "source": [
        "Submission for Dense Neural Network"
      ],
      "metadata": {
        "id": "ZTqn3ZUMN-NX"
      }
    },
    {
      "cell_type": "code",
      "source": [
        "path = \"submissions/dense.csv\"\n",
        "create_submission_for_dense(test_df['user_month'], pred).to_csv(path, index = False)"
      ],
      "metadata": {
        "id": "2NZ1azbyNaft"
      },
      "execution_count": 67,
      "outputs": []
    },
    {
      "cell_type": "code",
      "source": [
        "!kaggle competitions submit -c pitc-2122-prediction -f \"submissions/dense.csv\" -m \"Dense NN prediction\""
      ],
      "metadata": {
        "id": "vY9kml5QNozy",
        "outputId": "7dbb7546-8abc-4b2d-82ae-ec4dc7cbbe8a",
        "colab": {
          "base_uri": "https://localhost:8080/"
        }
      },
      "execution_count": 68,
      "outputs": [
        {
          "output_type": "stream",
          "name": "stdout",
          "text": [
            "Warning: Your Kaggle API key is readable by other users on this system! To fix this, you can run 'chmod 600 /root/.kaggle/kaggle.json'\n",
            "100% 4.51M/4.51M [00:03<00:00, 1.29MB/s]\n",
            "Successfully submitted to PITC 21/22 - Prediction"
          ]
        }
      ]
    }
  ]
}