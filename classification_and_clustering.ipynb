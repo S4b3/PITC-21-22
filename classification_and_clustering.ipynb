{
  "nbformat": 4,
  "nbformat_minor": 0,
  "metadata": {
    "colab": {
      "name": "classification_and_clustering.ipynb",
      "provenance": [],
      "collapsed_sections": [],
      "include_colab_link": true
    },
    "kernelspec": {
      "name": "python3",
      "display_name": "Python 3"
    },
    "language_info": {
      "name": "python"
    }
  },
  "cells": [
    {
      "cell_type": "markdown",
      "metadata": {
        "id": "view-in-github",
        "colab_type": "text"
      },
      "source": [
        "<a href=\"https://colab.research.google.com/github/S4b3/PITC-21-22/blob/main/classification_and_clustering.ipynb\" target=\"_parent\"><img src=\"https://colab.research.google.com/assets/colab-badge.svg\" alt=\"Open In Colab\"/></a>"
      ]
    },
    {
      "cell_type": "markdown",
      "source": [
        "# Sync Code"
      ],
      "metadata": {
        "id": "-KFSmChtewli"
      }
    },
    {
      "cell_type": "markdown",
      "source": [
        "Clone the GitHub Repo\n"
      ],
      "metadata": {
        "id": "jguqXhldB-z4"
      }
    },
    {
      "cell_type": "code",
      "source": [
        "!cd /content\n",
        "!git clone https://github.com/szappac20/training_camp_21_22.git -b develop"
      ],
      "metadata": {
        "colab": {
          "base_uri": "https://localhost:8080/"
        },
        "id": "Ha1I4VSuB8Hp",
        "outputId": "a643873e-6bec-4998-e56f-bb8c5a8cb376"
      },
      "execution_count": null,
      "outputs": [
        {
          "output_type": "stream",
          "name": "stdout",
          "text": [
            "Cloning into 'training_camp_21_22'...\n",
            "remote: Enumerating objects: 22, done.\u001b[K\n",
            "remote: Counting objects: 100% (22/22), done.\u001b[K\n",
            "remote: Compressing objects: 100% (17/17), done.\u001b[K\n",
            "remote: Total 22 (delta 4), reused 17 (delta 2), pack-reused 0\u001b[K\n",
            "Unpacking objects: 100% (22/22), done.\n"
          ]
        }
      ]
    },
    {
      "cell_type": "markdown",
      "source": [
        "`Move to the Python Project root folder` and install requirements"
      ],
      "metadata": {
        "id": "r_NIiReYe-2I"
      }
    },
    {
      "cell_type": "code",
      "execution_count": null,
      "metadata": {
        "colab": {
          "base_uri": "https://localhost:8080/"
        },
        "id": "TH6YsTk_Bs5_",
        "outputId": "ce91b43e-78ec-41f4-8968-380fa1086d1f"
      },
      "outputs": [
        {
          "output_type": "stream",
          "name": "stdout",
          "text": [
            "/content/training_camp_21_22\n",
            "\u001b[K     |████████████████████████████████| 38.1 MB 1.2 MB/s \n",
            "\u001b[K     |████████████████████████████████| 9.8 MB 43.4 MB/s \n",
            "\u001b[K     |████████████████████████████████| 511.7 MB 6.1 kB/s \n",
            "\u001b[K     |████████████████████████████████| 554 kB 29.5 MB/s \n",
            "\u001b[K     |████████████████████████████████| 13.1 MB 494 kB/s \n",
            "\u001b[K     |████████████████████████████████| 1.1 MB 29.7 MB/s \n",
            "\u001b[K     |████████████████████████████████| 15.8 MB 30.8 MB/s \n",
            "\u001b[K     |████████████████████████████████| 1.6 MB 45.4 MB/s \n",
            "\u001b[K     |████████████████████████████████| 438 kB 30.7 MB/s \n",
            "\u001b[K     |████████████████████████████████| 5.8 MB 40.7 MB/s \n",
            "\u001b[31mERROR: pip's dependency resolver does not currently take into account all the packages that are installed. This behaviour is the source of the following dependency conflicts.\n",
            "albumentations 0.1.12 requires imgaug<0.2.7,>=0.2.5, but you have imgaug 0.2.9 which is incompatible.\u001b[0m\n",
            "\u001b[?25h"
          ]
        }
      ],
      "source": [
        "%cd /content/training_camp_21_22\n",
        "%pip install --upgrade -r requirements.txt -qqq"
      ]
    },
    {
      "cell_type": "markdown",
      "source": [
        "# Download Dataset from Kaggle competition"
      ],
      "metadata": {
        "id": "Hw9CL1-a3U6r"
      }
    },
    {
      "cell_type": "markdown",
      "source": [
        "Download dataset from Kaggle competition pitc-2122-clustering"
      ],
      "metadata": {
        "id": "MbrkchGZIbeo"
      }
    },
    {
      "cell_type": "code",
      "source": [
        "!mkdir -p ~/.kaggle"
      ],
      "metadata": {
        "id": "l2qHvKpFyZGo"
      },
      "execution_count": null,
      "outputs": []
    },
    {
      "cell_type": "markdown",
      "source": [
        "Download the kaggle.json token file"
      ],
      "metadata": {
        "id": "uPvXm5x12YkB"
      }
    },
    {
      "cell_type": "code",
      "source": [
        "!gdown 1w81nWRhAr1E_hX9OSncuMxlCefxnP2zN -O  ~/.kaggle/kaggle.json\n",
        "!chmod 600 ~/.kaggle/kaggle.json"
      ],
      "metadata": {
        "colab": {
          "base_uri": "https://localhost:8080/"
        },
        "id": "QJXSu0BLzJh_",
        "outputId": "b34e1878-521c-44d7-8d5d-8b179d4f9ae3"
      },
      "execution_count": null,
      "outputs": [
        {
          "output_type": "stream",
          "name": "stdout",
          "text": [
            "Downloading...\n",
            "From: https://drive.google.com/uc?id=1w81nWRhAr1E_hX9OSncuMxlCefxnP2zN\n",
            "To: /root/.kaggle/kaggle.json\n",
            "\r  0% 0.00/74.0 [00:00<?, ?B/s]\r100% 74.0/74.0 [00:00<00:00, 56.6kB/s]\n"
          ]
        }
      ]
    },
    {
      "cell_type": "markdown",
      "source": [
        "Download the input file (training and test)"
      ],
      "metadata": {
        "id": "VASRT8uz2xvU"
      }
    },
    {
      "cell_type": "code",
      "source": [
        "!mkdir -p data/task_1"
      ],
      "metadata": {
        "id": "O13ut6JsLcom"
      },
      "execution_count": null,
      "outputs": []
    },
    {
      "cell_type": "code",
      "source": [
        "%cd data/task_1"
      ],
      "metadata": {
        "colab": {
          "base_uri": "https://localhost:8080/"
        },
        "id": "cN9ErWyvMCKo",
        "outputId": "6b5a4437-194f-4fdf-da7a-4dae28296637"
      },
      "execution_count": null,
      "outputs": [
        {
          "output_type": "stream",
          "name": "stdout",
          "text": [
            "/content/training_camp_21_22/data/task_1\n"
          ]
        }
      ]
    },
    {
      "cell_type": "code",
      "source": [
        "!kaggle competitions download -c pitc-2122-clustering\n",
        "!unzip pitc-2122-clustering.zip"
      ],
      "metadata": {
        "colab": {
          "base_uri": "https://localhost:8080/"
        },
        "id": "GRoQSvu5IZ4q",
        "outputId": "d5ce284f-0534-4f57-c57b-d87d93137da8"
      },
      "execution_count": null,
      "outputs": [
        {
          "output_type": "stream",
          "name": "stdout",
          "text": [
            "Downloading pitc-2122-clustering.zip to /content/training_camp_21_22/data/task_1\n",
            "\r  0% 0.00/23.1M [00:00<?, ?B/s]\r 48% 11.0M/23.1M [00:00<00:00, 115MB/s]\n",
            "\r100% 23.1M/23.1M [00:00<00:00, 159MB/s]\n",
            "Archive:  pitc-2122-clustering.zip\n",
            "  inflating: sample_submission.csv   \n",
            "  inflating: test.csv                \n",
            "  inflating: train.csv               \n"
          ]
        }
      ]
    },
    {
      "cell_type": "code",
      "source": [
        "%cd /content/training_camp_21_22"
      ],
      "metadata": {
        "colab": {
          "base_uri": "https://localhost:8080/"
        },
        "id": "_r1-tC19MLEO",
        "outputId": "7b2ad992-40e8-4b0a-8aba-43e7269e827d"
      },
      "execution_count": null,
      "outputs": [
        {
          "output_type": "stream",
          "name": "stdout",
          "text": [
            "/content/training_camp_21_22\n"
          ]
        }
      ]
    },
    {
      "cell_type": "markdown",
      "source": [
        "# Import packages"
      ],
      "metadata": {
        "id": "hLSxcbQW3aeA"
      }
    },
    {
      "cell_type": "markdown",
      "source": [
        "Move back to the Python project folder "
      ],
      "metadata": {
        "id": "VDbrFnra2rug"
      }
    },
    {
      "cell_type": "code",
      "source": [
        "%cd /content/training_camp_21_22"
      ],
      "metadata": {
        "colab": {
          "base_uri": "https://localhost:8080/"
        },
        "id": "sx3J1MnT19Cr",
        "outputId": "6a4f7334-ce8a-4d0d-ff6a-7a76aa85abef"
      },
      "execution_count": null,
      "outputs": [
        {
          "output_type": "stream",
          "name": "stdout",
          "text": [
            "/content/training_camp_21_22\n"
          ]
        }
      ]
    },
    {
      "cell_type": "markdown",
      "source": [
        "Set the Python Path variable to the source folder"
      ],
      "metadata": {
        "id": "p6fRGb_ZgNYi"
      }
    },
    {
      "cell_type": "code",
      "source": [
        "import sys\n",
        "import os\n",
        "\n",
        "sys.path.append(\"training_camp_21_22\")"
      ],
      "metadata": {
        "id": "tcDMyFZNFYYR"
      },
      "execution_count": null,
      "outputs": []
    },
    {
      "cell_type": "markdown",
      "source": [
        "Import libraries"
      ],
      "metadata": {
        "id": "jJud7i8NgVLC"
      }
    },
    {
      "cell_type": "code",
      "source": [
        "import numpy as np\n",
        "import pandas as pd\n",
        "from sklearn.metrics import confusion_matrix\n",
        "import tensorflow_decision_forests as tfdf\n",
        "\n",
        "import training_camp_21_22.config\n",
        "import training_camp_21_22.data.commercial_offer\n",
        "import training_camp_21_22.models\n",
        "import training_camp_21_22.view.classification"
      ],
      "metadata": {
        "id": "oN28pu4HIj6m"
      },
      "execution_count": null,
      "outputs": []
    },
    {
      "cell_type": "markdown",
      "source": [
        "# Preprocess Data"
      ],
      "metadata": {
        "id": "6ssxVp6bgdsi"
      }
    },
    {
      "cell_type": "markdown",
      "source": [
        "Dowload the data"
      ],
      "metadata": {
        "id": "4vKzC3MXgomb"
      }
    },
    {
      "cell_type": "code",
      "source": [
        "# Parse the csv file with json entries\n",
        "\n",
        "def convert_json_2_pd(json_input_path):\n",
        "    \"\"\"\n",
        "    Read the csv file and extract from json events\n",
        "    any feature useful to classify the consumer consumption profile \n",
        "    \"\"\"\n",
        "\n",
        "    #TODO: THIS IS JUST A FAKE RESULT\n",
        "    num_users = 100\n",
        "    features_df = pd.DataFrame({\n",
        "        \"user\": range(num_users),\n",
        "        \"f1\": np.random.normal(loc=60., scale=20., size=num_users),\n",
        "        \"f2\": np.random.normal(loc=60., scale=20., size=num_users),\n",
        "        \"f3\": np.random.normal(loc=60., scale=20., size=num_users)})\n",
        "    \n",
        "    labels_df = pd.DataFrame({\n",
        "        \"user\": range(num_users),\n",
        "        \"cluster\": np.random.randint(0, 3, size=num_users)})\n",
        "\n",
        "    return features_df, labels_df\n",
        "\n",
        "features_df, labels_df = convert_json_2_pd(json_input_path=\"\")"
      ],
      "metadata": {
        "id": "_IbXPAobhc3J"
      },
      "execution_count": null,
      "outputs": []
    },
    {
      "cell_type": "markdown",
      "source": [
        "Let's have a look at the collected data!"
      ],
      "metadata": {
        "id": "cFCugIEOgtbC"
      }
    },
    {
      "cell_type": "code",
      "source": [
        "features_df.head()"
      ],
      "metadata": {
        "colab": {
          "base_uri": "https://localhost:8080/",
          "height": 206
        },
        "id": "5x2w2yF4paye",
        "outputId": "2521a725-5d61-4d5e-d88c-11e20dd8140b"
      },
      "execution_count": null,
      "outputs": [
        {
          "output_type": "execute_result",
          "data": {
            "text/plain": [
              "   user         f1         f2          f3\n",
              "0     0  63.773756  57.779517   49.172062\n",
              "1     1  65.241985  84.120170   57.415482\n",
              "2     2  64.058132  70.720680  120.889262\n",
              "3     3  48.216510  39.759390   82.717919\n",
              "4     4  37.150495  46.460181   42.381139"
            ],
            "text/html": [
              "\n",
              "  <div id=\"df-fe2d3b7d-b749-4592-81be-0e7acd936090\">\n",
              "    <div class=\"colab-df-container\">\n",
              "      <div>\n",
              "<style scoped>\n",
              "    .dataframe tbody tr th:only-of-type {\n",
              "        vertical-align: middle;\n",
              "    }\n",
              "\n",
              "    .dataframe tbody tr th {\n",
              "        vertical-align: top;\n",
              "    }\n",
              "\n",
              "    .dataframe thead th {\n",
              "        text-align: right;\n",
              "    }\n",
              "</style>\n",
              "<table border=\"1\" class=\"dataframe\">\n",
              "  <thead>\n",
              "    <tr style=\"text-align: right;\">\n",
              "      <th></th>\n",
              "      <th>user</th>\n",
              "      <th>f1</th>\n",
              "      <th>f2</th>\n",
              "      <th>f3</th>\n",
              "    </tr>\n",
              "  </thead>\n",
              "  <tbody>\n",
              "    <tr>\n",
              "      <th>0</th>\n",
              "      <td>0</td>\n",
              "      <td>63.773756</td>\n",
              "      <td>57.779517</td>\n",
              "      <td>49.172062</td>\n",
              "    </tr>\n",
              "    <tr>\n",
              "      <th>1</th>\n",
              "      <td>1</td>\n",
              "      <td>65.241985</td>\n",
              "      <td>84.120170</td>\n",
              "      <td>57.415482</td>\n",
              "    </tr>\n",
              "    <tr>\n",
              "      <th>2</th>\n",
              "      <td>2</td>\n",
              "      <td>64.058132</td>\n",
              "      <td>70.720680</td>\n",
              "      <td>120.889262</td>\n",
              "    </tr>\n",
              "    <tr>\n",
              "      <th>3</th>\n",
              "      <td>3</td>\n",
              "      <td>48.216510</td>\n",
              "      <td>39.759390</td>\n",
              "      <td>82.717919</td>\n",
              "    </tr>\n",
              "    <tr>\n",
              "      <th>4</th>\n",
              "      <td>4</td>\n",
              "      <td>37.150495</td>\n",
              "      <td>46.460181</td>\n",
              "      <td>42.381139</td>\n",
              "    </tr>\n",
              "  </tbody>\n",
              "</table>\n",
              "</div>\n",
              "      <button class=\"colab-df-convert\" onclick=\"convertToInteractive('df-fe2d3b7d-b749-4592-81be-0e7acd936090')\"\n",
              "              title=\"Convert this dataframe to an interactive table.\"\n",
              "              style=\"display:none;\">\n",
              "        \n",
              "  <svg xmlns=\"http://www.w3.org/2000/svg\" height=\"24px\"viewBox=\"0 0 24 24\"\n",
              "       width=\"24px\">\n",
              "    <path d=\"M0 0h24v24H0V0z\" fill=\"none\"/>\n",
              "    <path d=\"M18.56 5.44l.94 2.06.94-2.06 2.06-.94-2.06-.94-.94-2.06-.94 2.06-2.06.94zm-11 1L8.5 8.5l.94-2.06 2.06-.94-2.06-.94L8.5 2.5l-.94 2.06-2.06.94zm10 10l.94 2.06.94-2.06 2.06-.94-2.06-.94-.94-2.06-.94 2.06-2.06.94z\"/><path d=\"M17.41 7.96l-1.37-1.37c-.4-.4-.92-.59-1.43-.59-.52 0-1.04.2-1.43.59L10.3 9.45l-7.72 7.72c-.78.78-.78 2.05 0 2.83L4 21.41c.39.39.9.59 1.41.59.51 0 1.02-.2 1.41-.59l7.78-7.78 2.81-2.81c.8-.78.8-2.07 0-2.86zM5.41 20L4 18.59l7.72-7.72 1.47 1.35L5.41 20z\"/>\n",
              "  </svg>\n",
              "      </button>\n",
              "      \n",
              "  <style>\n",
              "    .colab-df-container {\n",
              "      display:flex;\n",
              "      flex-wrap:wrap;\n",
              "      gap: 12px;\n",
              "    }\n",
              "\n",
              "    .colab-df-convert {\n",
              "      background-color: #E8F0FE;\n",
              "      border: none;\n",
              "      border-radius: 50%;\n",
              "      cursor: pointer;\n",
              "      display: none;\n",
              "      fill: #1967D2;\n",
              "      height: 32px;\n",
              "      padding: 0 0 0 0;\n",
              "      width: 32px;\n",
              "    }\n",
              "\n",
              "    .colab-df-convert:hover {\n",
              "      background-color: #E2EBFA;\n",
              "      box-shadow: 0px 1px 2px rgba(60, 64, 67, 0.3), 0px 1px 3px 1px rgba(60, 64, 67, 0.15);\n",
              "      fill: #174EA6;\n",
              "    }\n",
              "\n",
              "    [theme=dark] .colab-df-convert {\n",
              "      background-color: #3B4455;\n",
              "      fill: #D2E3FC;\n",
              "    }\n",
              "\n",
              "    [theme=dark] .colab-df-convert:hover {\n",
              "      background-color: #434B5C;\n",
              "      box-shadow: 0px 1px 3px 1px rgba(0, 0, 0, 0.15);\n",
              "      filter: drop-shadow(0px 1px 2px rgba(0, 0, 0, 0.3));\n",
              "      fill: #FFFFFF;\n",
              "    }\n",
              "  </style>\n",
              "\n",
              "      <script>\n",
              "        const buttonEl =\n",
              "          document.querySelector('#df-fe2d3b7d-b749-4592-81be-0e7acd936090 button.colab-df-convert');\n",
              "        buttonEl.style.display =\n",
              "          google.colab.kernel.accessAllowed ? 'block' : 'none';\n",
              "\n",
              "        async function convertToInteractive(key) {\n",
              "          const element = document.querySelector('#df-fe2d3b7d-b749-4592-81be-0e7acd936090');\n",
              "          const dataTable =\n",
              "            await google.colab.kernel.invokeFunction('convertToInteractive',\n",
              "                                                     [key], {});\n",
              "          if (!dataTable) return;\n",
              "\n",
              "          const docLinkHtml = 'Like what you see? Visit the ' +\n",
              "            '<a target=\"_blank\" href=https://colab.research.google.com/notebooks/data_table.ipynb>data table notebook</a>'\n",
              "            + ' to learn more about interactive tables.';\n",
              "          element.innerHTML = '';\n",
              "          dataTable['output_type'] = 'display_data';\n",
              "          await google.colab.output.renderOutput(dataTable, element);\n",
              "          const docLink = document.createElement('div');\n",
              "          docLink.innerHTML = docLinkHtml;\n",
              "          element.appendChild(docLink);\n",
              "        }\n",
              "      </script>\n",
              "    </div>\n",
              "  </div>\n",
              "  "
            ]
          },
          "metadata": {},
          "execution_count": 17
        }
      ]
    },
    {
      "cell_type": "code",
      "source": [
        "labels_df.head()"
      ],
      "metadata": {
        "colab": {
          "base_uri": "https://localhost:8080/",
          "height": 206
        },
        "id": "m-ieUBR2Gj1i",
        "outputId": "2f9c7148-e116-40f9-e651-deace5a81ca1"
      },
      "execution_count": null,
      "outputs": [
        {
          "output_type": "execute_result",
          "data": {
            "text/plain": [
              "   user  cluster\n",
              "0     0        2\n",
              "1     1        0\n",
              "2     2        0\n",
              "3     3        2\n",
              "4     4        1"
            ],
            "text/html": [
              "\n",
              "  <div id=\"df-7174e7cd-23d0-4220-bf52-824b633b6e7c\">\n",
              "    <div class=\"colab-df-container\">\n",
              "      <div>\n",
              "<style scoped>\n",
              "    .dataframe tbody tr th:only-of-type {\n",
              "        vertical-align: middle;\n",
              "    }\n",
              "\n",
              "    .dataframe tbody tr th {\n",
              "        vertical-align: top;\n",
              "    }\n",
              "\n",
              "    .dataframe thead th {\n",
              "        text-align: right;\n",
              "    }\n",
              "</style>\n",
              "<table border=\"1\" class=\"dataframe\">\n",
              "  <thead>\n",
              "    <tr style=\"text-align: right;\">\n",
              "      <th></th>\n",
              "      <th>user</th>\n",
              "      <th>cluster</th>\n",
              "    </tr>\n",
              "  </thead>\n",
              "  <tbody>\n",
              "    <tr>\n",
              "      <th>0</th>\n",
              "      <td>0</td>\n",
              "      <td>2</td>\n",
              "    </tr>\n",
              "    <tr>\n",
              "      <th>1</th>\n",
              "      <td>1</td>\n",
              "      <td>0</td>\n",
              "    </tr>\n",
              "    <tr>\n",
              "      <th>2</th>\n",
              "      <td>2</td>\n",
              "      <td>0</td>\n",
              "    </tr>\n",
              "    <tr>\n",
              "      <th>3</th>\n",
              "      <td>3</td>\n",
              "      <td>2</td>\n",
              "    </tr>\n",
              "    <tr>\n",
              "      <th>4</th>\n",
              "      <td>4</td>\n",
              "      <td>1</td>\n",
              "    </tr>\n",
              "  </tbody>\n",
              "</table>\n",
              "</div>\n",
              "      <button class=\"colab-df-convert\" onclick=\"convertToInteractive('df-7174e7cd-23d0-4220-bf52-824b633b6e7c')\"\n",
              "              title=\"Convert this dataframe to an interactive table.\"\n",
              "              style=\"display:none;\">\n",
              "        \n",
              "  <svg xmlns=\"http://www.w3.org/2000/svg\" height=\"24px\"viewBox=\"0 0 24 24\"\n",
              "       width=\"24px\">\n",
              "    <path d=\"M0 0h24v24H0V0z\" fill=\"none\"/>\n",
              "    <path d=\"M18.56 5.44l.94 2.06.94-2.06 2.06-.94-2.06-.94-.94-2.06-.94 2.06-2.06.94zm-11 1L8.5 8.5l.94-2.06 2.06-.94-2.06-.94L8.5 2.5l-.94 2.06-2.06.94zm10 10l.94 2.06.94-2.06 2.06-.94-2.06-.94-.94-2.06-.94 2.06-2.06.94z\"/><path d=\"M17.41 7.96l-1.37-1.37c-.4-.4-.92-.59-1.43-.59-.52 0-1.04.2-1.43.59L10.3 9.45l-7.72 7.72c-.78.78-.78 2.05 0 2.83L4 21.41c.39.39.9.59 1.41.59.51 0 1.02-.2 1.41-.59l7.78-7.78 2.81-2.81c.8-.78.8-2.07 0-2.86zM5.41 20L4 18.59l7.72-7.72 1.47 1.35L5.41 20z\"/>\n",
              "  </svg>\n",
              "      </button>\n",
              "      \n",
              "  <style>\n",
              "    .colab-df-container {\n",
              "      display:flex;\n",
              "      flex-wrap:wrap;\n",
              "      gap: 12px;\n",
              "    }\n",
              "\n",
              "    .colab-df-convert {\n",
              "      background-color: #E8F0FE;\n",
              "      border: none;\n",
              "      border-radius: 50%;\n",
              "      cursor: pointer;\n",
              "      display: none;\n",
              "      fill: #1967D2;\n",
              "      height: 32px;\n",
              "      padding: 0 0 0 0;\n",
              "      width: 32px;\n",
              "    }\n",
              "\n",
              "    .colab-df-convert:hover {\n",
              "      background-color: #E2EBFA;\n",
              "      box-shadow: 0px 1px 2px rgba(60, 64, 67, 0.3), 0px 1px 3px 1px rgba(60, 64, 67, 0.15);\n",
              "      fill: #174EA6;\n",
              "    }\n",
              "\n",
              "    [theme=dark] .colab-df-convert {\n",
              "      background-color: #3B4455;\n",
              "      fill: #D2E3FC;\n",
              "    }\n",
              "\n",
              "    [theme=dark] .colab-df-convert:hover {\n",
              "      background-color: #434B5C;\n",
              "      box-shadow: 0px 1px 3px 1px rgba(0, 0, 0, 0.15);\n",
              "      filter: drop-shadow(0px 1px 2px rgba(0, 0, 0, 0.3));\n",
              "      fill: #FFFFFF;\n",
              "    }\n",
              "  </style>\n",
              "\n",
              "      <script>\n",
              "        const buttonEl =\n",
              "          document.querySelector('#df-7174e7cd-23d0-4220-bf52-824b633b6e7c button.colab-df-convert');\n",
              "        buttonEl.style.display =\n",
              "          google.colab.kernel.accessAllowed ? 'block' : 'none';\n",
              "\n",
              "        async function convertToInteractive(key) {\n",
              "          const element = document.querySelector('#df-7174e7cd-23d0-4220-bf52-824b633b6e7c');\n",
              "          const dataTable =\n",
              "            await google.colab.kernel.invokeFunction('convertToInteractive',\n",
              "                                                     [key], {});\n",
              "          if (!dataTable) return;\n",
              "\n",
              "          const docLinkHtml = 'Like what you see? Visit the ' +\n",
              "            '<a target=\"_blank\" href=https://colab.research.google.com/notebooks/data_table.ipynb>data table notebook</a>'\n",
              "            + ' to learn more about interactive tables.';\n",
              "          element.innerHTML = '';\n",
              "          dataTable['output_type'] = 'display_data';\n",
              "          await google.colab.output.renderOutput(dataTable, element);\n",
              "          const docLink = document.createElement('div');\n",
              "          docLink.innerHTML = docLinkHtml;\n",
              "          element.appendChild(docLink);\n",
              "        }\n",
              "      </script>\n",
              "    </div>\n",
              "  </div>\n",
              "  "
            ]
          },
          "metadata": {},
          "execution_count": 18
        }
      ]
    },
    {
      "cell_type": "markdown",
      "source": [
        "Load the commercial offers"
      ],
      "metadata": {
        "id": "8fTtbtqxhU5L"
      }
    },
    {
      "cell_type": "code",
      "source": [
        "#Label 0\n",
        "mono_oraria = training_camp_21_22.data.commercial_offer.CommercialOffer(\n",
        "    price_dict={\"f1\": 0.28, \"f2\": 0.28, \"f3\": 0.28}, name=\"mono_oraria\")\n",
        "\n",
        "# Label 1\n",
        "serale = training_camp_21_22.data.commercial_offer.CommercialOffer(\n",
        "    price_dict={\"f1\": 0.31, \"f2\": 0.26, \"f3\": 0.26}, name=\"serale\")\n",
        "\n",
        "# Lael 2\n",
        "notturna = training_camp_21_22.data.commercial_offer.CommercialOffer(\n",
        "    price_dict={\"f1\": 0.56, \"f2\": 0.56, \"f3\": 0.}, name=\"notturna\")\n",
        "\n",
        "commercial_offers = [mono_oraria, serale, notturna]\n",
        "class_names = [co.name for co in commercial_offers]"
      ],
      "metadata": {
        "id": "bW9zuiTjMEzh"
      },
      "execution_count": null,
      "outputs": []
    },
    {
      "cell_type": "markdown",
      "source": [
        "#Baseline Classifier"
      ],
      "metadata": {
        "id": "PiOXuikEiZl1"
      }
    },
    {
      "cell_type": "markdown",
      "source": [
        "The label is computed by \"extending\" the mean consumptions over the whole year"
      ],
      "metadata": {
        "id": "sYaBAJ5CC7B-"
      }
    },
    {
      "cell_type": "code",
      "source": [
        "def project_over_year(df, commercial_offers):\n",
        "    \n",
        "    def best_projected_offer(row):\n",
        "        columns = [co.name for co in commercial_offers]\n",
        "        cluster = np.argmin(row[columns])\n",
        "        return cluster\n",
        "        \n",
        "    year_projection = 12 * df.groupby(by=[\"user\"]).mean()\n",
        "\n",
        "    for offer in commercial_offers:\n",
        "        year_projection[offer.name] = year_projection.apply(\n",
        "            offer.compute_yearly_cost, axis=1)\n",
        "\n",
        "    year_projection[\"cluster\"] = year_projection.apply(\n",
        "        best_projected_offer, axis=1)\n",
        "    year_projection = year_projection.drop(\n",
        "        [co.name for co in commercial_offers], axis=1)\n",
        "\n",
        "    return year_projection\n",
        "\n",
        "\n",
        "year_projection_df = project_over_year(\n",
        "    features_df, commercial_offers)"
      ],
      "metadata": {
        "id": "Y72d2i0zfFa2"
      },
      "execution_count": null,
      "outputs": []
    },
    {
      "cell_type": "markdown",
      "source": [
        "Let's have a look at the projection!"
      ],
      "metadata": {
        "id": "ihUeUYaB7lcP"
      }
    },
    {
      "cell_type": "code",
      "source": [
        "year_projection_df.head()"
      ],
      "metadata": {
        "colab": {
          "base_uri": "https://localhost:8080/",
          "height": 237
        },
        "id": "9wu6CrMS7pL9",
        "outputId": "8cf739c9-2281-42cd-f40f-db38400bec5c"
      },
      "execution_count": null,
      "outputs": [
        {
          "output_type": "execute_result",
          "data": {
            "text/plain": [
              "              f1           f2           f3  cluster\n",
              "user                                               \n",
              "0     765.285078   693.354202   590.064748        1\n",
              "1     782.903821  1009.442038   688.985789        1\n",
              "2     768.697583   848.648165  1450.671149        1\n",
              "3     578.598126   477.112678   992.615033        1\n",
              "4     445.805943   557.522171   508.573662        1"
            ],
            "text/html": [
              "\n",
              "  <div id=\"df-58cfac22-c823-493f-b6ba-bef0163a1ff1\">\n",
              "    <div class=\"colab-df-container\">\n",
              "      <div>\n",
              "<style scoped>\n",
              "    .dataframe tbody tr th:only-of-type {\n",
              "        vertical-align: middle;\n",
              "    }\n",
              "\n",
              "    .dataframe tbody tr th {\n",
              "        vertical-align: top;\n",
              "    }\n",
              "\n",
              "    .dataframe thead th {\n",
              "        text-align: right;\n",
              "    }\n",
              "</style>\n",
              "<table border=\"1\" class=\"dataframe\">\n",
              "  <thead>\n",
              "    <tr style=\"text-align: right;\">\n",
              "      <th></th>\n",
              "      <th>f1</th>\n",
              "      <th>f2</th>\n",
              "      <th>f3</th>\n",
              "      <th>cluster</th>\n",
              "    </tr>\n",
              "    <tr>\n",
              "      <th>user</th>\n",
              "      <th></th>\n",
              "      <th></th>\n",
              "      <th></th>\n",
              "      <th></th>\n",
              "    </tr>\n",
              "  </thead>\n",
              "  <tbody>\n",
              "    <tr>\n",
              "      <th>0</th>\n",
              "      <td>765.285078</td>\n",
              "      <td>693.354202</td>\n",
              "      <td>590.064748</td>\n",
              "      <td>1</td>\n",
              "    </tr>\n",
              "    <tr>\n",
              "      <th>1</th>\n",
              "      <td>782.903821</td>\n",
              "      <td>1009.442038</td>\n",
              "      <td>688.985789</td>\n",
              "      <td>1</td>\n",
              "    </tr>\n",
              "    <tr>\n",
              "      <th>2</th>\n",
              "      <td>768.697583</td>\n",
              "      <td>848.648165</td>\n",
              "      <td>1450.671149</td>\n",
              "      <td>1</td>\n",
              "    </tr>\n",
              "    <tr>\n",
              "      <th>3</th>\n",
              "      <td>578.598126</td>\n",
              "      <td>477.112678</td>\n",
              "      <td>992.615033</td>\n",
              "      <td>1</td>\n",
              "    </tr>\n",
              "    <tr>\n",
              "      <th>4</th>\n",
              "      <td>445.805943</td>\n",
              "      <td>557.522171</td>\n",
              "      <td>508.573662</td>\n",
              "      <td>1</td>\n",
              "    </tr>\n",
              "  </tbody>\n",
              "</table>\n",
              "</div>\n",
              "      <button class=\"colab-df-convert\" onclick=\"convertToInteractive('df-58cfac22-c823-493f-b6ba-bef0163a1ff1')\"\n",
              "              title=\"Convert this dataframe to an interactive table.\"\n",
              "              style=\"display:none;\">\n",
              "        \n",
              "  <svg xmlns=\"http://www.w3.org/2000/svg\" height=\"24px\"viewBox=\"0 0 24 24\"\n",
              "       width=\"24px\">\n",
              "    <path d=\"M0 0h24v24H0V0z\" fill=\"none\"/>\n",
              "    <path d=\"M18.56 5.44l.94 2.06.94-2.06 2.06-.94-2.06-.94-.94-2.06-.94 2.06-2.06.94zm-11 1L8.5 8.5l.94-2.06 2.06-.94-2.06-.94L8.5 2.5l-.94 2.06-2.06.94zm10 10l.94 2.06.94-2.06 2.06-.94-2.06-.94-.94-2.06-.94 2.06-2.06.94z\"/><path d=\"M17.41 7.96l-1.37-1.37c-.4-.4-.92-.59-1.43-.59-.52 0-1.04.2-1.43.59L10.3 9.45l-7.72 7.72c-.78.78-.78 2.05 0 2.83L4 21.41c.39.39.9.59 1.41.59.51 0 1.02-.2 1.41-.59l7.78-7.78 2.81-2.81c.8-.78.8-2.07 0-2.86zM5.41 20L4 18.59l7.72-7.72 1.47 1.35L5.41 20z\"/>\n",
              "  </svg>\n",
              "      </button>\n",
              "      \n",
              "  <style>\n",
              "    .colab-df-container {\n",
              "      display:flex;\n",
              "      flex-wrap:wrap;\n",
              "      gap: 12px;\n",
              "    }\n",
              "\n",
              "    .colab-df-convert {\n",
              "      background-color: #E8F0FE;\n",
              "      border: none;\n",
              "      border-radius: 50%;\n",
              "      cursor: pointer;\n",
              "      display: none;\n",
              "      fill: #1967D2;\n",
              "      height: 32px;\n",
              "      padding: 0 0 0 0;\n",
              "      width: 32px;\n",
              "    }\n",
              "\n",
              "    .colab-df-convert:hover {\n",
              "      background-color: #E2EBFA;\n",
              "      box-shadow: 0px 1px 2px rgba(60, 64, 67, 0.3), 0px 1px 3px 1px rgba(60, 64, 67, 0.15);\n",
              "      fill: #174EA6;\n",
              "    }\n",
              "\n",
              "    [theme=dark] .colab-df-convert {\n",
              "      background-color: #3B4455;\n",
              "      fill: #D2E3FC;\n",
              "    }\n",
              "\n",
              "    [theme=dark] .colab-df-convert:hover {\n",
              "      background-color: #434B5C;\n",
              "      box-shadow: 0px 1px 3px 1px rgba(0, 0, 0, 0.15);\n",
              "      filter: drop-shadow(0px 1px 2px rgba(0, 0, 0, 0.3));\n",
              "      fill: #FFFFFF;\n",
              "    }\n",
              "  </style>\n",
              "\n",
              "      <script>\n",
              "        const buttonEl =\n",
              "          document.querySelector('#df-58cfac22-c823-493f-b6ba-bef0163a1ff1 button.colab-df-convert');\n",
              "        buttonEl.style.display =\n",
              "          google.colab.kernel.accessAllowed ? 'block' : 'none';\n",
              "\n",
              "        async function convertToInteractive(key) {\n",
              "          const element = document.querySelector('#df-58cfac22-c823-493f-b6ba-bef0163a1ff1');\n",
              "          const dataTable =\n",
              "            await google.colab.kernel.invokeFunction('convertToInteractive',\n",
              "                                                     [key], {});\n",
              "          if (!dataTable) return;\n",
              "\n",
              "          const docLinkHtml = 'Like what you see? Visit the ' +\n",
              "            '<a target=\"_blank\" href=https://colab.research.google.com/notebooks/data_table.ipynb>data table notebook</a>'\n",
              "            + ' to learn more about interactive tables.';\n",
              "          element.innerHTML = '';\n",
              "          dataTable['output_type'] = 'display_data';\n",
              "          await google.colab.output.renderOutput(dataTable, element);\n",
              "          const docLink = document.createElement('div');\n",
              "          docLink.innerHTML = docLinkHtml;\n",
              "          element.appendChild(docLink);\n",
              "        }\n",
              "      </script>\n",
              "    </div>\n",
              "  </div>\n",
              "  "
            ]
          },
          "metadata": {},
          "execution_count": 22
        }
      ]
    },
    {
      "cell_type": "markdown",
      "source": [
        "Plotting the confusion matrix"
      ],
      "metadata": {
        "id": "vuYSAhTnL9qp"
      }
    },
    {
      "cell_type": "code",
      "source": [
        "cm = confusion_matrix(\n",
        "    labels_df[\"cluster\"], year_projection_df[\"cluster\"])\n",
        "\n",
        "# Log the confusion matrix as an image summary\n",
        "figure = training_camp_21_22.view.classification.plot_cm_with_labels(\n",
        "    cm, class_names=class_names);"
      ],
      "metadata": {
        "colab": {
          "base_uri": "https://localhost:8080/",
          "height": 498
        },
        "id": "bwR8v162DRB2",
        "outputId": "7577d3da-0795-4ae4-9d28-9d1867713f62"
      },
      "execution_count": null,
      "outputs": [
        {
          "output_type": "display_data",
          "data": {
            "text/plain": [
              "<Figure size 504x504 with 2 Axes>"
            ],
            "image/png": "[encoded data removed]"
          },
          "metadata": {
            "needs_background": "light"
          }
        }
      ]
    },
    {
      "cell_type": "markdown",
      "source": [
        "# Random Forest Classifier\n",
        "\n",
        "Random Forest model"
      ],
      "metadata": {
        "id": "W-MDWu_EiqOE"
      }
    },
    {
      "cell_type": "markdown",
      "source": [
        "# Submit solution to Kaggle competition"
      ],
      "metadata": {
        "id": "ps24UFl55uUG"
      }
    },
    {
      "cell_type": "code",
      "source": [
        "test_submission = pd.DataFrame({\n",
        "    \"user\": year_projection_df.index,\n",
        "    \"cluster\": year_projection_df[\"cluster\"]})\n",
        "print(test_submission.head(10))\n",
        "print(test_submission.shape)"
      ],
      "metadata": {
        "id": "CX3KcgBlIut3",
        "colab": {
          "base_uri": "https://localhost:8080/"
        },
        "outputId": "e75df4bf-c931-4ed4-e7c4-70b5499a7129"
      },
      "execution_count": null,
      "outputs": [
        {
          "output_type": "stream",
          "name": "stdout",
          "text": [
            "      user  cluster\n",
            "user               \n",
            "0        0        1\n",
            "1        1        1\n",
            "2        2        1\n",
            "3        3        1\n",
            "4        4        1\n",
            "5        5        1\n",
            "6        6        0\n",
            "7        7        1\n",
            "8        8        0\n",
            "9        9        0\n",
            "(100, 2)\n"
          ]
        }
      ]
    },
    {
      "cell_type": "markdown",
      "source": [
        "Create a termporary folder for submissions"
      ],
      "metadata": {
        "id": "xO5UpsqcLs9C"
      }
    },
    {
      "cell_type": "code",
      "source": [
        "!mkdir -p submissions"
      ],
      "metadata": {
        "id": "77UI7mPiLsaj"
      },
      "execution_count": null,
      "outputs": []
    },
    {
      "cell_type": "code",
      "source": [
        "rf_labels_path = \"submissions/baseline.csv\"\n",
        "test_submission.to_csv(rf_labels_path, index=False)"
      ],
      "metadata": {
        "id": "IQIhleT2E7E3"
      },
      "execution_count": null,
      "outputs": []
    },
    {
      "cell_type": "code",
      "source": [
        "!kaggle competitions submit -c pitc-2122-clustering -f \"submissions/baseline.csv\" -m \"Baseline classification\""
      ],
      "metadata": {
        "colab": {
          "base_uri": "https://localhost:8080/"
        },
        "id": "mgaT503595ci",
        "outputId": "01588878-bb94-46e7-d211-4276e6b9b684"
      },
      "execution_count": null,
      "outputs": [
        {
          "output_type": "stream",
          "name": "stdout",
          "text": [
            "100% 503/503 [00:00<00:00, 2.32kB/s]\n",
            "Successfully submitted to PITC 21/22 - Clustering"
          ]
        }
      ]
    },
    {
      "cell_type": "code",
      "source": [
        ""
      ],
      "metadata": {
        "id": "mwhIShQfJACd"
      },
      "execution_count": null,
      "outputs": []
    }
  ]
}