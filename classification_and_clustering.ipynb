{
  "nbformat": 4,
  "nbformat_minor": 0,
  "metadata": {
    "colab": {
      "name": "classification_and_clustering.ipynb",
      "provenance": [],
      "collapsed_sections": []
    },
    "kernelspec": {
      "name": "python3",
      "display_name": "Python 3"
    },
    "language_info": {
      "name": "python"
    }
  },
  "cells": [
    {
      "cell_type": "markdown",
      "source": [
        "# Sync Code"
      ],
      "metadata": {
        "id": "-KFSmChtewli"
      }
    },
    {
      "cell_type": "markdown",
      "source": [
        "Clone the GitHub Repo\n"
      ],
      "metadata": {
        "id": "jguqXhldB-z4"
      }
    },
    {
      "cell_type": "code",
      "source": [
        "!cd /content\n",
        "!git clone https://github.com/szappac20/training_camp_21_22.git -b develop"
      ],
      "metadata": {
        "colab": {
          "base_uri": "https://localhost:8080/"
        },
        "id": "Ha1I4VSuB8Hp",
        "outputId": "084e483c-15a4-406d-9c5e-4825e7ebc7bc"
      },
      "execution_count": null,
      "outputs": [
        {
          "output_type": "stream",
          "name": "stdout",
          "text": [
            "Cloning into 'training_camp_21_22'...\n",
            "remote: Enumerating objects: 39, done.\u001b[K\n",
            "remote: Counting objects: 100% (39/39), done.\u001b[K\n",
            "remote: Compressing objects: 100% (28/28), done.\u001b[K\n",
            "remote: Total 39 (delta 13), reused 31 (delta 8), pack-reused 0\u001b[K\n",
            "Unpacking objects: 100% (39/39), done.\n"
          ]
        }
      ]
    },
    {
      "cell_type": "markdown",
      "source": [
        "`Move to the Python Project root folder` and install requirements"
      ],
      "metadata": {
        "id": "r_NIiReYe-2I"
      }
    },
    {
      "cell_type": "code",
      "execution_count": null,
      "metadata": {
        "colab": {
          "base_uri": "https://localhost:8080/"
        },
        "id": "TH6YsTk_Bs5_",
        "outputId": "29e0c640-2038-49dc-c06f-becebff76e9f"
      },
      "outputs": [
        {
          "output_type": "stream",
          "name": "stdout",
          "text": [
            "/content/training_camp_21_22\n",
            "\u001b[K     |████████████████████████████████| 38.1 MB 12.9 MB/s \n",
            "\u001b[K     |████████████████████████████████| 9.8 MB 59.5 MB/s \n",
            "\u001b[K     |████████████████████████████████| 511.7 MB 6.5 kB/s \n",
            "\u001b[K     |████████████████████████████████| 554 kB 49.2 MB/s \n",
            "\u001b[K     |████████████████████████████████| 13.1 MB 43.2 MB/s \n",
            "\u001b[K     |████████████████████████████████| 1.1 MB 44.6 MB/s \n",
            "\u001b[K     |████████████████████████████████| 15.8 MB 44.4 MB/s \n",
            "\u001b[K     |████████████████████████████████| 5.8 MB 49.8 MB/s \n",
            "\u001b[K     |████████████████████████████████| 1.6 MB 44.4 MB/s \n",
            "\u001b[K     |████████████████████████████████| 438 kB 56.8 MB/s \n",
            "\u001b[31mERROR: pip's dependency resolver does not currently take into account all the packages that are installed. This behaviour is the source of the following dependency conflicts.\n",
            "albumentations 0.1.12 requires imgaug<0.2.7,>=0.2.5, but you have imgaug 0.2.9 which is incompatible.\u001b[0m\n",
            "\u001b[?25h"
          ]
        }
      ],
      "source": [
        "%cd /content/training_camp_21_22\n",
        "%pip install --upgrade -r requirements.txt -qqq"
      ]
    },
    {
      "cell_type": "markdown",
      "source": [
        "# Download Dataset from Kaggle competition"
      ],
      "metadata": {
        "id": "Hw9CL1-a3U6r"
      }
    },
    {
      "cell_type": "markdown",
      "source": [
        "Download dataset from Kaggle competition pitc-2122-clustering"
      ],
      "metadata": {
        "id": "MbrkchGZIbeo"
      }
    },
    {
      "cell_type": "code",
      "source": [
        "!mkdir -p ~/.kaggle"
      ],
      "metadata": {
        "id": "l2qHvKpFyZGo"
      },
      "execution_count": null,
      "outputs": []
    },
    {
      "cell_type": "markdown",
      "source": [
        "Download the kaggle.json token file"
      ],
      "metadata": {
        "id": "uPvXm5x12YkB"
      }
    },
    {
      "cell_type": "code",
      "source": [
        "#!gdown 1w81nWRhAr1E_hX9OSncuMxlCefxnP2zN -O  ~/.kaggle/kaggle.json\n",
        "!chmod 600 ~/.kaggle/kaggle.json"
      ],
      "metadata": {
        "id": "QJXSu0BLzJh_"
      },
      "execution_count": null,
      "outputs": []
    },
    {
      "cell_type": "markdown",
      "source": [
        "Download the input file (training and test)"
      ],
      "metadata": {
        "id": "VASRT8uz2xvU"
      }
    },
    {
      "cell_type": "code",
      "source": [
        "!mkdir -p data/task_1"
      ],
      "metadata": {
        "id": "O13ut6JsLcom"
      },
      "execution_count": null,
      "outputs": []
    },
    {
      "cell_type": "code",
      "source": [
        "%cd data/task_1"
      ],
      "metadata": {
        "colab": {
          "base_uri": "https://localhost:8080/"
        },
        "id": "cN9ErWyvMCKo",
        "outputId": "e9b9e9dc-a1b5-4303-ab75-55f0befcc653"
      },
      "execution_count": null,
      "outputs": [
        {
          "output_type": "stream",
          "name": "stdout",
          "text": [
            "/content/training_camp_21_22/data/task_1\n"
          ]
        }
      ]
    },
    {
      "cell_type": "code",
      "source": [
        "!kaggle competitions download -c pitc-2122-clustering\n",
        "!unzip pitc-2122-clustering.zip"
      ],
      "metadata": {
        "colab": {
          "base_uri": "https://localhost:8080/"
        },
        "id": "GRoQSvu5IZ4q",
        "outputId": "970deaf1-840d-4655-9a05-0a229c5d63a4"
      },
      "execution_count": null,
      "outputs": [
        {
          "output_type": "stream",
          "name": "stdout",
          "text": [
            "Downloading pitc-2122-clustering.zip to /content/training_camp_21_22/data/task_1\n",
            "\r  0% 0.00/23.1M [00:00<?, ?B/s]\r 99% 23.0M/23.1M [00:00<00:00, 239MB/s]\n",
            "\r100% 23.1M/23.1M [00:00<00:00, 238MB/s]\n",
            "Archive:  pitc-2122-clustering.zip\n",
            "  inflating: sample_submission.csv   \n",
            "  inflating: test.csv                \n",
            "  inflating: train.csv               \n"
          ]
        }
      ]
    },
    {
      "cell_type": "code",
      "source": [
        "%cd /content/training_camp_21_22"
      ],
      "metadata": {
        "colab": {
          "base_uri": "https://localhost:8080/"
        },
        "id": "_r1-tC19MLEO",
        "outputId": "cf3a3963-778a-4f9e-9a66-196f01de8922"
      },
      "execution_count": null,
      "outputs": [
        {
          "output_type": "stream",
          "name": "stdout",
          "text": [
            "/content/training_camp_21_22\n",
            "/content/training_camp_21_22\n"
          ]
        }
      ]
    },
    {
      "cell_type": "markdown",
      "source": [
        "# Import packages"
      ],
      "metadata": {
        "id": "hLSxcbQW3aeA"
      }
    },
    {
      "cell_type": "markdown",
      "source": [
        "Move back to the Python project folder "
      ],
      "metadata": {
        "id": "VDbrFnra2rug"
      }
    },
    {
      "cell_type": "code",
      "source": [
        "%cd /content/training_camp_21_22"
      ],
      "metadata": {
        "colab": {
          "base_uri": "https://localhost:8080/"
        },
        "id": "sx3J1MnT19Cr",
        "outputId": "4a277775-a827-43b3-9bb9-1510ad8b6a1b"
      },
      "execution_count": null,
      "outputs": [
        {
          "output_type": "stream",
          "name": "stdout",
          "text": [
            "/content/training_camp_21_22\n"
          ]
        }
      ]
    },
    {
      "cell_type": "markdown",
      "source": [
        "Set the Python Path variable to the source folder"
      ],
      "metadata": {
        "id": "p6fRGb_ZgNYi"
      }
    },
    {
      "cell_type": "code",
      "source": [
        "import sys\n",
        "import os\n",
        "\n",
        "sys.path.append(\"training_camp_21_22\")"
      ],
      "metadata": {
        "id": "tcDMyFZNFYYR"
      },
      "execution_count": null,
      "outputs": []
    },
    {
      "cell_type": "markdown",
      "source": [
        "Import libraries"
      ],
      "metadata": {
        "id": "jJud7i8NgVLC"
      }
    },
    {
      "cell_type": "code",
      "source": [
        "import numpy as np\n",
        "import pandas as pd\n",
        "import json\n",
        "from tqdm import tqdm\n",
        "import csv\n",
        "\n",
        "from sklearn.metrics import confusion_matrix\n",
        "from sklearn.preprocessing import OrdinalEncoder\n",
        "import tensorflow_decision_forests as tfdf\n",
        "\n",
        "import training_camp_21_22.config\n",
        "import training_camp_21_22.data.commercial_offer\n",
        "import training_camp_21_22.models\n",
        "import training_camp_21_22.view.classification"
      ],
      "metadata": {
        "id": "oN28pu4HIj6m"
      },
      "execution_count": null,
      "outputs": []
    },
    {
      "cell_type": "markdown",
      "source": [
        "# Preprocess Data"
      ],
      "metadata": {
        "id": "6ssxVp6bgdsi"
      }
    },
    {
      "cell_type": "markdown",
      "source": [
        "Dowload the data"
      ],
      "metadata": {
        "id": "4vKzC3MXgomb"
      }
    },
    {
      "cell_type": "code",
      "source": [
        "# Parse the csv file with json entries\n",
        "\n",
        "def convert_json_2_pd(json_input_path, train = True):\n",
        "    \"\"\"\n",
        "    Read the csv file and extract from json events\n",
        "    any feature useful to classify the consumer consumption profile \n",
        "    \"\"\"\n",
        "    d = {}\n",
        "    labels = {}\n",
        "    i = 0\n",
        "    j = 0\n",
        "    with open(json_input_path) as csvfile:\n",
        "\n",
        "        reader = csv.reader(csvfile, delimiter=',')\n",
        "        next(reader)\n",
        "\n",
        "        for row in tqdm(reader):\n",
        "          # iterate through bill\n",
        "\n",
        "          for bill in json.loads(row[-1]) :\n",
        "            # read consumer id\n",
        "            id = row[0]\n",
        "            # birth date\n",
        "            birth_date = bill['bamData']['items']['bamItem']['personInfo']['birthDate']\n",
        "\n",
        "            # billing_range\n",
        "            billing_range = bill['customData']['billing_range']\n",
        "            # energy\n",
        "            energy = bill['customData']['energy']\n",
        "            # addresses\n",
        "            addresses = bill['bamData']['items']['bamItem']['addresses']\n",
        "            \n",
        "            res_address_code = ''\n",
        "            res_address_value = ''\n",
        "            dom_address_code = ''\n",
        "            dom_address_value = ''\n",
        "\n",
        "            # build the fields\n",
        "            for addr in addresses:\n",
        "              if(addr['type']['code'] == '2'):\n",
        "                res_address_code = addr['city']['code']\n",
        "                res_address_value = addr['city']['value']\n",
        "              elif(addr['type']['code'] == '6'):\n",
        "                dom_address_code = addr['city']['code']\n",
        "                dom_address_value = addr['city']['value']\n",
        "            \n",
        "            # store information of bill into dictionary\n",
        "            d[i] = {\n",
        "              'userID' : id,\n",
        "              'Age': 2022 - int(birth_date[:4]),\n",
        "              'legalNature' : bill['bamData']['items']['bamItem']['legalNature'],\n",
        "              'citizenshipNoUSA' : bill['bamData']['items']['bamItem']['personInfo']['citizenshipNoUSA'],\n",
        "              'billing_range.from_date' : billing_range['from_date'],\n",
        "              'billing_range.to_date' : billing_range['to_date'],\n",
        "              'f1' : energy['fasciaF1ConsumoFatturato'],\n",
        "              'f2' : energy['fasciaF2ConsumoFatturato'],\n",
        "              'f3' : energy['fasciaF3ConsumoFatturato'],\n",
        "              'res_address_code': res_address_code,\n",
        "              'res_address_value': res_address_value,\n",
        "              'dom_address_code': dom_address_code,\n",
        "              'dom_address_value': dom_address_value\n",
        "            }\n",
        "            i = i+1\n",
        "          # create dataframe of labels (only for the training data)\n",
        "          if(train):\n",
        "            labels[j] = {'userID' : row[0] , 'cluster': int(row[1])}\n",
        "            j += 1\n",
        "\n",
        "\n",
        "    if(train):\n",
        "      return pd.DataFrame.from_dict(d, \"index\"), pd.DataFrame.from_dict(labels, 'index')\n",
        "    return  pd.DataFrame.from_dict(d, \"index\")\n",
        "\n",
        "features_df, labels_df = convert_json_2_pd(json_input_path=\"/content/training_camp_21_22/data/task_1/train.csv\", train = True)"
      ],
      "metadata": {
        "id": "_IbXPAobhc3J"
      },
      "execution_count": null,
      "outputs": []
    },
    {
      "cell_type": "markdown",
      "source": [
        "Let's have a look at the collected data!"
      ],
      "metadata": {
        "id": "cFCugIEOgtbC"
      }
    },
    {
      "cell_type": "code",
      "source": [
        "features_df.head()"
      ],
      "metadata": {
        "colab": {
          "base_uri": "https://localhost:8080/",
          "height": 270
        },
        "id": "5x2w2yF4paye",
        "outputId": "1142af8b-8d4c-4a3b-bd33-4a28bac1422a"
      },
      "execution_count": null,
      "outputs": [
        {
          "output_type": "execute_result",
          "data": {
            "text/plain": [
              "  userID legalNature  citizenshipNoUSA billing_range.from_date  \\\n",
              "0  90019          PF             False              2021-11-01   \n",
              "1  90019          PF             False              2021-08-01   \n",
              "2  90025          PF             False              2022-02-01   \n",
              "3  90025          PF             False              2021-08-01   \n",
              "4  90030          PF             False              2022-06-01   \n",
              "\n",
              "  billing_range.to_date    f1    f2    f3 res_address_code res_address_value  \\\n",
              "0            2021-11-30  30.0  31.0  14.0             B794        Carmignano   \n",
              "1            2021-08-31   2.0  41.0   7.0             B794        Carmignano   \n",
              "2            2022-02-28  49.0  11.0  39.0             C422            Ceggia   \n",
              "3            2021-08-31  18.0  50.0  61.0             C422            Ceggia   \n",
              "4            2022-06-30  18.0  33.0  36.0             D170          Crispano   \n",
              "\n",
              "  dom_address_code dom_address_value  \n",
              "0             B794        Carmignano  \n",
              "1             B794        Carmignano  \n",
              "2             C422            Ceggia  \n",
              "3             C422            Ceggia  \n",
              "4             D170          Crispano  "
            ],
            "text/html": [
              "\n",
              "  <div id=\"df-b331c49f-2b3c-40ce-9e75-90f0715aa70b\">\n",
              "    <div class=\"colab-df-container\">\n",
              "      <div>\n",
              "<style scoped>\n",
              "    .dataframe tbody tr th:only-of-type {\n",
              "        vertical-align: middle;\n",
              "    }\n",
              "\n",
              "    .dataframe tbody tr th {\n",
              "        vertical-align: top;\n",
              "    }\n",
              "\n",
              "    .dataframe thead th {\n",
              "        text-align: right;\n",
              "    }\n",
              "</style>\n",
              "<table border=\"1\" class=\"dataframe\">\n",
              "  <thead>\n",
              "    <tr style=\"text-align: right;\">\n",
              "      <th></th>\n",
              "      <th>userID</th>\n",
              "      <th>legalNature</th>\n",
              "      <th>citizenshipNoUSA</th>\n",
              "      <th>billing_range.from_date</th>\n",
              "      <th>billing_range.to_date</th>\n",
              "      <th>f1</th>\n",
              "      <th>f2</th>\n",
              "      <th>f3</th>\n",
              "      <th>res_address_code</th>\n",
              "      <th>res_address_value</th>\n",
              "      <th>dom_address_code</th>\n",
              "      <th>dom_address_value</th>\n",
              "    </tr>\n",
              "  </thead>\n",
              "  <tbody>\n",
              "    <tr>\n",
              "      <th>0</th>\n",
              "      <td>90019</td>\n",
              "      <td>PF</td>\n",
              "      <td>False</td>\n",
              "      <td>2021-11-01</td>\n",
              "      <td>2021-11-30</td>\n",
              "      <td>30.0</td>\n",
              "      <td>31.0</td>\n",
              "      <td>14.0</td>\n",
              "      <td>B794</td>\n",
              "      <td>Carmignano</td>\n",
              "      <td>B794</td>\n",
              "      <td>Carmignano</td>\n",
              "    </tr>\n",
              "    <tr>\n",
              "      <th>1</th>\n",
              "      <td>90019</td>\n",
              "      <td>PF</td>\n",
              "      <td>False</td>\n",
              "      <td>2021-08-01</td>\n",
              "      <td>2021-08-31</td>\n",
              "      <td>2.0</td>\n",
              "      <td>41.0</td>\n",
              "      <td>7.0</td>\n",
              "      <td>B794</td>\n",
              "      <td>Carmignano</td>\n",
              "      <td>B794</td>\n",
              "      <td>Carmignano</td>\n",
              "    </tr>\n",
              "    <tr>\n",
              "      <th>2</th>\n",
              "      <td>90025</td>\n",
              "      <td>PF</td>\n",
              "      <td>False</td>\n",
              "      <td>2022-02-01</td>\n",
              "      <td>2022-02-28</td>\n",
              "      <td>49.0</td>\n",
              "      <td>11.0</td>\n",
              "      <td>39.0</td>\n",
              "      <td>C422</td>\n",
              "      <td>Ceggia</td>\n",
              "      <td>C422</td>\n",
              "      <td>Ceggia</td>\n",
              "    </tr>\n",
              "    <tr>\n",
              "      <th>3</th>\n",
              "      <td>90025</td>\n",
              "      <td>PF</td>\n",
              "      <td>False</td>\n",
              "      <td>2021-08-01</td>\n",
              "      <td>2021-08-31</td>\n",
              "      <td>18.0</td>\n",
              "      <td>50.0</td>\n",
              "      <td>61.0</td>\n",
              "      <td>C422</td>\n",
              "      <td>Ceggia</td>\n",
              "      <td>C422</td>\n",
              "      <td>Ceggia</td>\n",
              "    </tr>\n",
              "    <tr>\n",
              "      <th>4</th>\n",
              "      <td>90030</td>\n",
              "      <td>PF</td>\n",
              "      <td>False</td>\n",
              "      <td>2022-06-01</td>\n",
              "      <td>2022-06-30</td>\n",
              "      <td>18.0</td>\n",
              "      <td>33.0</td>\n",
              "      <td>36.0</td>\n",
              "      <td>D170</td>\n",
              "      <td>Crispano</td>\n",
              "      <td>D170</td>\n",
              "      <td>Crispano</td>\n",
              "    </tr>\n",
              "  </tbody>\n",
              "</table>\n",
              "</div>\n",
              "      <button class=\"colab-df-convert\" onclick=\"convertToInteractive('df-b331c49f-2b3c-40ce-9e75-90f0715aa70b')\"\n",
              "              title=\"Convert this dataframe to an interactive table.\"\n",
              "              style=\"display:none;\">\n",
              "        \n",
              "  <svg xmlns=\"http://www.w3.org/2000/svg\" height=\"24px\"viewBox=\"0 0 24 24\"\n",
              "       width=\"24px\">\n",
              "    <path d=\"M0 0h24v24H0V0z\" fill=\"none\"/>\n",
              "    <path d=\"M18.56 5.44l.94 2.06.94-2.06 2.06-.94-2.06-.94-.94-2.06-.94 2.06-2.06.94zm-11 1L8.5 8.5l.94-2.06 2.06-.94-2.06-.94L8.5 2.5l-.94 2.06-2.06.94zm10 10l.94 2.06.94-2.06 2.06-.94-2.06-.94-.94-2.06-.94 2.06-2.06.94z\"/><path d=\"M17.41 7.96l-1.37-1.37c-.4-.4-.92-.59-1.43-.59-.52 0-1.04.2-1.43.59L10.3 9.45l-7.72 7.72c-.78.78-.78 2.05 0 2.83L4 21.41c.39.39.9.59 1.41.59.51 0 1.02-.2 1.41-.59l7.78-7.78 2.81-2.81c.8-.78.8-2.07 0-2.86zM5.41 20L4 18.59l7.72-7.72 1.47 1.35L5.41 20z\"/>\n",
              "  </svg>\n",
              "      </button>\n",
              "      \n",
              "  <style>\n",
              "    .colab-df-container {\n",
              "      display:flex;\n",
              "      flex-wrap:wrap;\n",
              "      gap: 12px;\n",
              "    }\n",
              "\n",
              "    .colab-df-convert {\n",
              "      background-color: #E8F0FE;\n",
              "      border: none;\n",
              "      border-radius: 50%;\n",
              "      cursor: pointer;\n",
              "      display: none;\n",
              "      fill: #1967D2;\n",
              "      height: 32px;\n",
              "      padding: 0 0 0 0;\n",
              "      width: 32px;\n",
              "    }\n",
              "\n",
              "    .colab-df-convert:hover {\n",
              "      background-color: #E2EBFA;\n",
              "      box-shadow: 0px 1px 2px rgba(60, 64, 67, 0.3), 0px 1px 3px 1px rgba(60, 64, 67, 0.15);\n",
              "      fill: #174EA6;\n",
              "    }\n",
              "\n",
              "    [theme=dark] .colab-df-convert {\n",
              "      background-color: #3B4455;\n",
              "      fill: #D2E3FC;\n",
              "    }\n",
              "\n",
              "    [theme=dark] .colab-df-convert:hover {\n",
              "      background-color: #434B5C;\n",
              "      box-shadow: 0px 1px 3px 1px rgba(0, 0, 0, 0.15);\n",
              "      filter: drop-shadow(0px 1px 2px rgba(0, 0, 0, 0.3));\n",
              "      fill: #FFFFFF;\n",
              "    }\n",
              "  </style>\n",
              "\n",
              "      <script>\n",
              "        const buttonEl =\n",
              "          document.querySelector('#df-b331c49f-2b3c-40ce-9e75-90f0715aa70b button.colab-df-convert');\n",
              "        buttonEl.style.display =\n",
              "          google.colab.kernel.accessAllowed ? 'block' : 'none';\n",
              "\n",
              "        async function convertToInteractive(key) {\n",
              "          const element = document.querySelector('#df-b331c49f-2b3c-40ce-9e75-90f0715aa70b');\n",
              "          const dataTable =\n",
              "            await google.colab.kernel.invokeFunction('convertToInteractive',\n",
              "                                                     [key], {});\n",
              "          if (!dataTable) return;\n",
              "\n",
              "          const docLinkHtml = 'Like what you see? Visit the ' +\n",
              "            '<a target=\"_blank\" href=https://colab.research.google.com/notebooks/data_table.ipynb>data table notebook</a>'\n",
              "            + ' to learn more about interactive tables.';\n",
              "          element.innerHTML = '';\n",
              "          dataTable['output_type'] = 'display_data';\n",
              "          await google.colab.output.renderOutput(dataTable, element);\n",
              "          const docLink = document.createElement('div');\n",
              "          docLink.innerHTML = docLinkHtml;\n",
              "          element.appendChild(docLink);\n",
              "        }\n",
              "      </script>\n",
              "    </div>\n",
              "  </div>\n",
              "  "
            ]
          },
          "metadata": {},
          "execution_count": 58
        }
      ]
    },
    {
      "cell_type": "code",
      "source": [
        "labels_df.head()"
      ],
      "metadata": {
        "colab": {
          "base_uri": "https://localhost:8080/",
          "height": 206
        },
        "id": "m-ieUBR2Gj1i",
        "outputId": "a58fd914-4dcb-4341-a554-2a0cb10fc0b5"
      },
      "execution_count": null,
      "outputs": [
        {
          "output_type": "execute_result",
          "data": {
            "text/plain": [
              "  user  cluster\n",
              "0    6        1\n",
              "1   13        0\n",
              "2   14        1\n",
              "3   17        2\n",
              "4   34        2"
            ],
            "text/html": [
              "\n",
              "  <div id=\"df-778138ee-3cf4-46ae-a013-8533eb9d9e0b\">\n",
              "    <div class=\"colab-df-container\">\n",
              "      <div>\n",
              "<style scoped>\n",
              "    .dataframe tbody tr th:only-of-type {\n",
              "        vertical-align: middle;\n",
              "    }\n",
              "\n",
              "    .dataframe tbody tr th {\n",
              "        vertical-align: top;\n",
              "    }\n",
              "\n",
              "    .dataframe thead th {\n",
              "        text-align: right;\n",
              "    }\n",
              "</style>\n",
              "<table border=\"1\" class=\"dataframe\">\n",
              "  <thead>\n",
              "    <tr style=\"text-align: right;\">\n",
              "      <th></th>\n",
              "      <th>user</th>\n",
              "      <th>cluster</th>\n",
              "    </tr>\n",
              "  </thead>\n",
              "  <tbody>\n",
              "    <tr>\n",
              "      <th>0</th>\n",
              "      <td>6</td>\n",
              "      <td>1</td>\n",
              "    </tr>\n",
              "    <tr>\n",
              "      <th>1</th>\n",
              "      <td>13</td>\n",
              "      <td>0</td>\n",
              "    </tr>\n",
              "    <tr>\n",
              "      <th>2</th>\n",
              "      <td>14</td>\n",
              "      <td>1</td>\n",
              "    </tr>\n",
              "    <tr>\n",
              "      <th>3</th>\n",
              "      <td>17</td>\n",
              "      <td>2</td>\n",
              "    </tr>\n",
              "    <tr>\n",
              "      <th>4</th>\n",
              "      <td>34</td>\n",
              "      <td>2</td>\n",
              "    </tr>\n",
              "  </tbody>\n",
              "</table>\n",
              "</div>\n",
              "      <button class=\"colab-df-convert\" onclick=\"convertToInteractive('df-778138ee-3cf4-46ae-a013-8533eb9d9e0b')\"\n",
              "              title=\"Convert this dataframe to an interactive table.\"\n",
              "              style=\"display:none;\">\n",
              "        \n",
              "  <svg xmlns=\"http://www.w3.org/2000/svg\" height=\"24px\"viewBox=\"0 0 24 24\"\n",
              "       width=\"24px\">\n",
              "    <path d=\"M0 0h24v24H0V0z\" fill=\"none\"/>\n",
              "    <path d=\"M18.56 5.44l.94 2.06.94-2.06 2.06-.94-2.06-.94-.94-2.06-.94 2.06-2.06.94zm-11 1L8.5 8.5l.94-2.06 2.06-.94-2.06-.94L8.5 2.5l-.94 2.06-2.06.94zm10 10l.94 2.06.94-2.06 2.06-.94-2.06-.94-.94-2.06-.94 2.06-2.06.94z\"/><path d=\"M17.41 7.96l-1.37-1.37c-.4-.4-.92-.59-1.43-.59-.52 0-1.04.2-1.43.59L10.3 9.45l-7.72 7.72c-.78.78-.78 2.05 0 2.83L4 21.41c.39.39.9.59 1.41.59.51 0 1.02-.2 1.41-.59l7.78-7.78 2.81-2.81c.8-.78.8-2.07 0-2.86zM5.41 20L4 18.59l7.72-7.72 1.47 1.35L5.41 20z\"/>\n",
              "  </svg>\n",
              "      </button>\n",
              "      \n",
              "  <style>\n",
              "    .colab-df-container {\n",
              "      display:flex;\n",
              "      flex-wrap:wrap;\n",
              "      gap: 12px;\n",
              "    }\n",
              "\n",
              "    .colab-df-convert {\n",
              "      background-color: #E8F0FE;\n",
              "      border: none;\n",
              "      border-radius: 50%;\n",
              "      cursor: pointer;\n",
              "      display: none;\n",
              "      fill: #1967D2;\n",
              "      height: 32px;\n",
              "      padding: 0 0 0 0;\n",
              "      width: 32px;\n",
              "    }\n",
              "\n",
              "    .colab-df-convert:hover {\n",
              "      background-color: #E2EBFA;\n",
              "      box-shadow: 0px 1px 2px rgba(60, 64, 67, 0.3), 0px 1px 3px 1px rgba(60, 64, 67, 0.15);\n",
              "      fill: #174EA6;\n",
              "    }\n",
              "\n",
              "    [theme=dark] .colab-df-convert {\n",
              "      background-color: #3B4455;\n",
              "      fill: #D2E3FC;\n",
              "    }\n",
              "\n",
              "    [theme=dark] .colab-df-convert:hover {\n",
              "      background-color: #434B5C;\n",
              "      box-shadow: 0px 1px 3px 1px rgba(0, 0, 0, 0.15);\n",
              "      filter: drop-shadow(0px 1px 2px rgba(0, 0, 0, 0.3));\n",
              "      fill: #FFFFFF;\n",
              "    }\n",
              "  </style>\n",
              "\n",
              "      <script>\n",
              "        const buttonEl =\n",
              "          document.querySelector('#df-778138ee-3cf4-46ae-a013-8533eb9d9e0b button.colab-df-convert');\n",
              "        buttonEl.style.display =\n",
              "          google.colab.kernel.accessAllowed ? 'block' : 'none';\n",
              "\n",
              "        async function convertToInteractive(key) {\n",
              "          const element = document.querySelector('#df-778138ee-3cf4-46ae-a013-8533eb9d9e0b');\n",
              "          const dataTable =\n",
              "            await google.colab.kernel.invokeFunction('convertToInteractive',\n",
              "                                                     [key], {});\n",
              "          if (!dataTable) return;\n",
              "\n",
              "          const docLinkHtml = 'Like what you see? Visit the ' +\n",
              "            '<a target=\"_blank\" href=https://colab.research.google.com/notebooks/data_table.ipynb>data table notebook</a>'\n",
              "            + ' to learn more about interactive tables.';\n",
              "          element.innerHTML = '';\n",
              "          dataTable['output_type'] = 'display_data';\n",
              "          await google.colab.output.renderOutput(dataTable, element);\n",
              "          const docLink = document.createElement('div');\n",
              "          docLink.innerHTML = docLinkHtml;\n",
              "          element.appendChild(docLink);\n",
              "        }\n",
              "      </script>\n",
              "    </div>\n",
              "  </div>\n",
              "  "
            ]
          },
          "metadata": {},
          "execution_count": 53
        }
      ]
    },
    {
      "cell_type": "markdown",
      "source": [
        "Load the commercial offers"
      ],
      "metadata": {
        "id": "8fTtbtqxhU5L"
      }
    },
    {
      "cell_type": "code",
      "source": [
        "#Label 0\n",
        "mono_oraria = training_camp_21_22.data.commercial_offer.CommercialOffer(\n",
        "    price_dict={\"f1\": 0.28, \"f2\": 0.28, \"f3\": 0.28}, name=\"mono_oraria\")\n",
        "\n",
        "# Label 1\n",
        "serale = training_camp_21_22.data.commercial_offer.CommercialOffer(\n",
        "    price_dict={\"f1\": 0.31, \"f2\": 0.26, \"f3\": 0.26}, name=\"serale\")\n",
        "\n",
        "# Lael 2\n",
        "notturna = training_camp_21_22.data.commercial_offer.CommercialOffer(\n",
        "    price_dict={\"f1\": 0.56, \"f2\": 0.56, \"f3\": 0.}, name=\"notturna\")\n",
        "\n",
        "commercial_offers = [mono_oraria, serale, notturna]\n",
        "class_names = [co.name for co in commercial_offers]"
      ],
      "metadata": {
        "id": "bW9zuiTjMEzh"
      },
      "execution_count": null,
      "outputs": []
    },
    {
      "cell_type": "markdown",
      "source": [
        "#Baseline Classifier"
      ],
      "metadata": {
        "id": "PiOXuikEiZl1"
      }
    },
    {
      "cell_type": "markdown",
      "source": [
        "The label is computed by \"extending\" the mean consumptions over the whole year"
      ],
      "metadata": {
        "id": "sYaBAJ5CC7B-"
      }
    },
    {
      "cell_type": "code",
      "source": [
        "def project_over_year(df, commercial_offers):\n",
        "    \n",
        "    def best_projected_offer(row):\n",
        "        columns = [co.name for co in commercial_offers]\n",
        "        cluster = np.argmin(row[columns])\n",
        "        return cluster\n",
        "        \n",
        "    year_projection = 12 * df.groupby(by=[\"userID\"]).mean()\n",
        "\n",
        "    for offer in commercial_offers:\n",
        "        year_projection[offer.name] = year_projection.apply(\n",
        "            offer.compute_yearly_cost, axis=1)\n",
        "\n",
        "    year_projection[\"cluster\"] = year_projection.apply(\n",
        "        best_projected_offer, axis=1)\n",
        "    year_projection = year_projection.drop(\n",
        "        [co.name for co in commercial_offers], axis=1)\n",
        "\n",
        "    return year_projection\n",
        "\n",
        "\n",
        "year_projection_df = project_over_year(\n",
        "    features_df, commercial_offers)"
      ],
      "metadata": {
        "id": "Y72d2i0zfFa2"
      },
      "execution_count": null,
      "outputs": []
    },
    {
      "cell_type": "markdown",
      "source": [
        "Let's have a look at the projection!"
      ],
      "metadata": {
        "id": "ihUeUYaB7lcP"
      }
    },
    {
      "cell_type": "code",
      "source": [
        "year_projection_df.head()"
      ],
      "metadata": {
        "colab": {
          "base_uri": "https://localhost:8080/",
          "height": 238
        },
        "id": "9wu6CrMS7pL9",
        "outputId": "ada70b01-88cf-4f29-f573-608f3601b89c"
      },
      "execution_count": null,
      "outputs": [
        {
          "data": {
            "text/html": [
              "\n",
              "  <div id=\"df-dcd9ae0f-57fe-4863-9824-b710ad3d8bb1\">\n",
              "    <div class=\"colab-df-container\">\n",
              "      <div>\n",
              "<style scoped>\n",
              "    .dataframe tbody tr th:only-of-type {\n",
              "        vertical-align: middle;\n",
              "    }\n",
              "\n",
              "    .dataframe tbody tr th {\n",
              "        vertical-align: top;\n",
              "    }\n",
              "\n",
              "    .dataframe thead th {\n",
              "        text-align: right;\n",
              "    }\n",
              "</style>\n",
              "<table border=\"1\" class=\"dataframe\">\n",
              "  <thead>\n",
              "    <tr style=\"text-align: right;\">\n",
              "      <th></th>\n",
              "      <th>citizenshipNoUSA</th>\n",
              "      <th>f1</th>\n",
              "      <th>f2</th>\n",
              "      <th>f3</th>\n",
              "      <th>cluster</th>\n",
              "    </tr>\n",
              "    <tr>\n",
              "      <th>userID</th>\n",
              "      <th></th>\n",
              "      <th></th>\n",
              "      <th></th>\n",
              "      <th></th>\n",
              "      <th></th>\n",
              "    </tr>\n",
              "  </thead>\n",
              "  <tbody>\n",
              "    <tr>\n",
              "      <th>0</th>\n",
              "      <td>0.0</td>\n",
              "      <td>228.0</td>\n",
              "      <td>572.0</td>\n",
              "      <td>440.0</td>\n",
              "      <td>1</td>\n",
              "    </tr>\n",
              "    <tr>\n",
              "      <th>1</th>\n",
              "      <td>0.0</td>\n",
              "      <td>12.0</td>\n",
              "      <td>528.0</td>\n",
              "      <td>444.0</td>\n",
              "      <td>1</td>\n",
              "    </tr>\n",
              "    <tr>\n",
              "      <th>10</th>\n",
              "      <td>0.0</td>\n",
              "      <td>508.0</td>\n",
              "      <td>176.0</td>\n",
              "      <td>796.0</td>\n",
              "      <td>2</td>\n",
              "    </tr>\n",
              "    <tr>\n",
              "      <th>100</th>\n",
              "      <td>0.0</td>\n",
              "      <td>648.0</td>\n",
              "      <td>36.0</td>\n",
              "      <td>960.0</td>\n",
              "      <td>2</td>\n",
              "    </tr>\n",
              "    <tr>\n",
              "      <th>1000</th>\n",
              "      <td>0.0</td>\n",
              "      <td>396.0</td>\n",
              "      <td>654.0</td>\n",
              "      <td>102.0</td>\n",
              "      <td>1</td>\n",
              "    </tr>\n",
              "  </tbody>\n",
              "</table>\n",
              "</div>\n",
              "      <button class=\"colab-df-convert\" onclick=\"convertToInteractive('df-dcd9ae0f-57fe-4863-9824-b710ad3d8bb1')\"\n",
              "              title=\"Convert this dataframe to an interactive table.\"\n",
              "              style=\"display:none;\">\n",
              "        \n",
              "  <svg xmlns=\"http://www.w3.org/2000/svg\" height=\"24px\"viewBox=\"0 0 24 24\"\n",
              "       width=\"24px\">\n",
              "    <path d=\"M0 0h24v24H0V0z\" fill=\"none\"/>\n",
              "    <path d=\"M18.56 5.44l.94 2.06.94-2.06 2.06-.94-2.06-.94-.94-2.06-.94 2.06-2.06.94zm-11 1L8.5 8.5l.94-2.06 2.06-.94-2.06-.94L8.5 2.5l-.94 2.06-2.06.94zm10 10l.94 2.06.94-2.06 2.06-.94-2.06-.94-.94-2.06-.94 2.06-2.06.94z\"/><path d=\"M17.41 7.96l-1.37-1.37c-.4-.4-.92-.59-1.43-.59-.52 0-1.04.2-1.43.59L10.3 9.45l-7.72 7.72c-.78.78-.78 2.05 0 2.83L4 21.41c.39.39.9.59 1.41.59.51 0 1.02-.2 1.41-.59l7.78-7.78 2.81-2.81c.8-.78.8-2.07 0-2.86zM5.41 20L4 18.59l7.72-7.72 1.47 1.35L5.41 20z\"/>\n",
              "  </svg>\n",
              "      </button>\n",
              "      \n",
              "  <style>\n",
              "    .colab-df-container {\n",
              "      display:flex;\n",
              "      flex-wrap:wrap;\n",
              "      gap: 12px;\n",
              "    }\n",
              "\n",
              "    .colab-df-convert {\n",
              "      background-color: #E8F0FE;\n",
              "      border: none;\n",
              "      border-radius: 50%;\n",
              "      cursor: pointer;\n",
              "      display: none;\n",
              "      fill: #1967D2;\n",
              "      height: 32px;\n",
              "      padding: 0 0 0 0;\n",
              "      width: 32px;\n",
              "    }\n",
              "\n",
              "    .colab-df-convert:hover {\n",
              "      background-color: #E2EBFA;\n",
              "      box-shadow: 0px 1px 2px rgba(60, 64, 67, 0.3), 0px 1px 3px 1px rgba(60, 64, 67, 0.15);\n",
              "      fill: #174EA6;\n",
              "    }\n",
              "\n",
              "    [theme=dark] .colab-df-convert {\n",
              "      background-color: #3B4455;\n",
              "      fill: #D2E3FC;\n",
              "    }\n",
              "\n",
              "    [theme=dark] .colab-df-convert:hover {\n",
              "      background-color: #434B5C;\n",
              "      box-shadow: 0px 1px 3px 1px rgba(0, 0, 0, 0.15);\n",
              "      filter: drop-shadow(0px 1px 2px rgba(0, 0, 0, 0.3));\n",
              "      fill: #FFFFFF;\n",
              "    }\n",
              "  </style>\n",
              "\n",
              "      <script>\n",
              "        const buttonEl =\n",
              "          document.querySelector('#df-dcd9ae0f-57fe-4863-9824-b710ad3d8bb1 button.colab-df-convert');\n",
              "        buttonEl.style.display =\n",
              "          google.colab.kernel.accessAllowed ? 'block' : 'none';\n",
              "\n",
              "        async function convertToInteractive(key) {\n",
              "          const element = document.querySelector('#df-dcd9ae0f-57fe-4863-9824-b710ad3d8bb1');\n",
              "          const dataTable =\n",
              "            await google.colab.kernel.invokeFunction('convertToInteractive',\n",
              "                                                     [key], {});\n",
              "          if (!dataTable) return;\n",
              "\n",
              "          const docLinkHtml = 'Like what you see? Visit the ' +\n",
              "            '<a target=\"_blank\" href=https://colab.research.google.com/notebooks/data_table.ipynb>data table notebook</a>'\n",
              "            + ' to learn more about interactive tables.';\n",
              "          element.innerHTML = '';\n",
              "          dataTable['output_type'] = 'display_data';\n",
              "          await google.colab.output.renderOutput(dataTable, element);\n",
              "          const docLink = document.createElement('div');\n",
              "          docLink.innerHTML = docLinkHtml;\n",
              "          element.appendChild(docLink);\n",
              "        }\n",
              "      </script>\n",
              "    </div>\n",
              "  </div>\n",
              "  "
            ],
            "text/plain": [
              "        citizenshipNoUSA     f1     f2     f3  cluster\n",
              "userID                                                \n",
              "0                    0.0  228.0  572.0  440.0        1\n",
              "1                    0.0   12.0  528.0  444.0        1\n",
              "10                   0.0  508.0  176.0  796.0        2\n",
              "100                  0.0  648.0   36.0  960.0        2\n",
              "1000                 0.0  396.0  654.0  102.0        1"
            ]
          },
          "execution_count": null,
          "metadata": {},
          "output_type": "execute_result"
        }
      ]
    },
    {
      "cell_type": "markdown",
      "source": [
        "Plotting the confusion matrix"
      ],
      "metadata": {
        "id": "vuYSAhTnL9qp"
      }
    },
    {
      "cell_type": "code",
      "source": [
        "cm = confusion_matrix(\n",
        "    labels_df[\"cluster\"], year_projection_df[\"cluster\"])\n",
        "\n",
        "# Log the confusion matrix as an image summary\n",
        "figure = training_camp_21_22.view.classification.plot_cm_with_labels(\n",
        "    cm, class_names=class_names);"
      ],
      "metadata": {
        "colab": {
          "base_uri": "https://localhost:8080/",
          "height": 498
        },
        "id": "bwR8v162DRB2",
        "outputId": "b5fa8e7a-a211-4d22-f45b-a41a18890fd1"
      },
      "execution_count": null,
      "outputs": [
        {
          "data": {
            "image/png": "[encoded data removed]",
            "text/plain": [
              "<Figure size 504x504 with 2 Axes>"
            ]
          },
          "metadata": {},
          "output_type": "display_data"
        }
      ]
    },
    {
      "cell_type": "markdown",
      "source": [
        "# Random Forest Classifier\n",
        "\n",
        "Random Forest model"
      ],
      "metadata": {
        "id": "W-MDWu_EiqOE"
      }
    },
    {
      "cell_type": "markdown",
      "source": [
        "First of all, we extract the data about the bills by using the previously defined function"
      ],
      "metadata": {
        "id": "cu7ptADNZak2"
      }
    },
    {
      "cell_type": "code",
      "source": [
        "train_df, labels_df = convert_json_2_pd(json_input_path = '/content/training_camp_21_22/data/task_1/train.csv')\n",
        "test_df = convert_json_2_pd(json_input_path = '/content/training_camp_21_22/data/task_1/test.csv', train= False)"
      ],
      "metadata": {
        "id": "dhdkEG891AM-",
        "outputId": "87029b08-da54-4743-d9a7-3045176811cf",
        "colab": {
          "base_uri": "https://localhost:8080/"
        }
      },
      "execution_count": null,
      "outputs": [
        {
          "output_type": "stream",
          "name": "stderr",
          "text": [
            "70000it [00:20, 3337.06it/s]\n",
            "10000it [00:03, 3323.28it/s]\n"
          ]
        }
      ]
    },
    {
      "cell_type": "markdown",
      "source": [
        "After some trials, we found that the relevant features we are going to consider in order to train our model and obtain optimal results are:\n",
        "\n",
        "- mean consumptions (f1,f2,f3)\n",
        "- residence and domicile address of the customer\n",
        "- age of the customer\n"
      ],
      "metadata": {
        "id": "o9EXHQdPZpYA"
      }
    },
    {
      "cell_type": "code",
      "source": [
        "## in order to implement a random forest classifier we need only numerical values!\n",
        "\n",
        "ord_enc = OrdinalEncoder()\n",
        "\n",
        "# we therefore proceed to translate the data in numerical values (train)\n",
        "\n",
        "train_df[\"res_address_code\"] = ord_enc.fit_transform(train_df[[\"res_address_code\"]])\n",
        "train_df[\"res_address_value\"] = ord_enc.fit_transform(train_df[[\"res_address_value\"]])\n",
        "train_df[\"dom_address_code\"] = ord_enc.fit_transform(train_df[[\"dom_address_code\"]])\n",
        "train_df[\"dom_address_value\"] = ord_enc.fit_transform(train_df[[\"dom_address_value\"]])\n",
        "\n",
        "# we therefore proceed to translate the data in numerical values (test)\n",
        "\n",
        "test_df[\"res_address_code\"] = ord_enc.fit_transform(test_df[[\"res_address_code\"]])\n",
        "test_df[\"res_address_value\"] = ord_enc.fit_transform(test_df[[\"res_address_value\"]])\n",
        "test_df[\"dom_address_code\"] = ord_enc.fit_transform(test_df[[\"dom_address_code\"]])\n",
        "test_df[\"dom_address_value\"] = ord_enc.fit_transform(test_df[[\"dom_address_value\"]])\n",
        "\n",
        "# compute mean consumptions by user\n",
        "train_df = train_df.groupby(by = 'userID').mean().reset_index()\n",
        "# attach labels to training features\n",
        "train_df = pd.merge(train_df, labels_df, on='userID', how='outer')\n",
        "# keep only selected features\n",
        "train_df = train_df.drop(columns = [\"userID\", \"billing_range.from_date\", \"billing_range.to_date\", 'legalNature', 'citizenshipNoUSA'])\n",
        "test_df = test_df.groupby(by = 'userID').mean().reset_index()\n",
        "user_ids = test_df[\"userID\"]\n",
        "test_df = test_df.drop(columns= [\"userID\", \"billing_range.from_date\", \"billing_range.to_date\", 'legalNature', 'citizenshipNoUSA'])"
      ],
      "metadata": {
        "id": "8qbuxSmE0DTI"
      },
      "execution_count": null,
      "outputs": []
    },
    {
      "cell_type": "markdown",
      "source": [
        "Let's have a quick look at our training features."
      ],
      "metadata": {
        "id": "QQq-wIl3adtS"
      }
    },
    {
      "cell_type": "code",
      "source": [
        "train_df.head()"
      ],
      "metadata": {
        "id": "-4mGa1T-CzfL",
        "outputId": "da2e4482-30db-46f7-8d05-bea79eaaa0d6",
        "colab": {
          "base_uri": "https://localhost:8080/",
          "height": 206
        }
      },
      "execution_count": null,
      "outputs": [
        {
          "output_type": "execute_result",
          "data": {
            "text/plain": [
              "    Age         f1         f2         f3  res_address_code  res_address_value  \\\n",
              "0  42.0  19.000000  47.666667  36.666667            3648.0             3672.0   \n",
              "1  35.0   1.000000  44.000000  37.000000            5682.0             5732.0   \n",
              "2  31.0  42.333333  14.666667  66.333333             913.0              919.0   \n",
              "3  42.0  54.000000   3.000000  80.000000            5328.0             5368.0   \n",
              "4  74.0  33.000000  54.500000   8.500000            2280.0             2280.0   \n",
              "\n",
              "   dom_address_code  dom_address_value  cluster  \n",
              "0            2909.0             2936.0        1  \n",
              "1            4534.0             4583.0        1  \n",
              "2            1633.0             1636.0        2  \n",
              "3            4273.0             4312.0        2  \n",
              "4             309.0              306.0        1  "
            ],
            "text/html": [
              "\n",
              "  <div id=\"df-b57ba087-28d3-4daa-9cd8-2325346e3f13\">\n",
              "    <div class=\"colab-df-container\">\n",
              "      <div>\n",
              "<style scoped>\n",
              "    .dataframe tbody tr th:only-of-type {\n",
              "        vertical-align: middle;\n",
              "    }\n",
              "\n",
              "    .dataframe tbody tr th {\n",
              "        vertical-align: top;\n",
              "    }\n",
              "\n",
              "    .dataframe thead th {\n",
              "        text-align: right;\n",
              "    }\n",
              "</style>\n",
              "<table border=\"1\" class=\"dataframe\">\n",
              "  <thead>\n",
              "    <tr style=\"text-align: right;\">\n",
              "      <th></th>\n",
              "      <th>Age</th>\n",
              "      <th>f1</th>\n",
              "      <th>f2</th>\n",
              "      <th>f3</th>\n",
              "      <th>res_address_code</th>\n",
              "      <th>res_address_value</th>\n",
              "      <th>dom_address_code</th>\n",
              "      <th>dom_address_value</th>\n",
              "      <th>cluster</th>\n",
              "    </tr>\n",
              "  </thead>\n",
              "  <tbody>\n",
              "    <tr>\n",
              "      <th>0</th>\n",
              "      <td>42.0</td>\n",
              "      <td>19.000000</td>\n",
              "      <td>47.666667</td>\n",
              "      <td>36.666667</td>\n",
              "      <td>3648.0</td>\n",
              "      <td>3672.0</td>\n",
              "      <td>2909.0</td>\n",
              "      <td>2936.0</td>\n",
              "      <td>1</td>\n",
              "    </tr>\n",
              "    <tr>\n",
              "      <th>1</th>\n",
              "      <td>35.0</td>\n",
              "      <td>1.000000</td>\n",
              "      <td>44.000000</td>\n",
              "      <td>37.000000</td>\n",
              "      <td>5682.0</td>\n",
              "      <td>5732.0</td>\n",
              "      <td>4534.0</td>\n",
              "      <td>4583.0</td>\n",
              "      <td>1</td>\n",
              "    </tr>\n",
              "    <tr>\n",
              "      <th>2</th>\n",
              "      <td>31.0</td>\n",
              "      <td>42.333333</td>\n",
              "      <td>14.666667</td>\n",
              "      <td>66.333333</td>\n",
              "      <td>913.0</td>\n",
              "      <td>919.0</td>\n",
              "      <td>1633.0</td>\n",
              "      <td>1636.0</td>\n",
              "      <td>2</td>\n",
              "    </tr>\n",
              "    <tr>\n",
              "      <th>3</th>\n",
              "      <td>42.0</td>\n",
              "      <td>54.000000</td>\n",
              "      <td>3.000000</td>\n",
              "      <td>80.000000</td>\n",
              "      <td>5328.0</td>\n",
              "      <td>5368.0</td>\n",
              "      <td>4273.0</td>\n",
              "      <td>4312.0</td>\n",
              "      <td>2</td>\n",
              "    </tr>\n",
              "    <tr>\n",
              "      <th>4</th>\n",
              "      <td>74.0</td>\n",
              "      <td>33.000000</td>\n",
              "      <td>54.500000</td>\n",
              "      <td>8.500000</td>\n",
              "      <td>2280.0</td>\n",
              "      <td>2280.0</td>\n",
              "      <td>309.0</td>\n",
              "      <td>306.0</td>\n",
              "      <td>1</td>\n",
              "    </tr>\n",
              "  </tbody>\n",
              "</table>\n",
              "</div>\n",
              "      <button class=\"colab-df-convert\" onclick=\"convertToInteractive('df-b57ba087-28d3-4daa-9cd8-2325346e3f13')\"\n",
              "              title=\"Convert this dataframe to an interactive table.\"\n",
              "              style=\"display:none;\">\n",
              "        \n",
              "  <svg xmlns=\"http://www.w3.org/2000/svg\" height=\"24px\"viewBox=\"0 0 24 24\"\n",
              "       width=\"24px\">\n",
              "    <path d=\"M0 0h24v24H0V0z\" fill=\"none\"/>\n",
              "    <path d=\"M18.56 5.44l.94 2.06.94-2.06 2.06-.94-2.06-.94-.94-2.06-.94 2.06-2.06.94zm-11 1L8.5 8.5l.94-2.06 2.06-.94-2.06-.94L8.5 2.5l-.94 2.06-2.06.94zm10 10l.94 2.06.94-2.06 2.06-.94-2.06-.94-.94-2.06-.94 2.06-2.06.94z\"/><path d=\"M17.41 7.96l-1.37-1.37c-.4-.4-.92-.59-1.43-.59-.52 0-1.04.2-1.43.59L10.3 9.45l-7.72 7.72c-.78.78-.78 2.05 0 2.83L4 21.41c.39.39.9.59 1.41.59.51 0 1.02-.2 1.41-.59l7.78-7.78 2.81-2.81c.8-.78.8-2.07 0-2.86zM5.41 20L4 18.59l7.72-7.72 1.47 1.35L5.41 20z\"/>\n",
              "  </svg>\n",
              "      </button>\n",
              "      \n",
              "  <style>\n",
              "    .colab-df-container {\n",
              "      display:flex;\n",
              "      flex-wrap:wrap;\n",
              "      gap: 12px;\n",
              "    }\n",
              "\n",
              "    .colab-df-convert {\n",
              "      background-color: #E8F0FE;\n",
              "      border: none;\n",
              "      border-radius: 50%;\n",
              "      cursor: pointer;\n",
              "      display: none;\n",
              "      fill: #1967D2;\n",
              "      height: 32px;\n",
              "      padding: 0 0 0 0;\n",
              "      width: 32px;\n",
              "    }\n",
              "\n",
              "    .colab-df-convert:hover {\n",
              "      background-color: #E2EBFA;\n",
              "      box-shadow: 0px 1px 2px rgba(60, 64, 67, 0.3), 0px 1px 3px 1px rgba(60, 64, 67, 0.15);\n",
              "      fill: #174EA6;\n",
              "    }\n",
              "\n",
              "    [theme=dark] .colab-df-convert {\n",
              "      background-color: #3B4455;\n",
              "      fill: #D2E3FC;\n",
              "    }\n",
              "\n",
              "    [theme=dark] .colab-df-convert:hover {\n",
              "      background-color: #434B5C;\n",
              "      box-shadow: 0px 1px 3px 1px rgba(0, 0, 0, 0.15);\n",
              "      filter: drop-shadow(0px 1px 2px rgba(0, 0, 0, 0.3));\n",
              "      fill: #FFFFFF;\n",
              "    }\n",
              "  </style>\n",
              "\n",
              "      <script>\n",
              "        const buttonEl =\n",
              "          document.querySelector('#df-b57ba087-28d3-4daa-9cd8-2325346e3f13 button.colab-df-convert');\n",
              "        buttonEl.style.display =\n",
              "          google.colab.kernel.accessAllowed ? 'block' : 'none';\n",
              "\n",
              "        async function convertToInteractive(key) {\n",
              "          const element = document.querySelector('#df-b57ba087-28d3-4daa-9cd8-2325346e3f13');\n",
              "          const dataTable =\n",
              "            await google.colab.kernel.invokeFunction('convertToInteractive',\n",
              "                                                     [key], {});\n",
              "          if (!dataTable) return;\n",
              "\n",
              "          const docLinkHtml = 'Like what you see? Visit the ' +\n",
              "            '<a target=\"_blank\" href=https://colab.research.google.com/notebooks/data_table.ipynb>data table notebook</a>'\n",
              "            + ' to learn more about interactive tables.';\n",
              "          element.innerHTML = '';\n",
              "          dataTable['output_type'] = 'display_data';\n",
              "          await google.colab.output.renderOutput(dataTable, element);\n",
              "          const docLink = document.createElement('div');\n",
              "          docLink.innerHTML = docLinkHtml;\n",
              "          element.appendChild(docLink);\n",
              "        }\n",
              "      </script>\n",
              "    </div>\n",
              "  </div>\n",
              "  "
            ]
          },
          "metadata": {},
          "execution_count": 110
        }
      ]
    },
    {
      "cell_type": "markdown",
      "source": [
        "Now we create and train our model using TensorFlow."
      ],
      "metadata": {
        "id": "PKaQlmK9aoqR"
      }
    },
    {
      "cell_type": "code",
      "source": [
        "# Convert the dataset into a TensorFlow dataset\n",
        "train_ds = tfdf.keras.pd_dataframe_to_tf_dataset(train_df, label=\"cluster\")\n",
        "test_ds = tfdf.keras.pd_dataframe_to_tf_dataset(test_df)"
      ],
      "metadata": {
        "id": "0mbX52AVGcej",
        "outputId": "3d934126-a068-4c2f-907e-dead409a5e93",
        "colab": {
          "base_uri": "https://localhost:8080/"
        }
      },
      "execution_count": null,
      "outputs": [
        {
          "output_type": "stream",
          "name": "stderr",
          "text": [
            "/usr/local/lib/python3.7/dist-packages/tensorflow_decision_forests/keras/core.py:2542: FutureWarning: In a future version of pandas all arguments of DataFrame.drop except for the argument 'labels' will be keyword-only\n",
            "  features_dataframe = dataframe.drop(label, 1)\n"
          ]
        }
      ]
    },
    {
      "cell_type": "code",
      "source": [
        "# Train a Random Forest model\n",
        "model = tfdf.keras.RandomForestModel()\n",
        "model.fit(train_ds)"
      ],
      "metadata": {
        "id": "5wOVRkRn2BPm",
        "outputId": "d00b5af3-0bf7-4729-f00d-9ba23e8284f7",
        "colab": {
          "base_uri": "https://localhost:8080/"
        }
      },
      "execution_count": null,
      "outputs": [
        {
          "output_type": "stream",
          "name": "stdout",
          "text": [
            "Use /tmp/tmpn8yirxrv as temporary training directory\n",
            "Reading training dataset...\n",
            "WARNING:tensorflow:6 out of the last 6 calls to <function CoreModel._consumes_training_examples_until_eof at 0x7f64932ac200> triggered tf.function retracing. Tracing is expensive and the excessive number of tracings could be due to (1) creating @tf.function repeatedly in a loop, (2) passing tensors with different shapes, (3) passing Python objects instead of tensors. For (1), please define your @tf.function outside of the loop. For (2), @tf.function has reduce_retracing=True option that can avoid unnecessary retracing. For (3), please refer to https://www.tensorflow.org/guide/function#controlling_retracing and https://www.tensorflow.org/api_docs/python/tf/function for  more details.\n"
          ]
        },
        {
          "output_type": "stream",
          "name": "stderr",
          "text": [
            "WARNING:tensorflow:6 out of the last 6 calls to <function CoreModel._consumes_training_examples_until_eof at 0x7f64932ac200> triggered tf.function retracing. Tracing is expensive and the excessive number of tracings could be due to (1) creating @tf.function repeatedly in a loop, (2) passing tensors with different shapes, (3) passing Python objects instead of tensors. For (1), please define your @tf.function outside of the loop. For (2), @tf.function has reduce_retracing=True option that can avoid unnecessary retracing. For (3), please refer to https://www.tensorflow.org/guide/function#controlling_retracing and https://www.tensorflow.org/api_docs/python/tf/function for  more details.\n"
          ]
        },
        {
          "output_type": "stream",
          "name": "stdout",
          "text": [
            "Training dataset read in 0:00:00.534595. Found 70000 examples.\n",
            "Training model...\n",
            "Model trained in 0:01:24.882749\n",
            "Compiling model...\n",
            "Model compiled.\n",
            "WARNING:tensorflow:6 out of the last 6 calls to <function CoreModel.yggdrasil_model_path_tensor at 0x7f64861539e0> triggered tf.function retracing. Tracing is expensive and the excessive number of tracings could be due to (1) creating @tf.function repeatedly in a loop, (2) passing tensors with different shapes, (3) passing Python objects instead of tensors. For (1), please define your @tf.function outside of the loop. For (2), @tf.function has reduce_retracing=True option that can avoid unnecessary retracing. For (3), please refer to https://www.tensorflow.org/guide/function#controlling_retracing and https://www.tensorflow.org/api_docs/python/tf/function for  more details.\n"
          ]
        },
        {
          "output_type": "stream",
          "name": "stderr",
          "text": [
            "WARNING:tensorflow:6 out of the last 6 calls to <function CoreModel.yggdrasil_model_path_tensor at 0x7f64861539e0> triggered tf.function retracing. Tracing is expensive and the excessive number of tracings could be due to (1) creating @tf.function repeatedly in a loop, (2) passing tensors with different shapes, (3) passing Python objects instead of tensors. For (1), please define your @tf.function outside of the loop. For (2), @tf.function has reduce_retracing=True option that can avoid unnecessary retracing. For (3), please refer to https://www.tensorflow.org/guide/function#controlling_retracing and https://www.tensorflow.org/api_docs/python/tf/function for  more details.\n"
          ]
        },
        {
          "output_type": "execute_result",
          "data": {
            "text/plain": [
              "<keras.callbacks.History at 0x7f64814a5850>"
            ]
          },
          "metadata": {},
          "execution_count": 112
        }
      ]
    },
    {
      "cell_type": "code",
      "source": [
        "model.summary()"
      ],
      "metadata": {
        "id": "2yrdyslWEqXn",
        "outputId": "66d246dd-f2d3-43e7-f5b5-560dab1d0d1f",
        "colab": {
          "base_uri": "https://localhost:8080/"
        }
      },
      "execution_count": null,
      "outputs": [
        {
          "output_type": "stream",
          "name": "stdout",
          "text": [
            "Model: \"random_forest_model_5\"\n",
            "_________________________________________________________________\n",
            " Layer (type)                Output Shape              Param #   \n",
            "=================================================================\n",
            "=================================================================\n",
            "Total params: 1\n",
            "Trainable params: 0\n",
            "Non-trainable params: 1\n",
            "_________________________________________________________________\n",
            "Type: \"RANDOM_FOREST\"\n",
            "Task: CLASSIFICATION\n",
            "Label: \"__LABEL\"\n",
            "\n",
            "Input Features (8):\n",
            "\tAge\n",
            "\tdom_address_code\n",
            "\tdom_address_value\n",
            "\tf1\n",
            "\tf2\n",
            "\tf3\n",
            "\tres_address_code\n",
            "\tres_address_value\n",
            "\n",
            "No weights\n",
            "\n",
            "Variable Importance: MEAN_MIN_DEPTH:\n",
            "    1.           \"__LABEL\" 13.082605 ################\n",
            "    2. \"res_address_value\" 11.564092 #############\n",
            "    3.  \"dom_address_code\" 11.548148 #############\n",
            "    4. \"dom_address_value\" 11.528808 #############\n",
            "    5.  \"res_address_code\" 11.510107 #############\n",
            "    6.                \"f2\"  2.673909 #\n",
            "    7.                \"f3\"  2.594090 #\n",
            "    8.               \"Age\"  2.127593 \n",
            "    9.                \"f1\"  1.477616 \n",
            "\n",
            "Variable Importance: NUM_AS_ROOT:\n",
            "    1.               \"Age\" 124.000000 ################\n",
            "    2.                \"f1\" 105.000000 #############\n",
            "    3.                \"f2\" 39.000000 ####\n",
            "    4.                \"f3\" 26.000000 ###\n",
            "    5.  \"res_address_code\"  3.000000 \n",
            "    6.  \"dom_address_code\"  2.000000 \n",
            "    7. \"dom_address_value\"  1.000000 \n",
            "\n",
            "Variable Importance: NUM_NODES:\n",
            "    1.                \"f3\" 183172.000000 ################\n",
            "    2.                \"f2\" 181465.000000 ###############\n",
            "    3.                \"f1\" 180510.000000 ###############\n",
            "    4.               \"Age\" 127343.000000 ####\n",
            "    5. \"res_address_value\" 107946.000000 \n",
            "    6.  \"res_address_code\" 106929.000000 \n",
            "    7. \"dom_address_value\" 106179.000000 \n",
            "    8.  \"dom_address_code\" 104387.000000 \n",
            "\n",
            "Variable Importance: SUM_SCORE:\n",
            "    1.                \"f1\" 4698496.135650 ################\n",
            "    2.                \"f3\" 3861348.475792 ############\n",
            "    3.                \"f2\" 3610960.313035 ###########\n",
            "    4.               \"Age\" 3303019.933609 ##########\n",
            "    5. \"res_address_value\" 433841.941484 \n",
            "    6.  \"res_address_code\" 428390.244942 \n",
            "    7. \"dom_address_value\" 424709.043209 \n",
            "    8.  \"dom_address_code\" 417712.689093 \n",
            "\n",
            "\n",
            "\n",
            "Winner take all: true\n",
            "Out-of-bag evaluation: accuracy:0.846014 logloss:0.442532\n",
            "Number of trees: 300\n",
            "Total number of nodes: 2196162\n",
            "\n",
            "Number of nodes by tree:\n",
            "Count: 300 Average: 7320.54 StdDev: 198.001\n",
            "Min: 6449 Max: 7807 Ignored: 0\n",
            "----------------------------------------------\n",
            "[ 6449, 6516)  1   0.33%   0.33%\n",
            "[ 6516, 6584)  1   0.33%   0.67%\n",
            "[ 6584, 6652)  1   0.33%   1.00%\n",
            "[ 6652, 6720)  1   0.33%   1.33%\n",
            "[ 6720, 6788)  0   0.00%   1.33%\n",
            "[ 6788, 6856)  2   0.67%   2.00%\n",
            "[ 6856, 6924)  0   0.00%   2.00%\n",
            "[ 6924, 6992) 11   3.67%   5.67% ##\n",
            "[ 6992, 7060)  9   3.00%   8.67% ##\n",
            "[ 7060, 7128) 13   4.33%  13.00% ###\n",
            "[ 7128, 7196) 27   9.00%  22.00% #####\n",
            "[ 7196, 7264) 42  14.00%  36.00% ########\n",
            "[ 7264, 7332) 52  17.33%  53.33% ##########\n",
            "[ 7332, 7400) 35  11.67%  65.00% #######\n",
            "[ 7400, 7468) 33  11.00%  76.00% ######\n",
            "[ 7468, 7536) 37  12.33%  88.33% #######\n",
            "[ 7536, 7604) 17   5.67%  94.00% ###\n",
            "[ 7604, 7672) 10   3.33%  97.33% ##\n",
            "[ 7672, 7740)  6   2.00%  99.33% #\n",
            "[ 7740, 7807]  2   0.67% 100.00%\n",
            "\n",
            "Depth by leafs:\n",
            "Count: 1098231 Average: 13.082 StdDev: 1.72066\n",
            "Min: 3 Max: 15 Ignored: 0\n",
            "----------------------------------------------\n",
            "[  3,  4)      4   0.00%   0.00%\n",
            "[  4,  5)     10   0.00%   0.00%\n",
            "[  5,  6)     41   0.00%   0.01%\n",
            "[  6,  7)    267   0.02%   0.03%\n",
            "[  7,  8)   1552   0.14%   0.17%\n",
            "[  8,  9)   7381   0.67%   0.84%\n",
            "[  9, 10)  24897   2.27%   3.11% #\n",
            "[ 10, 11)  61090   5.56%   8.67% ##\n",
            "[ 11, 12) 114015  10.38%  19.05% ####\n",
            "[ 12, 13) 169347  15.42%  34.47% ######\n",
            "[ 13, 14) 205399  18.70%  53.18% #######\n",
            "[ 14, 15) 209640  19.09%  72.27% #######\n",
            "[ 15, 15] 304588  27.73% 100.00% ##########\n",
            "\n",
            "Number of training obs by leaf:\n",
            "Count: 1098231 Average: 19.1217 StdDev: 41.132\n",
            "Min: 5 Max: 2219 Ignored: 0\n",
            "----------------------------------------------\n",
            "[    5,  115) 1075165  97.90%  97.90% ##########\n",
            "[  115,  226)   16191   1.47%  99.37%\n",
            "[  226,  337)    3813   0.35%  99.72%\n",
            "[  337,  448)    1475   0.13%  99.86%\n",
            "[  448,  558)     670   0.06%  99.92%\n",
            "[  558,  669)     348   0.03%  99.95%\n",
            "[  669,  780)     208   0.02%  99.97%\n",
            "[  780,  891)     123   0.01%  99.98%\n",
            "[  891, 1001)      81   0.01%  99.99%\n",
            "[ 1001, 1112)      44   0.00%  99.99%\n",
            "[ 1112, 1223)      33   0.00%  99.99%\n",
            "[ 1223, 1334)      36   0.00% 100.00%\n",
            "[ 1334, 1444)      19   0.00% 100.00%\n",
            "[ 1444, 1555)       7   0.00% 100.00%\n",
            "[ 1555, 1666)       7   0.00% 100.00%\n",
            "[ 1666, 1777)       7   0.00% 100.00%\n",
            "[ 1777, 1887)       2   0.00% 100.00%\n",
            "[ 1887, 1998)       0   0.00% 100.00%\n",
            "[ 1998, 2109)       1   0.00% 100.00%\n",
            "[ 2109, 2219]       1   0.00% 100.00%\n",
            "\n",
            "Attribute in nodes:\n",
            "\t183172 : f3 [NUMERICAL]\n",
            "\t181465 : f2 [NUMERICAL]\n",
            "\t180510 : f1 [NUMERICAL]\n",
            "\t127343 : Age [NUMERICAL]\n",
            "\t107946 : res_address_value [NUMERICAL]\n",
            "\t106929 : res_address_code [NUMERICAL]\n",
            "\t106179 : dom_address_value [NUMERICAL]\n",
            "\t104387 : dom_address_code [NUMERICAL]\n",
            "\n",
            "Attribute in nodes with depth <= 0:\n",
            "\t124 : Age [NUMERICAL]\n",
            "\t105 : f1 [NUMERICAL]\n",
            "\t39 : f2 [NUMERICAL]\n",
            "\t26 : f3 [NUMERICAL]\n",
            "\t3 : res_address_code [NUMERICAL]\n",
            "\t2 : dom_address_code [NUMERICAL]\n",
            "\t1 : dom_address_value [NUMERICAL]\n",
            "\n",
            "Attribute in nodes with depth <= 1:\n",
            "\t297 : Age [NUMERICAL]\n",
            "\t275 : f1 [NUMERICAL]\n",
            "\t160 : f3 [NUMERICAL]\n",
            "\t157 : f2 [NUMERICAL]\n",
            "\t4 : res_address_code [NUMERICAL]\n",
            "\t3 : dom_address_value [NUMERICAL]\n",
            "\t3 : dom_address_code [NUMERICAL]\n",
            "\t1 : res_address_value [NUMERICAL]\n",
            "\n",
            "Attribute in nodes with depth <= 2:\n",
            "\t622 : f1 [NUMERICAL]\n",
            "\t524 : Age [NUMERICAL]\n",
            "\t491 : f3 [NUMERICAL]\n",
            "\t431 : f2 [NUMERICAL]\n",
            "\t10 : dom_address_value [NUMERICAL]\n",
            "\t8 : dom_address_code [NUMERICAL]\n",
            "\t7 : res_address_value [NUMERICAL]\n",
            "\t7 : res_address_code [NUMERICAL]\n",
            "\n",
            "Attribute in nodes with depth <= 3:\n",
            "\t1278 : f1 [NUMERICAL]\n",
            "\t1171 : f3 [NUMERICAL]\n",
            "\t1036 : f2 [NUMERICAL]\n",
            "\t936 : Age [NUMERICAL]\n",
            "\t28 : dom_address_value [NUMERICAL]\n",
            "\t16 : res_address_value [NUMERICAL]\n",
            "\t16 : dom_address_code [NUMERICAL]\n",
            "\t15 : res_address_code [NUMERICAL]\n",
            "\n",
            "Attribute in nodes with depth <= 5:\n",
            "\t5409 : f3 [NUMERICAL]\n",
            "\t5178 : f1 [NUMERICAL]\n",
            "\t4910 : f2 [NUMERICAL]\n",
            "\t2693 : Age [NUMERICAL]\n",
            "\t165 : res_address_value [NUMERICAL]\n",
            "\t158 : dom_address_value [NUMERICAL]\n",
            "\t145 : dom_address_code [NUMERICAL]\n",
            "\t143 : res_address_code [NUMERICAL]\n",
            "\n",
            "Condition type in nodes:\n",
            "\t1097931 : HigherCondition\n",
            "Condition type in nodes with depth <= 0:\n",
            "\t300 : HigherCondition\n",
            "Condition type in nodes with depth <= 1:\n",
            "\t900 : HigherCondition\n",
            "Condition type in nodes with depth <= 2:\n",
            "\t2100 : HigherCondition\n",
            "Condition type in nodes with depth <= 3:\n",
            "\t4496 : HigherCondition\n",
            "Condition type in nodes with depth <= 5:\n",
            "\t18801 : HigherCondition\n",
            "Node format: NOT_SET\n",
            "\n",
            "Training OOB:\n",
            "\ttrees: 1, Out-of-bag evaluation: accuracy:0.790288 logloss:7.55878\n",
            "\ttrees: 11, Out-of-bag evaluation: accuracy:0.815675 logloss:2.7791\n",
            "\ttrees: 21, Out-of-bag evaluation: accuracy:0.832157 logloss:1.55725\n",
            "\ttrees: 31, Out-of-bag evaluation: accuracy:0.836843 logloss:1.15976\n",
            "\ttrees: 41, Out-of-bag evaluation: accuracy:0.8397 logloss:0.963482\n",
            "\ttrees: 51, Out-of-bag evaluation: accuracy:0.841457 logloss:0.836552\n",
            "\ttrees: 61, Out-of-bag evaluation: accuracy:0.8422 logloss:0.753544\n",
            "\ttrees: 71, Out-of-bag evaluation: accuracy:0.843086 logloss:0.698197\n",
            "\ttrees: 81, Out-of-bag evaluation: accuracy:0.843514 logloss:0.662126\n",
            "\ttrees: 91, Out-of-bag evaluation: accuracy:0.843986 logloss:0.634945\n",
            "\ttrees: 101, Out-of-bag evaluation: accuracy:0.844729 logloss:0.60776\n",
            "\ttrees: 111, Out-of-bag evaluation: accuracy:0.8449 logloss:0.58371\n",
            "\ttrees: 121, Out-of-bag evaluation: accuracy:0.844843 logloss:0.563141\n",
            "\ttrees: 131, Out-of-bag evaluation: accuracy:0.844743 logloss:0.542625\n",
            "\ttrees: 141, Out-of-bag evaluation: accuracy:0.845029 logloss:0.530638\n",
            "\ttrees: 151, Out-of-bag evaluation: accuracy:0.844757 logloss:0.519489\n",
            "\ttrees: 161, Out-of-bag evaluation: accuracy:0.844786 logloss:0.511264\n",
            "\ttrees: 171, Out-of-bag evaluation: accuracy:0.8451 logloss:0.503205\n",
            "\ttrees: 181, Out-of-bag evaluation: accuracy:0.845071 logloss:0.49753\n",
            "\ttrees: 191, Out-of-bag evaluation: accuracy:0.8453 logloss:0.489599\n",
            "\ttrees: 201, Out-of-bag evaluation: accuracy:0.845386 logloss:0.483654\n",
            "\ttrees: 211, Out-of-bag evaluation: accuracy:0.845486 logloss:0.478975\n",
            "\ttrees: 221, Out-of-bag evaluation: accuracy:0.845471 logloss:0.474261\n",
            "\ttrees: 231, Out-of-bag evaluation: accuracy:0.846043 logloss:0.47071\n",
            "\ttrees: 241, Out-of-bag evaluation: accuracy:0.846014 logloss:0.464211\n",
            "\ttrees: 251, Out-of-bag evaluation: accuracy:0.846043 logloss:0.456033\n",
            "\ttrees: 261, Out-of-bag evaluation: accuracy:0.845971 logloss:0.450576\n",
            "\ttrees: 271, Out-of-bag evaluation: accuracy:0.846071 logloss:0.448329\n",
            "\ttrees: 281, Out-of-bag evaluation: accuracy:0.846243 logloss:0.44543\n",
            "\ttrees: 291, Out-of-bag evaluation: accuracy:0.846129 logloss:0.443924\n",
            "\ttrees: 300, Out-of-bag evaluation: accuracy:0.846014 logloss:0.442532\n",
            "\n"
          ]
        }
      ]
    },
    {
      "cell_type": "markdown",
      "source": [
        "After training, we make our predictions on the test data to make our submission."
      ],
      "metadata": {
        "id": "1cTF87woazRO"
      }
    },
    {
      "cell_type": "code",
      "source": [
        "predictions = np.argmax(model.predict(test_ds), axis=1)"
      ],
      "metadata": {
        "id": "AZ5SwYpd_2Qi",
        "outputId": "023deacc-6a83-4c16-e63a-6564dbd2ba73",
        "colab": {
          "base_uri": "https://localhost:8080/"
        }
      },
      "execution_count": null,
      "outputs": [
        {
          "output_type": "stream",
          "name": "stdout",
          "text": [
            "WARNING:tensorflow:5 out of the last 14 calls to <function CoreModel.make_predict_function.<locals>.predict_function_trained at 0x7f648760f9e0> triggered tf.function retracing. Tracing is expensive and the excessive number of tracings could be due to (1) creating @tf.function repeatedly in a loop, (2) passing tensors with different shapes, (3) passing Python objects instead of tensors. For (1), please define your @tf.function outside of the loop. For (2), @tf.function has reduce_retracing=True option that can avoid unnecessary retracing. For (3), please refer to https://www.tensorflow.org/guide/function#controlling_retracing and https://www.tensorflow.org/api_docs/python/tf/function for  more details.\n"
          ]
        },
        {
          "output_type": "stream",
          "name": "stderr",
          "text": [
            "WARNING:tensorflow:5 out of the last 14 calls to <function CoreModel.make_predict_function.<locals>.predict_function_trained at 0x7f648760f9e0> triggered tf.function retracing. Tracing is expensive and the excessive number of tracings could be due to (1) creating @tf.function repeatedly in a loop, (2) passing tensors with different shapes, (3) passing Python objects instead of tensors. For (1), please define your @tf.function outside of the loop. For (2), @tf.function has reduce_retracing=True option that can avoid unnecessary retracing. For (3), please refer to https://www.tensorflow.org/guide/function#controlling_retracing and https://www.tensorflow.org/api_docs/python/tf/function for  more details.\n"
          ]
        },
        {
          "output_type": "stream",
          "name": "stdout",
          "text": [
            "10/10 [==============================] - 2s 164ms/step\n"
          ]
        }
      ]
    },
    {
      "cell_type": "markdown",
      "source": [
        "# Submit solution to Kaggle competition"
      ],
      "metadata": {
        "id": "ps24UFl55uUG"
      }
    },
    {
      "cell_type": "code",
      "source": [
        "# baseline submission\n",
        "test_submission = pd.DataFrame({\n",
        "    \"user\": year_projection_df.index,\n",
        "    \"cluster\": year_projection_df[\"cluster\"]})\n",
        "print(test_submission.head(10))\n",
        "print(test_submission.shape)"
      ],
      "metadata": {
        "id": "CX3KcgBlIut3",
        "colab": {
          "base_uri": "https://localhost:8080/"
        },
        "outputId": "3a4ffd70-33fd-4cb8-a1f4-68e4f92ab554"
      },
      "execution_count": null,
      "outputs": [
        {
          "output_type": "stream",
          "name": "stdout",
          "text": [
            "         user  cluster\n",
            "userID                \n",
            "90000   90000        2\n",
            "90001   90001        2\n",
            "90002   90002        1\n",
            "90003   90003        0\n",
            "90004   90004        1\n",
            "90005   90005        1\n",
            "90006   90006        0\n",
            "90007   90007        0\n",
            "90008   90008        1\n",
            "90009   90009        1\n",
            "(10000, 2)\n"
          ]
        }
      ]
    },
    {
      "cell_type": "code",
      "source": [
        "# Random Forest submission\n",
        "test_submission = pd.DataFrame({\n",
        "    \"user\": user_ids.values,\n",
        "    \"cluster\": predictions})\n",
        "print(test_submission.head(10))\n",
        "print(test_submission.shape)"
      ],
      "metadata": {
        "id": "fj13xV7M-Ave",
        "outputId": "0b718e6e-bce5-4f48-cf68-7995489e131c",
        "colab": {
          "base_uri": "https://localhost:8080/"
        }
      },
      "execution_count": null,
      "outputs": [
        {
          "output_type": "stream",
          "name": "stdout",
          "text": [
            "    user  cluster\n",
            "0  90000        2\n",
            "1  90001        1\n",
            "2  90002        1\n",
            "3  90003        0\n",
            "4  90004        1\n",
            "5  90005        1\n",
            "6  90006        0\n",
            "7  90007        0\n",
            "8  90008        1\n",
            "9  90009        1\n",
            "(10000, 2)\n"
          ]
        }
      ]
    },
    {
      "cell_type": "markdown",
      "source": [
        "Create a termporary folder for submissions"
      ],
      "metadata": {
        "id": "xO5UpsqcLs9C"
      }
    },
    {
      "cell_type": "code",
      "source": [
        "!mkdir -p submissions"
      ],
      "metadata": {
        "id": "77UI7mPiLsaj"
      },
      "execution_count": null,
      "outputs": []
    },
    {
      "cell_type": "code",
      "source": [
        "rf_labels_path = \"submissions/baseline.csv\"\n",
        "test_submission.to_csv(rf_labels_path, index=False)"
      ],
      "metadata": {
        "id": "IQIhleT2E7E3"
      },
      "execution_count": null,
      "outputs": []
    },
    {
      "cell_type": "code",
      "source": [
        "!kaggle competitions submit -c pitc-2122-clustering -f \"submissions/baseline.csv\" -m \"Random Forest classification\""
      ],
      "metadata": {
        "colab": {
          "base_uri": "https://localhost:8080/"
        },
        "id": "mgaT503595ci",
        "outputId": "161d1e39-0a94-4519-c3ba-ad92387a6d04"
      },
      "execution_count": null,
      "outputs": [
        {
          "output_type": "stream",
          "name": "stdout",
          "text": [
            "100% 78.1k/78.1k [00:02<00:00, 33.4kB/s]\n",
            "Successfully submitted to PITC 21/22 - Clustering"
          ]
        }
      ]
    }
  ]
}