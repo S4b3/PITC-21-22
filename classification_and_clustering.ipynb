{
  "nbformat": 4,
  "nbformat_minor": 0,
  "metadata": {
    "colab": {
      "name": "classification_and_clustering.ipynb",
      "provenance": [],
      "collapsed_sections": [],
      "include_colab_link": true
    },
    "kernelspec": {
      "name": "python3",
      "display_name": "Python 3"
    },
    "language_info": {
      "name": "python"
    }
  },
  "cells": [
    {
      "cell_type": "markdown",
      "metadata": {
        "id": "view-in-github",
        "colab_type": "text"
      },
      "source": [
        "<a href=\"https://colab.research.google.com/github/S4b3/PITC-21-22/blob/main/classification_and_clustering.ipynb\" target=\"_parent\"><img src=\"https://colab.research.google.com/assets/colab-badge.svg\" alt=\"Open In Colab\"/></a>"
      ]
    },
    {
      "cell_type": "markdown",
      "source": [
        "# Sync Code"
      ],
      "metadata": {
        "id": "-KFSmChtewli"
      }
    },
    {
      "cell_type": "markdown",
      "source": [
        "Clone the GitHub Repo\n"
      ],
      "metadata": {
        "id": "jguqXhldB-z4"
      }
    },
    {
      "cell_type": "code",
      "source": [
        "!cd /content\n",
        "!git clone https://github.com/szappac20/training_camp_21_22.git -b develop"
      ],
      "metadata": {
        "colab": {
          "base_uri": "https://localhost:8080/"
        },
        "id": "Ha1I4VSuB8Hp",
        "outputId": "c0f180d4-2f62-462e-c179-8fd3caee4529"
      },
      "execution_count": 1,
      "outputs": [
        {
          "output_type": "stream",
          "name": "stdout",
          "text": [
            "Cloning into 'training_camp_21_22'...\n",
            "remote: Enumerating objects: 29, done.\u001b[K\n",
            "remote: Counting objects: 100% (29/29), done.\u001b[K\n",
            "remote: Compressing objects: 100% (21/21), done.\u001b[K\n",
            "remote: Total 29 (delta 6), reused 25 (delta 5), pack-reused 0\u001b[K\n",
            "Unpacking objects: 100% (29/29), done.\n"
          ]
        }
      ]
    },
    {
      "cell_type": "markdown",
      "source": [
        "`Move to the Python Project root folder` and install requirements"
      ],
      "metadata": {
        "id": "r_NIiReYe-2I"
      }
    },
    {
      "cell_type": "code",
      "execution_count": 2,
      "metadata": {
        "colab": {
          "base_uri": "https://localhost:8080/"
        },
        "id": "TH6YsTk_Bs5_",
        "outputId": "245bedd5-f7ff-4170-e0b6-16f1fd8d5104"
      },
      "outputs": [
        {
          "output_type": "stream",
          "name": "stdout",
          "text": [
            "/content/training_camp_21_22\n",
            "\u001b[K     |████████████████████████████████| 38.1 MB 1.3 MB/s \n",
            "\u001b[K     |████████████████████████████████| 9.8 MB 38.6 MB/s \n",
            "\u001b[K     |████████████████████████████████| 511.7 MB 6.1 kB/s \n",
            "\u001b[K     |████████████████████████████████| 554 kB 53.4 MB/s \n",
            "\u001b[K     |████████████████████████████████| 13.1 MB 47.3 MB/s \n",
            "\u001b[K     |████████████████████████████████| 1.1 MB 58.6 MB/s \n",
            "\u001b[K     |████████████████████████████████| 15.8 MB 29.3 MB/s \n",
            "\u001b[K     |████████████████████████████████| 438 kB 56.6 MB/s \n",
            "\u001b[K     |████████████████████████████████| 1.6 MB 61.6 MB/s \n",
            "\u001b[K     |████████████████████████████████| 5.8 MB 40.3 MB/s \n",
            "\u001b[31mERROR: pip's dependency resolver does not currently take into account all the packages that are installed. This behaviour is the source of the following dependency conflicts.\n",
            "albumentations 0.1.12 requires imgaug<0.2.7,>=0.2.5, but you have imgaug 0.2.9 which is incompatible.\u001b[0m\n",
            "\u001b[?25h"
          ]
        }
      ],
      "source": [
        "%cd /content/training_camp_21_22\n",
        "%pip install --upgrade -r requirements.txt -qqq"
      ]
    },
    {
      "cell_type": "markdown",
      "source": [
        "# Download Dataset from Kaggle competition"
      ],
      "metadata": {
        "id": "Hw9CL1-a3U6r"
      }
    },
    {
      "cell_type": "markdown",
      "source": [
        "Download dataset from Kaggle competition pitc-2122-clustering"
      ],
      "metadata": {
        "id": "MbrkchGZIbeo"
      }
    },
    {
      "cell_type": "code",
      "source": [
        "!mkdir -p ~/.kaggle"
      ],
      "metadata": {
        "id": "l2qHvKpFyZGo"
      },
      "execution_count": 3,
      "outputs": []
    },
    {
      "cell_type": "markdown",
      "source": [
        "Download the kaggle.json token file"
      ],
      "metadata": {
        "id": "uPvXm5x12YkB"
      }
    },
    {
      "cell_type": "code",
      "source": [
        "!gdown 1w81nWRhAr1E_hX9OSncuMxlCefxnP2zN -O  ~/.kaggle/kaggle.json\n",
        "!chmod 600 ~/.kaggle/kaggle.json"
      ],
      "metadata": {
        "colab": {
          "base_uri": "https://localhost:8080/"
        },
        "id": "QJXSu0BLzJh_",
        "outputId": "a04e20c7-538f-4883-f9d8-ab581c47a205"
      },
      "execution_count": null,
      "outputs": [
        {
          "output_type": "stream",
          "name": "stdout",
          "text": [
            "Downloading...\n",
            "From: https://drive.google.com/uc?id=1w81nWRhAr1E_hX9OSncuMxlCefxnP2zN\n",
            "To: /root/.kaggle/kaggle.json\n",
            "\r  0% 0.00/74.0 [00:00<?, ?B/s]\r100% 74.0/74.0 [00:00<00:00, 106kB/s]\n"
          ]
        }
      ]
    },
    {
      "cell_type": "markdown",
      "source": [
        "Download the input file (training and test)"
      ],
      "metadata": {
        "id": "VASRT8uz2xvU"
      }
    },
    {
      "cell_type": "code",
      "source": [
        "!mkdir -p data/task_1"
      ],
      "metadata": {
        "id": "O13ut6JsLcom"
      },
      "execution_count": 4,
      "outputs": []
    },
    {
      "cell_type": "code",
      "source": [
        "%cd data/task_1"
      ],
      "metadata": {
        "colab": {
          "base_uri": "https://localhost:8080/"
        },
        "id": "cN9ErWyvMCKo",
        "outputId": "4691381e-9e55-4f8b-e367-b891df6175bf"
      },
      "execution_count": 5,
      "outputs": [
        {
          "output_type": "stream",
          "name": "stdout",
          "text": [
            "/content/training_camp_21_22/data/task_1\n"
          ]
        }
      ]
    },
    {
      "cell_type": "code",
      "source": [
        "!kaggle competitions download -c pitc-2122-clustering\n",
        "!unzip pitc-2122-clustering.zip"
      ],
      "metadata": {
        "colab": {
          "base_uri": "https://localhost:8080/"
        },
        "id": "GRoQSvu5IZ4q",
        "outputId": "5982fa80-b836-4abd-acb7-dd77981421ca"
      },
      "execution_count": 6,
      "outputs": [
        {
          "output_type": "stream",
          "name": "stdout",
          "text": [
            "Warning: Your Kaggle API key is readable by other users on this system! To fix this, you can run 'chmod 600 /root/.kaggle/kaggle.json'\n",
            "Downloading pitc-2122-clustering.zip to /content/training_camp_21_22/data/task_1\n",
            " 69% 16.0M/23.1M [00:00<00:00, 167MB/s]\n",
            "100% 23.1M/23.1M [00:00<00:00, 194MB/s]\n",
            "Archive:  pitc-2122-clustering.zip\n",
            "  inflating: sample_submission.csv   \n",
            "  inflating: test.csv                \n",
            "  inflating: train.csv               \n"
          ]
        }
      ]
    },
    {
      "cell_type": "code",
      "source": [
        "%cd /content/training_camp_21_22"
      ],
      "metadata": {
        "colab": {
          "base_uri": "https://localhost:8080/"
        },
        "id": "_r1-tC19MLEO",
        "outputId": "2169d654-39a3-4f5a-c937-5367ae3e8cb8"
      },
      "execution_count": null,
      "outputs": [
        {
          "output_type": "stream",
          "name": "stdout",
          "text": [
            "/content/training_camp_21_22\n"
          ]
        }
      ]
    },
    {
      "cell_type": "markdown",
      "source": [
        "# Import packages"
      ],
      "metadata": {
        "id": "hLSxcbQW3aeA"
      }
    },
    {
      "cell_type": "markdown",
      "source": [
        "Move back to the Python project folder "
      ],
      "metadata": {
        "id": "VDbrFnra2rug"
      }
    },
    {
      "cell_type": "code",
      "source": [
        "%cd /content/training_camp_21_22"
      ],
      "metadata": {
        "colab": {
          "base_uri": "https://localhost:8080/"
        },
        "id": "sx3J1MnT19Cr",
        "outputId": "609dcd19-282b-4735-af89-5fa52c7b8cf0"
      },
      "execution_count": 7,
      "outputs": [
        {
          "output_type": "stream",
          "name": "stdout",
          "text": [
            "/content/training_camp_21_22\n"
          ]
        }
      ]
    },
    {
      "cell_type": "markdown",
      "source": [
        "Set the Python Path variable to the source folder"
      ],
      "metadata": {
        "id": "p6fRGb_ZgNYi"
      }
    },
    {
      "cell_type": "code",
      "source": [
        "import sys\n",
        "import os\n",
        "\n",
        "sys.path.append(\"training_camp_21_22\")"
      ],
      "metadata": {
        "id": "tcDMyFZNFYYR"
      },
      "execution_count": 8,
      "outputs": []
    },
    {
      "cell_type": "markdown",
      "source": [
        "Import libraries"
      ],
      "metadata": {
        "id": "jJud7i8NgVLC"
      }
    },
    {
      "cell_type": "code",
      "source": [
        "import numpy as np\n",
        "import pandas as pd\n",
        "import json\n",
        "from tqdm import tqdm\n",
        "import csv\n",
        "from sklearn.metrics import confusion_matrix\n",
        "import tensorflow_decision_forests as tfdf\n",
        "\n",
        "import training_camp_21_22.config\n",
        "import training_camp_21_22.data.commercial_offer\n",
        "import training_camp_21_22.models\n",
        "import training_camp_21_22.view.classification"
      ],
      "metadata": {
        "id": "oN28pu4HIj6m"
      },
      "execution_count": 9,
      "outputs": []
    },
    {
      "cell_type": "markdown",
      "source": [
        "# Preprocess Data"
      ],
      "metadata": {
        "id": "6ssxVp6bgdsi"
      }
    },
    {
      "cell_type": "markdown",
      "source": [
        "Dowload the data"
      ],
      "metadata": {
        "id": "4vKzC3MXgomb"
      }
    },
    {
      "cell_type": "code",
      "source": [
        "# Parse the csv file with json entries\n",
        "\n",
        "def convert_json_2_pd(json_input_path):\n",
        "    \"\"\"\n",
        "    Read the csv file and extract from json events\n",
        "    any feature useful to classify the consumer consumption profile \n",
        "    \"\"\"\n",
        "    csv_df = pd.DataFrame(columns=[\n",
        "      \"userID\",\n",
        "      \"legalNature\",\n",
        "      \"citizenshipNoUSA\",\n",
        "      \"billing_range.from_date\",\n",
        "      \"billing_range.to_date\",\n",
        "      \"fasciaF0ConsumoFatturato\",\n",
        "      \"fasciaF1ConsumoFatturato\",\n",
        "      \"fasciaF2ConsumoFatturato\",\n",
        "      \"fasciaF3ConsumoFatturato\",\n",
        "      \"fasciaF4ConsumoFatturato\",\n",
        "      \"fasciaF5ConsumoFatturato\",\n",
        "      \"fasciaF6ConsumoFatturato\",\n",
        "      \"res_address_code\",\n",
        "      \"res_address_value\",\n",
        "      \"dom_address_code\",\n",
        "      \"dom_address_value\"\n",
        "    ])\n",
        "\n",
        "\n",
        "    d = {}\n",
        "    labels = {}\n",
        "    i = 0\n",
        "    j = 0\n",
        "    with open(json_input_path) as csvfile:\n",
        "\n",
        "        reader = csv.reader(csvfile, delimiter=',')\n",
        "        next(reader)\n",
        "\n",
        "        for row in tqdm(reader):\n",
        "          # iterate through bill\n",
        "\n",
        "          for bill in json.loads(row[-1]) :\n",
        "            # read consumer id\n",
        "            id = row[0]\n",
        "\n",
        "            # billing_range\n",
        "            billing_range = bill['customData']['billing_range']\n",
        "            energy = bill['customData']['energy']\n",
        "            addresses = bill['bamData']['items']['bamItem']['addresses']\n",
        "            \n",
        "            res_address_code = ''\n",
        "            res_address_value = ''\n",
        "            dom_address_code = ''\n",
        "            dom_address_value = ''\n",
        "\n",
        "            # build the fields\n",
        "            for addr in addresses:\n",
        "              if(addr['type']['code'] == '2'):\n",
        "                res_address_code = addr['city']['code']\n",
        "                res_address_value = addr['city']['value']\n",
        "              elif(addr['type']['code'] == '6'):\n",
        "                dom_address_code = addr['city']['code']\n",
        "                dom_address_value = addr['city']['value']\n",
        "            \n",
        "\n",
        "            d[i] = {\n",
        "              'userID' : id,\n",
        "              'legalNature' : bill['bamData']['items']['bamItem']['legalNature'],\n",
        "              'citizenshipNoUSA' : bill['bamData']['items']['bamItem']['personInfo']['citizenshipNoUSA'],\n",
        "              'billing_range.from_date' : billing_range['from_date'],\n",
        "              'billing_range.to_date' : billing_range['to_date'],\n",
        "              'f1' : energy['fasciaF1ConsumoFatturato'],\n",
        "              'f2' : energy['fasciaF2ConsumoFatturato'],\n",
        "              'f3' : energy['fasciaF3ConsumoFatturato'],\n",
        "              'res_address_code': res_address_code,\n",
        "              'res_address_value': res_address_value,\n",
        "              'dom_address_code': dom_address_code,\n",
        "              'dom_address_value': dom_address_value\n",
        "            }\n",
        "            i = i+1\n",
        "\n",
        "          #labels[j] = {'user' : row[0] , 'cluster': int(row[1])}\n",
        "          #j += 1\n",
        "\n",
        "\n",
        "    return pd.DataFrame.from_dict(d, \"index\")#, pd.DataFrame.from_dict(labels, 'index')\n",
        "\n",
        "\n",
        "features_df = convert_json_2_pd(json_input_path=\"/content/training_camp_21_22/data/task_1/test.csv\")"
      ],
      "metadata": {
        "id": "_IbXPAobhc3J",
        "colab": {
          "base_uri": "https://localhost:8080/"
        },
        "outputId": "a454b7d7-1ca9-4c9f-a132-60b586a1ff09"
      },
      "execution_count": 57,
      "outputs": [
        {
          "output_type": "stream",
          "name": "stderr",
          "text": [
            "10000it [00:03, 2553.97it/s]\n"
          ]
        }
      ]
    },
    {
      "cell_type": "markdown",
      "source": [
        "Let's have a look at the collected data!"
      ],
      "metadata": {
        "id": "cFCugIEOgtbC"
      }
    },
    {
      "cell_type": "code",
      "source": [
        "features_df.head()"
      ],
      "metadata": {
        "colab": {
          "base_uri": "https://localhost:8080/",
          "height": 270
        },
        "id": "5x2w2yF4paye",
        "outputId": "1142af8b-8d4c-4a3b-bd33-4a28bac1422a"
      },
      "execution_count": 58,
      "outputs": [
        {
          "output_type": "execute_result",
          "data": {
            "text/plain": [
              "  userID legalNature  citizenshipNoUSA billing_range.from_date  \\\n",
              "0  90019          PF             False              2021-11-01   \n",
              "1  90019          PF             False              2021-08-01   \n",
              "2  90025          PF             False              2022-02-01   \n",
              "3  90025          PF             False              2021-08-01   \n",
              "4  90030          PF             False              2022-06-01   \n",
              "\n",
              "  billing_range.to_date    f1    f2    f3 res_address_code res_address_value  \\\n",
              "0            2021-11-30  30.0  31.0  14.0             B794        Carmignano   \n",
              "1            2021-08-31   2.0  41.0   7.0             B794        Carmignano   \n",
              "2            2022-02-28  49.0  11.0  39.0             C422            Ceggia   \n",
              "3            2021-08-31  18.0  50.0  61.0             C422            Ceggia   \n",
              "4            2022-06-30  18.0  33.0  36.0             D170          Crispano   \n",
              "\n",
              "  dom_address_code dom_address_value  \n",
              "0             B794        Carmignano  \n",
              "1             B794        Carmignano  \n",
              "2             C422            Ceggia  \n",
              "3             C422            Ceggia  \n",
              "4             D170          Crispano  "
            ],
            "text/html": [
              "\n",
              "  <div id=\"df-b331c49f-2b3c-40ce-9e75-90f0715aa70b\">\n",
              "    <div class=\"colab-df-container\">\n",
              "      <div>\n",
              "<style scoped>\n",
              "    .dataframe tbody tr th:only-of-type {\n",
              "        vertical-align: middle;\n",
              "    }\n",
              "\n",
              "    .dataframe tbody tr th {\n",
              "        vertical-align: top;\n",
              "    }\n",
              "\n",
              "    .dataframe thead th {\n",
              "        text-align: right;\n",
              "    }\n",
              "</style>\n",
              "<table border=\"1\" class=\"dataframe\">\n",
              "  <thead>\n",
              "    <tr style=\"text-align: right;\">\n",
              "      <th></th>\n",
              "      <th>userID</th>\n",
              "      <th>legalNature</th>\n",
              "      <th>citizenshipNoUSA</th>\n",
              "      <th>billing_range.from_date</th>\n",
              "      <th>billing_range.to_date</th>\n",
              "      <th>f1</th>\n",
              "      <th>f2</th>\n",
              "      <th>f3</th>\n",
              "      <th>res_address_code</th>\n",
              "      <th>res_address_value</th>\n",
              "      <th>dom_address_code</th>\n",
              "      <th>dom_address_value</th>\n",
              "    </tr>\n",
              "  </thead>\n",
              "  <tbody>\n",
              "    <tr>\n",
              "      <th>0</th>\n",
              "      <td>90019</td>\n",
              "      <td>PF</td>\n",
              "      <td>False</td>\n",
              "      <td>2021-11-01</td>\n",
              "      <td>2021-11-30</td>\n",
              "      <td>30.0</td>\n",
              "      <td>31.0</td>\n",
              "      <td>14.0</td>\n",
              "      <td>B794</td>\n",
              "      <td>Carmignano</td>\n",
              "      <td>B794</td>\n",
              "      <td>Carmignano</td>\n",
              "    </tr>\n",
              "    <tr>\n",
              "      <th>1</th>\n",
              "      <td>90019</td>\n",
              "      <td>PF</td>\n",
              "      <td>False</td>\n",
              "      <td>2021-08-01</td>\n",
              "      <td>2021-08-31</td>\n",
              "      <td>2.0</td>\n",
              "      <td>41.0</td>\n",
              "      <td>7.0</td>\n",
              "      <td>B794</td>\n",
              "      <td>Carmignano</td>\n",
              "      <td>B794</td>\n",
              "      <td>Carmignano</td>\n",
              "    </tr>\n",
              "    <tr>\n",
              "      <th>2</th>\n",
              "      <td>90025</td>\n",
              "      <td>PF</td>\n",
              "      <td>False</td>\n",
              "      <td>2022-02-01</td>\n",
              "      <td>2022-02-28</td>\n",
              "      <td>49.0</td>\n",
              "      <td>11.0</td>\n",
              "      <td>39.0</td>\n",
              "      <td>C422</td>\n",
              "      <td>Ceggia</td>\n",
              "      <td>C422</td>\n",
              "      <td>Ceggia</td>\n",
              "    </tr>\n",
              "    <tr>\n",
              "      <th>3</th>\n",
              "      <td>90025</td>\n",
              "      <td>PF</td>\n",
              "      <td>False</td>\n",
              "      <td>2021-08-01</td>\n",
              "      <td>2021-08-31</td>\n",
              "      <td>18.0</td>\n",
              "      <td>50.0</td>\n",
              "      <td>61.0</td>\n",
              "      <td>C422</td>\n",
              "      <td>Ceggia</td>\n",
              "      <td>C422</td>\n",
              "      <td>Ceggia</td>\n",
              "    </tr>\n",
              "    <tr>\n",
              "      <th>4</th>\n",
              "      <td>90030</td>\n",
              "      <td>PF</td>\n",
              "      <td>False</td>\n",
              "      <td>2022-06-01</td>\n",
              "      <td>2022-06-30</td>\n",
              "      <td>18.0</td>\n",
              "      <td>33.0</td>\n",
              "      <td>36.0</td>\n",
              "      <td>D170</td>\n",
              "      <td>Crispano</td>\n",
              "      <td>D170</td>\n",
              "      <td>Crispano</td>\n",
              "    </tr>\n",
              "  </tbody>\n",
              "</table>\n",
              "</div>\n",
              "      <button class=\"colab-df-convert\" onclick=\"convertToInteractive('df-b331c49f-2b3c-40ce-9e75-90f0715aa70b')\"\n",
              "              title=\"Convert this dataframe to an interactive table.\"\n",
              "              style=\"display:none;\">\n",
              "        \n",
              "  <svg xmlns=\"http://www.w3.org/2000/svg\" height=\"24px\"viewBox=\"0 0 24 24\"\n",
              "       width=\"24px\">\n",
              "    <path d=\"M0 0h24v24H0V0z\" fill=\"none\"/>\n",
              "    <path d=\"M18.56 5.44l.94 2.06.94-2.06 2.06-.94-2.06-.94-.94-2.06-.94 2.06-2.06.94zm-11 1L8.5 8.5l.94-2.06 2.06-.94-2.06-.94L8.5 2.5l-.94 2.06-2.06.94zm10 10l.94 2.06.94-2.06 2.06-.94-2.06-.94-.94-2.06-.94 2.06-2.06.94z\"/><path d=\"M17.41 7.96l-1.37-1.37c-.4-.4-.92-.59-1.43-.59-.52 0-1.04.2-1.43.59L10.3 9.45l-7.72 7.72c-.78.78-.78 2.05 0 2.83L4 21.41c.39.39.9.59 1.41.59.51 0 1.02-.2 1.41-.59l7.78-7.78 2.81-2.81c.8-.78.8-2.07 0-2.86zM5.41 20L4 18.59l7.72-7.72 1.47 1.35L5.41 20z\"/>\n",
              "  </svg>\n",
              "      </button>\n",
              "      \n",
              "  <style>\n",
              "    .colab-df-container {\n",
              "      display:flex;\n",
              "      flex-wrap:wrap;\n",
              "      gap: 12px;\n",
              "    }\n",
              "\n",
              "    .colab-df-convert {\n",
              "      background-color: #E8F0FE;\n",
              "      border: none;\n",
              "      border-radius: 50%;\n",
              "      cursor: pointer;\n",
              "      display: none;\n",
              "      fill: #1967D2;\n",
              "      height: 32px;\n",
              "      padding: 0 0 0 0;\n",
              "      width: 32px;\n",
              "    }\n",
              "\n",
              "    .colab-df-convert:hover {\n",
              "      background-color: #E2EBFA;\n",
              "      box-shadow: 0px 1px 2px rgba(60, 64, 67, 0.3), 0px 1px 3px 1px rgba(60, 64, 67, 0.15);\n",
              "      fill: #174EA6;\n",
              "    }\n",
              "\n",
              "    [theme=dark] .colab-df-convert {\n",
              "      background-color: #3B4455;\n",
              "      fill: #D2E3FC;\n",
              "    }\n",
              "\n",
              "    [theme=dark] .colab-df-convert:hover {\n",
              "      background-color: #434B5C;\n",
              "      box-shadow: 0px 1px 3px 1px rgba(0, 0, 0, 0.15);\n",
              "      filter: drop-shadow(0px 1px 2px rgba(0, 0, 0, 0.3));\n",
              "      fill: #FFFFFF;\n",
              "    }\n",
              "  </style>\n",
              "\n",
              "      <script>\n",
              "        const buttonEl =\n",
              "          document.querySelector('#df-b331c49f-2b3c-40ce-9e75-90f0715aa70b button.colab-df-convert');\n",
              "        buttonEl.style.display =\n",
              "          google.colab.kernel.accessAllowed ? 'block' : 'none';\n",
              "\n",
              "        async function convertToInteractive(key) {\n",
              "          const element = document.querySelector('#df-b331c49f-2b3c-40ce-9e75-90f0715aa70b');\n",
              "          const dataTable =\n",
              "            await google.colab.kernel.invokeFunction('convertToInteractive',\n",
              "                                                     [key], {});\n",
              "          if (!dataTable) return;\n",
              "\n",
              "          const docLinkHtml = 'Like what you see? Visit the ' +\n",
              "            '<a target=\"_blank\" href=https://colab.research.google.com/notebooks/data_table.ipynb>data table notebook</a>'\n",
              "            + ' to learn more about interactive tables.';\n",
              "          element.innerHTML = '';\n",
              "          dataTable['output_type'] = 'display_data';\n",
              "          await google.colab.output.renderOutput(dataTable, element);\n",
              "          const docLink = document.createElement('div');\n",
              "          docLink.innerHTML = docLinkHtml;\n",
              "          element.appendChild(docLink);\n",
              "        }\n",
              "      </script>\n",
              "    </div>\n",
              "  </div>\n",
              "  "
            ]
          },
          "metadata": {},
          "execution_count": 58
        }
      ]
    },
    {
      "cell_type": "code",
      "source": [
        "labels_df.head()"
      ],
      "metadata": {
        "colab": {
          "base_uri": "https://localhost:8080/",
          "height": 206
        },
        "id": "m-ieUBR2Gj1i",
        "outputId": "a58fd914-4dcb-4341-a554-2a0cb10fc0b5"
      },
      "execution_count": 53,
      "outputs": [
        {
          "output_type": "execute_result",
          "data": {
            "text/plain": [
              "  user  cluster\n",
              "0    6        1\n",
              "1   13        0\n",
              "2   14        1\n",
              "3   17        2\n",
              "4   34        2"
            ],
            "text/html": [
              "\n",
              "  <div id=\"df-778138ee-3cf4-46ae-a013-8533eb9d9e0b\">\n",
              "    <div class=\"colab-df-container\">\n",
              "      <div>\n",
              "<style scoped>\n",
              "    .dataframe tbody tr th:only-of-type {\n",
              "        vertical-align: middle;\n",
              "    }\n",
              "\n",
              "    .dataframe tbody tr th {\n",
              "        vertical-align: top;\n",
              "    }\n",
              "\n",
              "    .dataframe thead th {\n",
              "        text-align: right;\n",
              "    }\n",
              "</style>\n",
              "<table border=\"1\" class=\"dataframe\">\n",
              "  <thead>\n",
              "    <tr style=\"text-align: right;\">\n",
              "      <th></th>\n",
              "      <th>user</th>\n",
              "      <th>cluster</th>\n",
              "    </tr>\n",
              "  </thead>\n",
              "  <tbody>\n",
              "    <tr>\n",
              "      <th>0</th>\n",
              "      <td>6</td>\n",
              "      <td>1</td>\n",
              "    </tr>\n",
              "    <tr>\n",
              "      <th>1</th>\n",
              "      <td>13</td>\n",
              "      <td>0</td>\n",
              "    </tr>\n",
              "    <tr>\n",
              "      <th>2</th>\n",
              "      <td>14</td>\n",
              "      <td>1</td>\n",
              "    </tr>\n",
              "    <tr>\n",
              "      <th>3</th>\n",
              "      <td>17</td>\n",
              "      <td>2</td>\n",
              "    </tr>\n",
              "    <tr>\n",
              "      <th>4</th>\n",
              "      <td>34</td>\n",
              "      <td>2</td>\n",
              "    </tr>\n",
              "  </tbody>\n",
              "</table>\n",
              "</div>\n",
              "      <button class=\"colab-df-convert\" onclick=\"convertToInteractive('df-778138ee-3cf4-46ae-a013-8533eb9d9e0b')\"\n",
              "              title=\"Convert this dataframe to an interactive table.\"\n",
              "              style=\"display:none;\">\n",
              "        \n",
              "  <svg xmlns=\"http://www.w3.org/2000/svg\" height=\"24px\"viewBox=\"0 0 24 24\"\n",
              "       width=\"24px\">\n",
              "    <path d=\"M0 0h24v24H0V0z\" fill=\"none\"/>\n",
              "    <path d=\"M18.56 5.44l.94 2.06.94-2.06 2.06-.94-2.06-.94-.94-2.06-.94 2.06-2.06.94zm-11 1L8.5 8.5l.94-2.06 2.06-.94-2.06-.94L8.5 2.5l-.94 2.06-2.06.94zm10 10l.94 2.06.94-2.06 2.06-.94-2.06-.94-.94-2.06-.94 2.06-2.06.94z\"/><path d=\"M17.41 7.96l-1.37-1.37c-.4-.4-.92-.59-1.43-.59-.52 0-1.04.2-1.43.59L10.3 9.45l-7.72 7.72c-.78.78-.78 2.05 0 2.83L4 21.41c.39.39.9.59 1.41.59.51 0 1.02-.2 1.41-.59l7.78-7.78 2.81-2.81c.8-.78.8-2.07 0-2.86zM5.41 20L4 18.59l7.72-7.72 1.47 1.35L5.41 20z\"/>\n",
              "  </svg>\n",
              "      </button>\n",
              "      \n",
              "  <style>\n",
              "    .colab-df-container {\n",
              "      display:flex;\n",
              "      flex-wrap:wrap;\n",
              "      gap: 12px;\n",
              "    }\n",
              "\n",
              "    .colab-df-convert {\n",
              "      background-color: #E8F0FE;\n",
              "      border: none;\n",
              "      border-radius: 50%;\n",
              "      cursor: pointer;\n",
              "      display: none;\n",
              "      fill: #1967D2;\n",
              "      height: 32px;\n",
              "      padding: 0 0 0 0;\n",
              "      width: 32px;\n",
              "    }\n",
              "\n",
              "    .colab-df-convert:hover {\n",
              "      background-color: #E2EBFA;\n",
              "      box-shadow: 0px 1px 2px rgba(60, 64, 67, 0.3), 0px 1px 3px 1px rgba(60, 64, 67, 0.15);\n",
              "      fill: #174EA6;\n",
              "    }\n",
              "\n",
              "    [theme=dark] .colab-df-convert {\n",
              "      background-color: #3B4455;\n",
              "      fill: #D2E3FC;\n",
              "    }\n",
              "\n",
              "    [theme=dark] .colab-df-convert:hover {\n",
              "      background-color: #434B5C;\n",
              "      box-shadow: 0px 1px 3px 1px rgba(0, 0, 0, 0.15);\n",
              "      filter: drop-shadow(0px 1px 2px rgba(0, 0, 0, 0.3));\n",
              "      fill: #FFFFFF;\n",
              "    }\n",
              "  </style>\n",
              "\n",
              "      <script>\n",
              "        const buttonEl =\n",
              "          document.querySelector('#df-778138ee-3cf4-46ae-a013-8533eb9d9e0b button.colab-df-convert');\n",
              "        buttonEl.style.display =\n",
              "          google.colab.kernel.accessAllowed ? 'block' : 'none';\n",
              "\n",
              "        async function convertToInteractive(key) {\n",
              "          const element = document.querySelector('#df-778138ee-3cf4-46ae-a013-8533eb9d9e0b');\n",
              "          const dataTable =\n",
              "            await google.colab.kernel.invokeFunction('convertToInteractive',\n",
              "                                                     [key], {});\n",
              "          if (!dataTable) return;\n",
              "\n",
              "          const docLinkHtml = 'Like what you see? Visit the ' +\n",
              "            '<a target=\"_blank\" href=https://colab.research.google.com/notebooks/data_table.ipynb>data table notebook</a>'\n",
              "            + ' to learn more about interactive tables.';\n",
              "          element.innerHTML = '';\n",
              "          dataTable['output_type'] = 'display_data';\n",
              "          await google.colab.output.renderOutput(dataTable, element);\n",
              "          const docLink = document.createElement('div');\n",
              "          docLink.innerHTML = docLinkHtml;\n",
              "          element.appendChild(docLink);\n",
              "        }\n",
              "      </script>\n",
              "    </div>\n",
              "  </div>\n",
              "  "
            ]
          },
          "metadata": {},
          "execution_count": 53
        }
      ]
    },
    {
      "cell_type": "markdown",
      "source": [
        "Load the commercial offers"
      ],
      "metadata": {
        "id": "8fTtbtqxhU5L"
      }
    },
    {
      "cell_type": "code",
      "source": [
        "#Label 0\n",
        "mono_oraria = training_camp_21_22.data.commercial_offer.CommercialOffer(\n",
        "    price_dict={\"f1\": 0.28, \"f2\": 0.28, \"f3\": 0.28}, name=\"mono_oraria\")\n",
        "\n",
        "# Label 1\n",
        "serale = training_camp_21_22.data.commercial_offer.CommercialOffer(\n",
        "    price_dict={\"f1\": 0.31, \"f2\": 0.26, \"f3\": 0.26}, name=\"serale\")\n",
        "\n",
        "# Lael 2\n",
        "notturna = training_camp_21_22.data.commercial_offer.CommercialOffer(\n",
        "    price_dict={\"f1\": 0.56, \"f2\": 0.56, \"f3\": 0.}, name=\"notturna\")\n",
        "\n",
        "commercial_offers = [mono_oraria, serale, notturna]\n",
        "class_names = [co.name for co in commercial_offers]"
      ],
      "metadata": {
        "id": "bW9zuiTjMEzh"
      },
      "execution_count": 34,
      "outputs": []
    },
    {
      "cell_type": "markdown",
      "source": [
        "#Baseline Classifier"
      ],
      "metadata": {
        "id": "PiOXuikEiZl1"
      }
    },
    {
      "cell_type": "markdown",
      "source": [
        "The label is computed by \"extending\" the mean consumptions over the whole year"
      ],
      "metadata": {
        "id": "sYaBAJ5CC7B-"
      }
    },
    {
      "cell_type": "code",
      "source": [
        "def project_over_year(df, commercial_offers):\n",
        "    \n",
        "    def best_projected_offer(row):\n",
        "        columns = [co.name for co in commercial_offers]\n",
        "        cluster = np.argmin(row[columns])\n",
        "        return cluster\n",
        "        \n",
        "    year_projection = 12 * df.groupby(by=[\"userID\"]).mean()\n",
        "\n",
        "    for offer in commercial_offers:\n",
        "        year_projection[offer.name] = year_projection.apply(\n",
        "            offer.compute_yearly_cost, axis=1)\n",
        "\n",
        "    year_projection[\"cluster\"] = year_projection.apply(\n",
        "        best_projected_offer, axis=1)\n",
        "    year_projection = year_projection.drop(\n",
        "        [co.name for co in commercial_offers], axis=1)\n",
        "\n",
        "    return year_projection\n",
        "\n",
        "\n",
        "year_projection_df = project_over_year(\n",
        "    features_df, commercial_offers)"
      ],
      "metadata": {
        "id": "Y72d2i0zfFa2"
      },
      "execution_count": 54,
      "outputs": []
    },
    {
      "cell_type": "markdown",
      "source": [
        "Let's have a look at the projection!"
      ],
      "metadata": {
        "id": "ihUeUYaB7lcP"
      }
    },
    {
      "cell_type": "code",
      "source": [
        "year_projection_df.head()"
      ],
      "metadata": {
        "colab": {
          "base_uri": "https://localhost:8080/",
          "height": 238
        },
        "id": "9wu6CrMS7pL9",
        "outputId": "ada70b01-88cf-4f29-f573-608f3601b89c"
      },
      "execution_count": 55,
      "outputs": [
        {
          "data": {
            "text/html": [
              "\n",
              "  <div id=\"df-dcd9ae0f-57fe-4863-9824-b710ad3d8bb1\">\n",
              "    <div class=\"colab-df-container\">\n",
              "      <div>\n",
              "<style scoped>\n",
              "    .dataframe tbody tr th:only-of-type {\n",
              "        vertical-align: middle;\n",
              "    }\n",
              "\n",
              "    .dataframe tbody tr th {\n",
              "        vertical-align: top;\n",
              "    }\n",
              "\n",
              "    .dataframe thead th {\n",
              "        text-align: right;\n",
              "    }\n",
              "</style>\n",
              "<table border=\"1\" class=\"dataframe\">\n",
              "  <thead>\n",
              "    <tr style=\"text-align: right;\">\n",
              "      <th></th>\n",
              "      <th>citizenshipNoUSA</th>\n",
              "      <th>f1</th>\n",
              "      <th>f2</th>\n",
              "      <th>f3</th>\n",
              "      <th>cluster</th>\n",
              "    </tr>\n",
              "    <tr>\n",
              "      <th>userID</th>\n",
              "      <th></th>\n",
              "      <th></th>\n",
              "      <th></th>\n",
              "      <th></th>\n",
              "      <th></th>\n",
              "    </tr>\n",
              "  </thead>\n",
              "  <tbody>\n",
              "    <tr>\n",
              "      <th>0</th>\n",
              "      <td>0.0</td>\n",
              "      <td>228.0</td>\n",
              "      <td>572.0</td>\n",
              "      <td>440.0</td>\n",
              "      <td>1</td>\n",
              "    </tr>\n",
              "    <tr>\n",
              "      <th>1</th>\n",
              "      <td>0.0</td>\n",
              "      <td>12.0</td>\n",
              "      <td>528.0</td>\n",
              "      <td>444.0</td>\n",
              "      <td>1</td>\n",
              "    </tr>\n",
              "    <tr>\n",
              "      <th>10</th>\n",
              "      <td>0.0</td>\n",
              "      <td>508.0</td>\n",
              "      <td>176.0</td>\n",
              "      <td>796.0</td>\n",
              "      <td>2</td>\n",
              "    </tr>\n",
              "    <tr>\n",
              "      <th>100</th>\n",
              "      <td>0.0</td>\n",
              "      <td>648.0</td>\n",
              "      <td>36.0</td>\n",
              "      <td>960.0</td>\n",
              "      <td>2</td>\n",
              "    </tr>\n",
              "    <tr>\n",
              "      <th>1000</th>\n",
              "      <td>0.0</td>\n",
              "      <td>396.0</td>\n",
              "      <td>654.0</td>\n",
              "      <td>102.0</td>\n",
              "      <td>1</td>\n",
              "    </tr>\n",
              "  </tbody>\n",
              "</table>\n",
              "</div>\n",
              "      <button class=\"colab-df-convert\" onclick=\"convertToInteractive('df-dcd9ae0f-57fe-4863-9824-b710ad3d8bb1')\"\n",
              "              title=\"Convert this dataframe to an interactive table.\"\n",
              "              style=\"display:none;\">\n",
              "        \n",
              "  <svg xmlns=\"http://www.w3.org/2000/svg\" height=\"24px\"viewBox=\"0 0 24 24\"\n",
              "       width=\"24px\">\n",
              "    <path d=\"M0 0h24v24H0V0z\" fill=\"none\"/>\n",
              "    <path d=\"M18.56 5.44l.94 2.06.94-2.06 2.06-.94-2.06-.94-.94-2.06-.94 2.06-2.06.94zm-11 1L8.5 8.5l.94-2.06 2.06-.94-2.06-.94L8.5 2.5l-.94 2.06-2.06.94zm10 10l.94 2.06.94-2.06 2.06-.94-2.06-.94-.94-2.06-.94 2.06-2.06.94z\"/><path d=\"M17.41 7.96l-1.37-1.37c-.4-.4-.92-.59-1.43-.59-.52 0-1.04.2-1.43.59L10.3 9.45l-7.72 7.72c-.78.78-.78 2.05 0 2.83L4 21.41c.39.39.9.59 1.41.59.51 0 1.02-.2 1.41-.59l7.78-7.78 2.81-2.81c.8-.78.8-2.07 0-2.86zM5.41 20L4 18.59l7.72-7.72 1.47 1.35L5.41 20z\"/>\n",
              "  </svg>\n",
              "      </button>\n",
              "      \n",
              "  <style>\n",
              "    .colab-df-container {\n",
              "      display:flex;\n",
              "      flex-wrap:wrap;\n",
              "      gap: 12px;\n",
              "    }\n",
              "\n",
              "    .colab-df-convert {\n",
              "      background-color: #E8F0FE;\n",
              "      border: none;\n",
              "      border-radius: 50%;\n",
              "      cursor: pointer;\n",
              "      display: none;\n",
              "      fill: #1967D2;\n",
              "      height: 32px;\n",
              "      padding: 0 0 0 0;\n",
              "      width: 32px;\n",
              "    }\n",
              "\n",
              "    .colab-df-convert:hover {\n",
              "      background-color: #E2EBFA;\n",
              "      box-shadow: 0px 1px 2px rgba(60, 64, 67, 0.3), 0px 1px 3px 1px rgba(60, 64, 67, 0.15);\n",
              "      fill: #174EA6;\n",
              "    }\n",
              "\n",
              "    [theme=dark] .colab-df-convert {\n",
              "      background-color: #3B4455;\n",
              "      fill: #D2E3FC;\n",
              "    }\n",
              "\n",
              "    [theme=dark] .colab-df-convert:hover {\n",
              "      background-color: #434B5C;\n",
              "      box-shadow: 0px 1px 3px 1px rgba(0, 0, 0, 0.15);\n",
              "      filter: drop-shadow(0px 1px 2px rgba(0, 0, 0, 0.3));\n",
              "      fill: #FFFFFF;\n",
              "    }\n",
              "  </style>\n",
              "\n",
              "      <script>\n",
              "        const buttonEl =\n",
              "          document.querySelector('#df-dcd9ae0f-57fe-4863-9824-b710ad3d8bb1 button.colab-df-convert');\n",
              "        buttonEl.style.display =\n",
              "          google.colab.kernel.accessAllowed ? 'block' : 'none';\n",
              "\n",
              "        async function convertToInteractive(key) {\n",
              "          const element = document.querySelector('#df-dcd9ae0f-57fe-4863-9824-b710ad3d8bb1');\n",
              "          const dataTable =\n",
              "            await google.colab.kernel.invokeFunction('convertToInteractive',\n",
              "                                                     [key], {});\n",
              "          if (!dataTable) return;\n",
              "\n",
              "          const docLinkHtml = 'Like what you see? Visit the ' +\n",
              "            '<a target=\"_blank\" href=https://colab.research.google.com/notebooks/data_table.ipynb>data table notebook</a>'\n",
              "            + ' to learn more about interactive tables.';\n",
              "          element.innerHTML = '';\n",
              "          dataTable['output_type'] = 'display_data';\n",
              "          await google.colab.output.renderOutput(dataTable, element);\n",
              "          const docLink = document.createElement('div');\n",
              "          docLink.innerHTML = docLinkHtml;\n",
              "          element.appendChild(docLink);\n",
              "        }\n",
              "      </script>\n",
              "    </div>\n",
              "  </div>\n",
              "  "
            ],
            "text/plain": [
              "        citizenshipNoUSA     f1     f2     f3  cluster\n",
              "userID                                                \n",
              "0                    0.0  228.0  572.0  440.0        1\n",
              "1                    0.0   12.0  528.0  444.0        1\n",
              "10                   0.0  508.0  176.0  796.0        2\n",
              "100                  0.0  648.0   36.0  960.0        2\n",
              "1000                 0.0  396.0  654.0  102.0        1"
            ]
          },
          "execution_count": null,
          "metadata": {},
          "output_type": "execute_result"
        }
      ]
    },
    {
      "cell_type": "markdown",
      "source": [
        "Plotting the confusion matrix"
      ],
      "metadata": {
        "id": "vuYSAhTnL9qp"
      }
    },
    {
      "cell_type": "code",
      "source": [
        "cm = confusion_matrix(\n",
        "    labels_df[\"cluster\"], year_projection_df[\"cluster\"])\n",
        "\n",
        "# Log the confusion matrix as an image summary\n",
        "figure = training_camp_21_22.view.classification.plot_cm_with_labels(\n",
        "    cm, class_names=class_names);"
      ],
      "metadata": {
        "colab": {
          "base_uri": "https://localhost:8080/",
          "height": 498
        },
        "id": "bwR8v162DRB2",
        "outputId": "b5fa8e7a-a211-4d22-f45b-a41a18890fd1"
      },
      "execution_count": 56,
      "outputs": [
        {
          "data": {
            "image/png": "[encoded data removed]",
            "text/plain": [
              "<Figure size 504x504 with 2 Axes>"
            ]
          },
          "metadata": {},
          "output_type": "display_data"
        }
      ]
    },
    {
      "cell_type": "markdown",
      "source": [
        "# Random Forest Classifier\n",
        "\n",
        "Random Forest model"
      ],
      "metadata": {
        "id": "W-MDWu_EiqOE"
      }
    },
    {
      "cell_type": "markdown",
      "source": [
        "# Submit solution to Kaggle competition"
      ],
      "metadata": {
        "id": "ps24UFl55uUG"
      }
    },
    {
      "cell_type": "code",
      "source": [
        "test_submission = pd.DataFrame({\n",
        "    \"user\": year_projection_df.index,\n",
        "    \"cluster\": year_projection_df[\"cluster\"]})\n",
        "print(test_submission.head(10))\n",
        "print(test_submission.shape)"
      ],
      "metadata": {
        "id": "CX3KcgBlIut3",
        "colab": {
          "base_uri": "https://localhost:8080/"
        },
        "outputId": "3a4ffd70-33fd-4cb8-a1f4-68e4f92ab554"
      },
      "execution_count": 38,
      "outputs": [
        {
          "output_type": "stream",
          "name": "stdout",
          "text": [
            "         user  cluster\n",
            "userID                \n",
            "90000   90000        2\n",
            "90001   90001        2\n",
            "90002   90002        1\n",
            "90003   90003        0\n",
            "90004   90004        1\n",
            "90005   90005        1\n",
            "90006   90006        0\n",
            "90007   90007        0\n",
            "90008   90008        1\n",
            "90009   90009        1\n",
            "(10000, 2)\n"
          ]
        }
      ]
    },
    {
      "cell_type": "markdown",
      "source": [
        "Create a termporary folder for submissions"
      ],
      "metadata": {
        "id": "xO5UpsqcLs9C"
      }
    },
    {
      "cell_type": "code",
      "source": [
        "!mkdir -p submissions"
      ],
      "metadata": {
        "id": "77UI7mPiLsaj"
      },
      "execution_count": 28,
      "outputs": []
    },
    {
      "cell_type": "code",
      "source": [
        "rf_labels_path = \"submissions/baseline.csv\"\n",
        "test_submission.to_csv(rf_labels_path, index=False)"
      ],
      "metadata": {
        "id": "IQIhleT2E7E3"
      },
      "execution_count": 39,
      "outputs": []
    },
    {
      "cell_type": "code",
      "source": [
        "!kaggle competitions submit -c pitc-2122-clustering -f \"submissions/baseline.csv\" -m \"Baseline classification\""
      ],
      "metadata": {
        "colab": {
          "base_uri": "https://localhost:8080/"
        },
        "id": "mgaT503595ci",
        "outputId": "eca2a6d7-1969-40b6-b97e-9e451aa0d3c6"
      },
      "execution_count": 40,
      "outputs": [
        {
          "output_type": "stream",
          "name": "stdout",
          "text": [
            "Warning: Your Kaggle API key is readable by other users on this system! To fix this, you can run 'chmod 600 /root/.kaggle/kaggle.json'\n",
            "100% 78.1k/78.1k [00:00<00:00, 240kB/s]\n",
            "Successfully submitted to PITC 21/22 - Clustering"
          ]
        }
      ]
    }
  ]
}