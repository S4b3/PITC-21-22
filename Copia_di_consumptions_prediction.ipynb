{
  "nbformat": 4,
  "nbformat_minor": 0,
  "metadata": {
    "colab": {
      "name": "Copia di consumptions_prediction.ipynb",
      "provenance": [],
      "collapsed_sections": [],
      "include_colab_link": true
    },
    "kernelspec": {
      "name": "python3",
      "display_name": "Python 3"
    },
    "language_info": {
      "name": "python"
    }
  },
  "cells": [
    {
      "cell_type": "markdown",
      "metadata": {
        "id": "view-in-github",
        "colab_type": "text"
      },
      "source": [
        "<a href=\"https://colab.research.google.com/github/S4b3/PITC-21-22/blob/main/Copia_di_consumptions_prediction.ipynb\" target=\"_parent\"><img src=\"https://colab.research.google.com/assets/colab-badge.svg\" alt=\"Open In Colab\"/></a>"
      ]
    },
    {
      "cell_type": "markdown",
      "source": [
        "# Sync Code"
      ],
      "metadata": {
        "id": "NH7XX7enTZrO"
      }
    },
    {
      "cell_type": "markdown",
      "source": [
        "Clone the GitHub Repo"
      ],
      "metadata": {
        "id": "h9sw75v2ThYW"
      }
    },
    {
      "cell_type": "code",
      "source": [
        "!cd /content\n",
        "!git clone https://github.com/szappac20/training_camp_21_22.git -b develop"
      ],
      "metadata": {
        "colab": {
          "base_uri": "https://localhost:8080/"
        },
        "id": "TPg35Pr-Tl8l",
        "outputId": "1eb18453-fa02-4cad-a354-2da20b58dc0c"
      },
      "execution_count": null,
      "outputs": [
        {
          "output_type": "stream",
          "name": "stdout",
          "text": [
            "Cloning into 'training_camp_21_22'...\n",
            "remote: Enumerating objects: 29, done.\u001b[K\n",
            "remote: Counting objects: 100% (29/29), done.\u001b[K\n",
            "remote: Compressing objects: 100% (21/21), done.\u001b[K\n",
            "remote: Total 29 (delta 6), reused 25 (delta 5), pack-reused 0\u001b[K\n",
            "Unpacking objects: 100% (29/29), done.\n"
          ]
        }
      ]
    },
    {
      "cell_type": "markdown",
      "source": [
        "Move to the Python Project root folder and install requirements"
      ],
      "metadata": {
        "id": "IRgC7PqhTsFy"
      }
    },
    {
      "cell_type": "code",
      "source": [
        "%cd /content/training_camp_21_22\n",
        "%pip install --upgrade -r requirements.txt -qqq"
      ],
      "metadata": {
        "colab": {
          "base_uri": "https://localhost:8080/"
        },
        "id": "PYuBILIRTvtw",
        "outputId": "0d6bded7-0903-4eb4-ea7f-bcda0b39124b"
      },
      "execution_count": null,
      "outputs": [
        {
          "output_type": "stream",
          "name": "stdout",
          "text": [
            "/content/training_camp_21_22\n",
            "\u001b[K     |████████████████████████████████| 38.1 MB 1.4 MB/s \n",
            "\u001b[K     |████████████████████████████████| 9.8 MB 42.4 MB/s \n",
            "\u001b[K     |████████████████████████████████| 511.7 MB 5.7 kB/s \n",
            "\u001b[K     |████████████████████████████████| 554 kB 55.2 MB/s \n",
            "\u001b[K     |████████████████████████████████| 13.1 MB 56.4 MB/s \n",
            "\u001b[K     |████████████████████████████████| 1.1 MB 41.6 MB/s \n",
            "\u001b[K     |████████████████████████████████| 15.8 MB 62.3 MB/s \n",
            "\u001b[K     |████████████████████████████████| 438 kB 44.4 MB/s \n",
            "\u001b[K     |████████████████████████████████| 1.6 MB 52.4 MB/s \n",
            "\u001b[K     |████████████████████████████████| 5.8 MB 43.9 MB/s \n",
            "\u001b[31mERROR: pip's dependency resolver does not currently take into account all the packages that are installed. This behaviour is the source of the following dependency conflicts.\n",
            "albumentations 0.1.12 requires imgaug<0.2.7,>=0.2.5, but you have imgaug 0.2.9 which is incompatible.\u001b[0m\n",
            "\u001b[?25h"
          ]
        }
      ]
    },
    {
      "cell_type": "markdown",
      "source": [
        "# Download Dataset from Kaggle competition"
      ],
      "metadata": {
        "id": "7b7mdBBAT2LP"
      }
    },
    {
      "cell_type": "markdown",
      "source": [
        "Download dataset from Kaggle competition pitc-2122-prediction"
      ],
      "metadata": {
        "id": "BeOTFnmtT_Sz"
      }
    },
    {
      "cell_type": "code",
      "source": [
        "!mkdir -p ~/.kaggle"
      ],
      "metadata": {
        "id": "0ph9xnWWUJDE"
      },
      "execution_count": null,
      "outputs": []
    },
    {
      "cell_type": "markdown",
      "source": [
        "Download the kaggle.json token file"
      ],
      "metadata": {
        "id": "GqFdecwgUNLf"
      }
    },
    {
      "cell_type": "code",
      "source": [
        "#!gdown 1w81nWRhAr1E_hX9OSncuMxlCefxnP2zN -O  ~/.kaggle/kaggle.json\n",
        "!chmod 600 ~/.kaggle/kaggle.json"
      ],
      "metadata": {
        "id": "nV0AgidSUPPP"
      },
      "execution_count": null,
      "outputs": []
    },
    {
      "cell_type": "markdown",
      "source": [
        "Download the input file (training and test)"
      ],
      "metadata": {
        "id": "mas9kArmWktp"
      }
    },
    {
      "cell_type": "code",
      "source": [
        "!mkdir -p data/task_1\n",
        "!mkdir -p data/task_2"
      ],
      "metadata": {
        "id": "5TOkPATGWj7A"
      },
      "execution_count": null,
      "outputs": []
    },
    {
      "cell_type": "code",
      "source": [
        "%cd data/task_1"
      ],
      "metadata": {
        "colab": {
          "base_uri": "https://localhost:8080/"
        },
        "id": "JKxCOm-PFc8o",
        "outputId": "6f27d1c9-bc2f-405e-dc4d-e1c128bb1c5e"
      },
      "execution_count": null,
      "outputs": [
        {
          "output_type": "stream",
          "name": "stdout",
          "text": [
            "/content/training_camp_21_22/data/task_1\n"
          ]
        }
      ]
    },
    {
      "cell_type": "code",
      "source": [
        "!kaggle competitions download -c pitc-2122-clustering\n",
        "!unzip pitc-2122-clustering.zip"
      ],
      "metadata": {
        "colab": {
          "base_uri": "https://localhost:8080/"
        },
        "id": "1Y8yRnfOFc1E",
        "outputId": "5deddf70-6672-47ed-9e36-eb42ee8d9052"
      },
      "execution_count": null,
      "outputs": [
        {
          "output_type": "stream",
          "name": "stdout",
          "text": [
            "Downloading pitc-2122-clustering.zip to /content/training_camp_21_22/data/task_1\n",
            "\r  0% 0.00/23.1M [00:00<?, ?B/s]\n",
            "\r100% 23.1M/23.1M [00:00<00:00, 259MB/s]\n",
            "Archive:  pitc-2122-clustering.zip\n",
            "  inflating: sample_submission.csv   \n",
            "  inflating: test.csv                \n",
            "  inflating: train.csv               \n"
          ]
        }
      ]
    },
    {
      "cell_type": "code",
      "source": [
        "%cd ../task_2"
      ],
      "metadata": {
        "colab": {
          "base_uri": "https://localhost:8080/"
        },
        "id": "dSY5QaG9Wo13",
        "outputId": "395efaf6-96e9-4278-c935-c8ee7317ef02"
      },
      "execution_count": null,
      "outputs": [
        {
          "output_type": "stream",
          "name": "stdout",
          "text": [
            "/content/training_camp_21_22/data/task_2\n"
          ]
        }
      ]
    },
    {
      "cell_type": "code",
      "source": [
        "!kaggle competitions download -c pitc-2122-prediction\n",
        "!unzip pitc-2122-prediction.zip"
      ],
      "metadata": {
        "colab": {
          "base_uri": "https://localhost:8080/"
        },
        "id": "UcgTK9DiWsIb",
        "outputId": "2c016437-deb0-42b8-c3f1-4d6c68faeb4a"
      },
      "execution_count": null,
      "outputs": [
        {
          "output_type": "stream",
          "name": "stdout",
          "text": [
            "Downloading pitc-2122-prediction.zip to /content/training_camp_21_22/data/task_2\n",
            " 63% 50.0M/79.3M [00:00<00:00, 214MB/s]\n",
            "100% 79.3M/79.3M [00:00<00:00, 251MB/s]\n",
            "Archive:  pitc-2122-prediction.zip\n",
            "  inflating: solution_sample.csv     \n",
            "  inflating: test.csv                \n",
            "  inflating: train.csv               \n"
          ]
        }
      ]
    },
    {
      "cell_type": "code",
      "source": [
        "%cd /content/training_camp_21_22"
      ],
      "metadata": {
        "colab": {
          "base_uri": "https://localhost:8080/"
        },
        "id": "_bEXtXJuW9Y1",
        "outputId": "5bf2eaef-9316-40d2-903c-40debb7c0c5f"
      },
      "execution_count": null,
      "outputs": [
        {
          "output_type": "stream",
          "name": "stdout",
          "text": [
            "/content/training_camp_21_22\n"
          ]
        }
      ]
    },
    {
      "cell_type": "markdown",
      "source": [
        "# Import packages"
      ],
      "metadata": {
        "id": "eXQScqSaXhwn"
      }
    },
    {
      "cell_type": "markdown",
      "source": [
        "Move back to the Python project folder"
      ],
      "metadata": {
        "id": "Pbk1nsbEXjUy"
      }
    },
    {
      "cell_type": "code",
      "source": [
        "import sys\n",
        "import os\n",
        "\n",
        "sys.path.append(\"training_camp_21_22\")"
      ],
      "metadata": {
        "id": "M589z_OBXCkY"
      },
      "execution_count": null,
      "outputs": []
    },
    {
      "cell_type": "markdown",
      "source": [
        "Import libraries"
      ],
      "metadata": {
        "id": "3GJd4NsvXsuL"
      }
    },
    {
      "cell_type": "code",
      "source": [
        "import datetime\n",
        "import random\n",
        "import numpy as np\n",
        "import pandas as pd\n",
        "import csv\n",
        "from tqdm import tqdm\n",
        "import json\n",
        "import tensorflow as tf\n",
        "import itertools\n",
        "\n",
        "import training_camp_21_22.config\n",
        "import training_camp_21_22.models\n",
        "\n",
        "import training_camp_21_22.models.baseline\n",
        "import training_camp_21_22.data.window_generator"
      ],
      "metadata": {
        "id": "ieBC_aY0X4Ez"
      },
      "execution_count": null,
      "outputs": []
    },
    {
      "cell_type": "markdown",
      "source": [
        "# Preprocess Data"
      ],
      "metadata": {
        "id": "g1U47YRBXvDc"
      }
    },
    {
      "cell_type": "markdown",
      "source": [
        "Parse the data (see the previous task!)"
      ],
      "metadata": {
        "id": "QrA5cjqRC3r3"
      }
    },
    {
      "cell_type": "code",
      "source": [
        "# Parse the csv file with json entries\n",
        "\n",
        "def convert_json_2_pd(json_input_path, train = True):\n",
        "    \"\"\"\n",
        "    Read the csv file and extract from json events\n",
        "    any feature useful to classify the consumer consumption profile \n",
        "    \"\"\"\n",
        "    csv_df = pd.DataFrame(columns=[\n",
        "      \"user_month_year\",\n",
        "      \"legalNature\",\n",
        "      \"citizenshipNoUSA\",\n",
        "      \"billing_range.from_date\",\n",
        "      \"billing_range.to_date\",\n",
        "      \"fasciaF0ConsumoFatturato\",\n",
        "      \"fasciaF1ConsumoFatturato\",\n",
        "      \"fasciaF2ConsumoFatturato\",\n",
        "      \"fasciaF3ConsumoFatturato\",\n",
        "      \"fasciaF4ConsumoFatturato\",\n",
        "      \"fasciaF5ConsumoFatturato\",\n",
        "      \"fasciaF6ConsumoFatturato\",\n",
        "      \"res_address_code\",\n",
        "      \"res_address_value\",\n",
        "      \"dom_address_code\",\n",
        "      \"dom_address_value\"\n",
        "    ])\n",
        "\n",
        "\n",
        "    d = {}\n",
        "    labels = {}\n",
        "    i = 0\n",
        "    j = 0\n",
        "    with open(json_input_path) as csvfile:\n",
        "\n",
        "        reader = csv.reader(csvfile, delimiter=',')\n",
        "        next(reader)\n",
        "\n",
        "        for row in tqdm(reader):\n",
        "          # iterate through bill\n",
        "\n",
        "          for bill in json.loads(row[1]) :\n",
        "            # read consumer id\n",
        "            id = row[0]\n",
        "\n",
        "            # billing_range\n",
        "            billing_range = bill['customData']['billing_range']\n",
        "            energy = bill['customData']['energy']\n",
        "            addresses = bill['bamData']['items']['bamItem']['addresses']\n",
        "            \n",
        "            res_address_code = ''\n",
        "            res_address_value = ''\n",
        "            dom_address_code = ''\n",
        "            dom_address_value = ''\n",
        "\n",
        "            # build the fields\n",
        "            for addr in addresses:\n",
        "              if(addr['type']['code'] == '2'):\n",
        "                res_address_code = addr['city']['code']\n",
        "                res_address_value = addr['city']['value']\n",
        "              elif(addr['type']['code'] == '6'):\n",
        "                dom_address_code = addr['city']['code']\n",
        "                dom_address_value = addr['city']['value']\n",
        "            \n",
        "\n",
        "            d[i] = {\n",
        "              'user_month_year' : id,\n",
        "              'legalNature' : bill['bamData']['items']['bamItem']['legalNature'],\n",
        "              'citizenshipNoUSA' : bill['bamData']['items']['bamItem']['personInfo']['citizenshipNoUSA'],\n",
        "              'billing_range.from_date' : billing_range['from_date'],\n",
        "              'billing_range.to_date' : billing_range['to_date'],\n",
        "              'f1' : energy['fasciaF1ConsumoFatturato'],\n",
        "              'f2' : energy['fasciaF2ConsumoFatturato'],\n",
        "              'f3' : energy['fasciaF3ConsumoFatturato'],\n",
        "              'res_address_code': res_address_code,\n",
        "              'res_address_value': res_address_value,\n",
        "              'dom_address_code': dom_address_code,\n",
        "              'dom_address_value': dom_address_value\n",
        "            }\n",
        "            i = i+1\n",
        "\n",
        "          if(train):\n",
        "            labels[j] = {'userID' : row[0] , 'next_f1': float(row[2]),' next_f2': float(row[3]), 'next_f3': float(row[3]) }\n",
        "            j += 1\n",
        "\n",
        "\n",
        "    if(train):\n",
        "      return pd.DataFrame.from_dict(d, \"index\"), pd.DataFrame.from_dict(labels, 'index')\n",
        "    return  pd.DataFrame.from_dict(d, \"index\")\n",
        "\n",
        "\n",
        "features_df = convert_json_2_pd(json_input_path=\"data/task_2/test.csv\", train = False)"
      ],
      "metadata": {
        "id": "niFNMLvYC0mn",
        "colab": {
          "base_uri": "https://localhost:8080/"
        },
        "outputId": "7c1752f6-f4d5-4c6b-eae8-ae2e880afe57"
      },
      "execution_count": null,
      "outputs": [
        {
          "output_type": "stream",
          "name": "stderr",
          "text": [
            "110000it [00:14, 7563.21it/s]\n"
          ]
        }
      ]
    },
    {
      "cell_type": "code",
      "source": [
        "features_df"
      ],
      "metadata": {
        "colab": {
          "base_uri": "https://localhost:8080/",
          "height": 487
        },
        "id": "d6Ohfy9jCZWf",
        "outputId": "7fdb7f4d-d03c-4eab-9eb4-8c75119fa906"
      },
      "execution_count": null,
      "outputs": [
        {
          "output_type": "execute_result",
          "data": {
            "text/plain": [
              "       user_month_year legalNature  citizenshipNoUSA billing_range.from_date  \\\n",
              "0        90000_07_2022          PF             False              2022-07-01   \n",
              "1        90000_08_2022          PF             False              2022-08-01   \n",
              "2        90000_09_2022          PF             False              2022-09-01   \n",
              "3        90000_10_2022          PF             False              2022-10-01   \n",
              "4        90000_11_2022          PF             False              2022-11-01   \n",
              "...                ...         ...               ...                     ...   \n",
              "109995   99999_01_2023          PF             False              2023-01-01   \n",
              "109996   99999_02_2023          PF             False              2023-02-01   \n",
              "109997   99999_03_2023          PF             False              2023-03-01   \n",
              "109998   99999_04_2023          PF             False              2023-04-01   \n",
              "109999   99999_05_2023          PF             False              2023-05-01   \n",
              "\n",
              "       billing_range.to_date    f1    f2    f3 res_address_code  \\\n",
              "0                 2022-07-31   0.0  34.0  33.0             B076   \n",
              "1                 2022-08-31   0.0  25.0  35.0             B076   \n",
              "2                 2022-09-30   2.0  20.0  33.0             B076   \n",
              "3                 2022-10-31   4.0  12.0  40.0             B076   \n",
              "4                 2022-11-30   3.0   3.0  38.0             B076   \n",
              "...                      ...   ...   ...   ...              ...   \n",
              "109995            2023-01-31  46.0  49.0  20.0             E413   \n",
              "109996            2023-02-28  50.0  51.0  28.0             E413   \n",
              "109997            2023-03-31  49.0  46.0  37.0             E413   \n",
              "109998            2023-04-30  45.0  39.0  33.0             E413   \n",
              "109999            2023-05-31  37.0  27.0  18.0             E413   \n",
              "\n",
              "       res_address_value dom_address_code  dom_address_value  \n",
              "0             Boscoreale             G267  Palazzolo Acreide  \n",
              "1             Boscoreale             G267  Palazzolo Acreide  \n",
              "2             Boscoreale             G267  Palazzolo Acreide  \n",
              "3             Boscoreale             G267  Palazzolo Acreide  \n",
              "4             Boscoreale             G267  Palazzolo Acreide  \n",
              "...                  ...              ...                ...  \n",
              "109995          Lajatico             C745  Città di Castello  \n",
              "109996          Lajatico             C745  Città di Castello  \n",
              "109997          Lajatico             C745  Città di Castello  \n",
              "109998          Lajatico             C745  Città di Castello  \n",
              "109999          Lajatico             C745  Città di Castello  \n",
              "\n",
              "[110000 rows x 12 columns]"
            ],
            "text/html": [
              "\n",
              "  <div id=\"df-f8cdb66c-61d7-454a-8768-7749885e8232\">\n",
              "    <div class=\"colab-df-container\">\n",
              "      <div>\n",
              "<style scoped>\n",
              "    .dataframe tbody tr th:only-of-type {\n",
              "        vertical-align: middle;\n",
              "    }\n",
              "\n",
              "    .dataframe tbody tr th {\n",
              "        vertical-align: top;\n",
              "    }\n",
              "\n",
              "    .dataframe thead th {\n",
              "        text-align: right;\n",
              "    }\n",
              "</style>\n",
              "<table border=\"1\" class=\"dataframe\">\n",
              "  <thead>\n",
              "    <tr style=\"text-align: right;\">\n",
              "      <th></th>\n",
              "      <th>user_month_year</th>\n",
              "      <th>legalNature</th>\n",
              "      <th>citizenshipNoUSA</th>\n",
              "      <th>billing_range.from_date</th>\n",
              "      <th>billing_range.to_date</th>\n",
              "      <th>f1</th>\n",
              "      <th>f2</th>\n",
              "      <th>f3</th>\n",
              "      <th>res_address_code</th>\n",
              "      <th>res_address_value</th>\n",
              "      <th>dom_address_code</th>\n",
              "      <th>dom_address_value</th>\n",
              "    </tr>\n",
              "  </thead>\n",
              "  <tbody>\n",
              "    <tr>\n",
              "      <th>0</th>\n",
              "      <td>90000_07_2022</td>\n",
              "      <td>PF</td>\n",
              "      <td>False</td>\n",
              "      <td>2022-07-01</td>\n",
              "      <td>2022-07-31</td>\n",
              "      <td>0.0</td>\n",
              "      <td>34.0</td>\n",
              "      <td>33.0</td>\n",
              "      <td>B076</td>\n",
              "      <td>Boscoreale</td>\n",
              "      <td>G267</td>\n",
              "      <td>Palazzolo Acreide</td>\n",
              "    </tr>\n",
              "    <tr>\n",
              "      <th>1</th>\n",
              "      <td>90000_08_2022</td>\n",
              "      <td>PF</td>\n",
              "      <td>False</td>\n",
              "      <td>2022-08-01</td>\n",
              "      <td>2022-08-31</td>\n",
              "      <td>0.0</td>\n",
              "      <td>25.0</td>\n",
              "      <td>35.0</td>\n",
              "      <td>B076</td>\n",
              "      <td>Boscoreale</td>\n",
              "      <td>G267</td>\n",
              "      <td>Palazzolo Acreide</td>\n",
              "    </tr>\n",
              "    <tr>\n",
              "      <th>2</th>\n",
              "      <td>90000_09_2022</td>\n",
              "      <td>PF</td>\n",
              "      <td>False</td>\n",
              "      <td>2022-09-01</td>\n",
              "      <td>2022-09-30</td>\n",
              "      <td>2.0</td>\n",
              "      <td>20.0</td>\n",
              "      <td>33.0</td>\n",
              "      <td>B076</td>\n",
              "      <td>Boscoreale</td>\n",
              "      <td>G267</td>\n",
              "      <td>Palazzolo Acreide</td>\n",
              "    </tr>\n",
              "    <tr>\n",
              "      <th>3</th>\n",
              "      <td>90000_10_2022</td>\n",
              "      <td>PF</td>\n",
              "      <td>False</td>\n",
              "      <td>2022-10-01</td>\n",
              "      <td>2022-10-31</td>\n",
              "      <td>4.0</td>\n",
              "      <td>12.0</td>\n",
              "      <td>40.0</td>\n",
              "      <td>B076</td>\n",
              "      <td>Boscoreale</td>\n",
              "      <td>G267</td>\n",
              "      <td>Palazzolo Acreide</td>\n",
              "    </tr>\n",
              "    <tr>\n",
              "      <th>4</th>\n",
              "      <td>90000_11_2022</td>\n",
              "      <td>PF</td>\n",
              "      <td>False</td>\n",
              "      <td>2022-11-01</td>\n",
              "      <td>2022-11-30</td>\n",
              "      <td>3.0</td>\n",
              "      <td>3.0</td>\n",
              "      <td>38.0</td>\n",
              "      <td>B076</td>\n",
              "      <td>Boscoreale</td>\n",
              "      <td>G267</td>\n",
              "      <td>Palazzolo Acreide</td>\n",
              "    </tr>\n",
              "    <tr>\n",
              "      <th>...</th>\n",
              "      <td>...</td>\n",
              "      <td>...</td>\n",
              "      <td>...</td>\n",
              "      <td>...</td>\n",
              "      <td>...</td>\n",
              "      <td>...</td>\n",
              "      <td>...</td>\n",
              "      <td>...</td>\n",
              "      <td>...</td>\n",
              "      <td>...</td>\n",
              "      <td>...</td>\n",
              "      <td>...</td>\n",
              "    </tr>\n",
              "    <tr>\n",
              "      <th>109995</th>\n",
              "      <td>99999_01_2023</td>\n",
              "      <td>PF</td>\n",
              "      <td>False</td>\n",
              "      <td>2023-01-01</td>\n",
              "      <td>2023-01-31</td>\n",
              "      <td>46.0</td>\n",
              "      <td>49.0</td>\n",
              "      <td>20.0</td>\n",
              "      <td>E413</td>\n",
              "      <td>Lajatico</td>\n",
              "      <td>C745</td>\n",
              "      <td>Città di Castello</td>\n",
              "    </tr>\n",
              "    <tr>\n",
              "      <th>109996</th>\n",
              "      <td>99999_02_2023</td>\n",
              "      <td>PF</td>\n",
              "      <td>False</td>\n",
              "      <td>2023-02-01</td>\n",
              "      <td>2023-02-28</td>\n",
              "      <td>50.0</td>\n",
              "      <td>51.0</td>\n",
              "      <td>28.0</td>\n",
              "      <td>E413</td>\n",
              "      <td>Lajatico</td>\n",
              "      <td>C745</td>\n",
              "      <td>Città di Castello</td>\n",
              "    </tr>\n",
              "    <tr>\n",
              "      <th>109997</th>\n",
              "      <td>99999_03_2023</td>\n",
              "      <td>PF</td>\n",
              "      <td>False</td>\n",
              "      <td>2023-03-01</td>\n",
              "      <td>2023-03-31</td>\n",
              "      <td>49.0</td>\n",
              "      <td>46.0</td>\n",
              "      <td>37.0</td>\n",
              "      <td>E413</td>\n",
              "      <td>Lajatico</td>\n",
              "      <td>C745</td>\n",
              "      <td>Città di Castello</td>\n",
              "    </tr>\n",
              "    <tr>\n",
              "      <th>109998</th>\n",
              "      <td>99999_04_2023</td>\n",
              "      <td>PF</td>\n",
              "      <td>False</td>\n",
              "      <td>2023-04-01</td>\n",
              "      <td>2023-04-30</td>\n",
              "      <td>45.0</td>\n",
              "      <td>39.0</td>\n",
              "      <td>33.0</td>\n",
              "      <td>E413</td>\n",
              "      <td>Lajatico</td>\n",
              "      <td>C745</td>\n",
              "      <td>Città di Castello</td>\n",
              "    </tr>\n",
              "    <tr>\n",
              "      <th>109999</th>\n",
              "      <td>99999_05_2023</td>\n",
              "      <td>PF</td>\n",
              "      <td>False</td>\n",
              "      <td>2023-05-01</td>\n",
              "      <td>2023-05-31</td>\n",
              "      <td>37.0</td>\n",
              "      <td>27.0</td>\n",
              "      <td>18.0</td>\n",
              "      <td>E413</td>\n",
              "      <td>Lajatico</td>\n",
              "      <td>C745</td>\n",
              "      <td>Città di Castello</td>\n",
              "    </tr>\n",
              "  </tbody>\n",
              "</table>\n",
              "<p>110000 rows × 12 columns</p>\n",
              "</div>\n",
              "      <button class=\"colab-df-convert\" onclick=\"convertToInteractive('df-f8cdb66c-61d7-454a-8768-7749885e8232')\"\n",
              "              title=\"Convert this dataframe to an interactive table.\"\n",
              "              style=\"display:none;\">\n",
              "        \n",
              "  <svg xmlns=\"http://www.w3.org/2000/svg\" height=\"24px\"viewBox=\"0 0 24 24\"\n",
              "       width=\"24px\">\n",
              "    <path d=\"M0 0h24v24H0V0z\" fill=\"none\"/>\n",
              "    <path d=\"M18.56 5.44l.94 2.06.94-2.06 2.06-.94-2.06-.94-.94-2.06-.94 2.06-2.06.94zm-11 1L8.5 8.5l.94-2.06 2.06-.94-2.06-.94L8.5 2.5l-.94 2.06-2.06.94zm10 10l.94 2.06.94-2.06 2.06-.94-2.06-.94-.94-2.06-.94 2.06-2.06.94z\"/><path d=\"M17.41 7.96l-1.37-1.37c-.4-.4-.92-.59-1.43-.59-.52 0-1.04.2-1.43.59L10.3 9.45l-7.72 7.72c-.78.78-.78 2.05 0 2.83L4 21.41c.39.39.9.59 1.41.59.51 0 1.02-.2 1.41-.59l7.78-7.78 2.81-2.81c.8-.78.8-2.07 0-2.86zM5.41 20L4 18.59l7.72-7.72 1.47 1.35L5.41 20z\"/>\n",
              "  </svg>\n",
              "      </button>\n",
              "      \n",
              "  <style>\n",
              "    .colab-df-container {\n",
              "      display:flex;\n",
              "      flex-wrap:wrap;\n",
              "      gap: 12px;\n",
              "    }\n",
              "\n",
              "    .colab-df-convert {\n",
              "      background-color: #E8F0FE;\n",
              "      border: none;\n",
              "      border-radius: 50%;\n",
              "      cursor: pointer;\n",
              "      display: none;\n",
              "      fill: #1967D2;\n",
              "      height: 32px;\n",
              "      padding: 0 0 0 0;\n",
              "      width: 32px;\n",
              "    }\n",
              "\n",
              "    .colab-df-convert:hover {\n",
              "      background-color: #E2EBFA;\n",
              "      box-shadow: 0px 1px 2px rgba(60, 64, 67, 0.3), 0px 1px 3px 1px rgba(60, 64, 67, 0.15);\n",
              "      fill: #174EA6;\n",
              "    }\n",
              "\n",
              "    [theme=dark] .colab-df-convert {\n",
              "      background-color: #3B4455;\n",
              "      fill: #D2E3FC;\n",
              "    }\n",
              "\n",
              "    [theme=dark] .colab-df-convert:hover {\n",
              "      background-color: #434B5C;\n",
              "      box-shadow: 0px 1px 3px 1px rgba(0, 0, 0, 0.15);\n",
              "      filter: drop-shadow(0px 1px 2px rgba(0, 0, 0, 0.3));\n",
              "      fill: #FFFFFF;\n",
              "    }\n",
              "  </style>\n",
              "\n",
              "      <script>\n",
              "        const buttonEl =\n",
              "          document.querySelector('#df-f8cdb66c-61d7-454a-8768-7749885e8232 button.colab-df-convert');\n",
              "        buttonEl.style.display =\n",
              "          google.colab.kernel.accessAllowed ? 'block' : 'none';\n",
              "\n",
              "        async function convertToInteractive(key) {\n",
              "          const element = document.querySelector('#df-f8cdb66c-61d7-454a-8768-7749885e8232');\n",
              "          const dataTable =\n",
              "            await google.colab.kernel.invokeFunction('convertToInteractive',\n",
              "                                                     [key], {});\n",
              "          if (!dataTable) return;\n",
              "\n",
              "          const docLinkHtml = 'Like what you see? Visit the ' +\n",
              "            '<a target=\"_blank\" href=https://colab.research.google.com/notebooks/data_table.ipynb>data table notebook</a>'\n",
              "            + ' to learn more about interactive tables.';\n",
              "          element.innerHTML = '';\n",
              "          dataTable['output_type'] = 'display_data';\n",
              "          await google.colab.output.renderOutput(dataTable, element);\n",
              "          const docLink = document.createElement('div');\n",
              "          docLink.innerHTML = docLinkHtml;\n",
              "          element.appendChild(docLink);\n",
              "        }\n",
              "      </script>\n",
              "    </div>\n",
              "  </div>\n",
              "  "
            ]
          },
          "metadata": {},
          "execution_count": 52
        }
      ]
    },
    {
      "cell_type": "markdown",
      "source": [
        "Fill the missing data (for the data coming from the past history)"
      ],
      "metadata": {
        "id": "MkbFWhJMIeeU"
      }
    },
    {
      "cell_type": "code",
      "source": [
        "def prepare_data(task=\"task_1\"):\n",
        "    task_path = os.path.join(training_camp_21_22.config.data_path, \"task_1\")\n",
        "    if task == \"task_2\":\n",
        "        task_path = os.path.join(training_camp_21_22.config.data_path, \"task_2\")\n",
        "\n",
        "    train_features_ds_pd = pd.read_csv(\n",
        "        os.path.join(task_path, \"training_features.csv\"),\n",
        "        sep=\";\", encoding=\"latin1\")\n",
        "    # train_labels_ds_pd = pd.read_csv(\n",
        "    #     os.path.join(task_path, \"training_labels.csv\"),\n",
        "    #     sep=\";\", encoding=\"latin1\")\n",
        "    \n",
        "    validation_features_ds_pd = pd.read_csv(\n",
        "        os.path.join(task_path, \"validation_features.csv\"),\n",
        "        sep=\";\", encoding=\"latin1\")\n",
        "    # validation_labels_ds_pd = pd.read_csv(\n",
        "    #     os.path.join(task_path, \"validation_labels.csv\"),\n",
        "    #     sep=\";\", encoding=\"latin1\")\n",
        "\n",
        "    test_features_ds_pd = pd.read_csv(\n",
        "        os.path.join(task_path, \"test_features.csv\"),\n",
        "        sep=\";\", encoding=\"latin1\")\n",
        "    # test_labels_ds_pd = pd.read_csv(\n",
        "    #     os.path.join(task_path, \"test_labels.csv\"), sep=\";\",\n",
        "    #     encoding=\"latin1\")\n",
        "\n",
        "    return train_features_ds_pd, validation_features_ds_pd, test_features_ds_pd\n",
        "\n",
        "\n",
        "def impute_data(df):\n",
        "    train_range = pd.date_range(\n",
        "        start=datetime.datetime(year=2021, month=7, day=1),\n",
        "        end=datetime.datetime(year=2022, month=6, day=1), freq=\"MS\")\n",
        "\n",
        "    df = df.drop([\"city_density\", \"gender\"], axis=1)\n",
        "\n",
        "    imputed = pd.DataFrame()\n",
        "    for user in list(set(df[\"user\"])):\n",
        "        # print(\"Elaborating user\", user)\n",
        "        cond = (df[\"user\"] == user)\n",
        "        if sum(np.array(cond)) > 3:\n",
        "            tmp_df = df[cond].copy()\n",
        "\n",
        "            tmp_df[\"date\"] = tmp_df.apply(\n",
        "                lambda row: datetime.datetime(\n",
        "                    year=int(row.year), month=int(row.month), day=1), axis=1)\n",
        "            tmp_df = tmp_df.set_index(\"date\")\n",
        "            # tmp_df = tmp_df.drop([\"year\", \"month\"], axis=1)\n",
        "            tmp_df = tmp_df.drop([\"year\"], axis=1)\n",
        "\n",
        "            tmp_df = tmp_df.reindex(train_range, fill_value=np.nan)\n",
        "            tmp_df = tmp_df.interpolate(method=\"cubic\").interpolate(\n",
        "                fill_value=\"extrapolate\", limit_direction=\"both\")\n",
        "\n",
        "            imputed = pd.concat([imputed, tmp_df])\n",
        "            imputed = imputed.drop([\"user\"], axis=1)\n",
        "\n",
        "    return imputed\n",
        "\n",
        "def impute_data2(df,df_2,perc):\n",
        "    # TASK 1\n",
        "    train_range = pd.date_range(\n",
        "        start=datetime.datetime(year=2021, month=7, day=1),\n",
        "        end=datetime.datetime(year=2022, month=6, day=1), freq=\"MS\")\n",
        "\n",
        "    df = df.drop([\"city_density\"], axis=1)\n",
        "    grouped = df.groupby('user')\n",
        "    imputed = grouped.filter(lambda x: x['gender'].count() > 3)\n",
        "\n",
        "    imputed = imputed.reset_index(drop = True)\n",
        "    #imputed = imputed[imputed['user'] == 69963]\n",
        "    imputed[\"date\"] = imputed.apply(\n",
        "        lambda row: datetime.datetime(\n",
        "            year=int(row.year), month=int(row.month), day=1), axis=1)\n",
        "    imputed = imputed.set_index(\"date\")\n",
        "    perc = int(len(df.user.unique())/perc)\n",
        "    user_el = random.sample(list(df.user.unique()),perc)\n",
        "    imputed = imputed[imputed.user.isin(user_el)]\n",
        "\n",
        "    df_dt = pd.DataFrame(itertools.product(train_range,set(imputed.user)))\n",
        "    df_dt.columns = ['date','user']\n",
        "    \n",
        "    tmp_df = imputed.merge(\n",
        "        df_dt, how='outer', left_on=['date', 'user'], right_on=['date', 'user'])\n",
        "    \n",
        "    tmp_df = tmp_df.set_index(tmp_df.date)\n",
        "    tmp_df = tmp_df.drop([\"date\"], axis=1)\n",
        "    tmp_df = tmp_df.sort_index()\n",
        "    tmp_df = tmp_df[[\"user\", \"f1\", \"f2\", \"f3\"]]\n",
        "    \n",
        "    \n",
        "    tmp_df = tmp_df.groupby(\"user\").apply(\n",
        "        lambda group: group.interpolate(method=\"cubic\").interpolate(\n",
        "            fill_value=\"extrapolate\", limit_direction=\"both\"))\n",
        "    \n",
        "    \n",
        "    tmp_df.reset_index(drop = False,inplace = True)\n",
        "    cond = [\"user\", \"city_elevation\", \"is_resident\", \"upper_bound\", \"age\"]\n",
        "    imputed_app = imputed[cond].drop_duplicates()\n",
        "    imputed1 = tmp_df.merge(\n",
        "        imputed_app, how=\"left\", left_on=[\"user\"], right_on=[\"user\"])\n",
        "    imputed1[\"month\"]= imputed1[\"date\"].apply(lambda s: int(s.month))\n",
        "    imputed1[\"year\"]= imputed1[\"date\"].apply(lambda s: int(s.year))\n",
        "    imputed1 = imputed1.reindex(sorted(imputed1.columns), axis=1)\n",
        "    \n",
        "    # TASK 2 \n",
        "    df_2[\"date\"] = df_2.apply(\n",
        "        lambda row: datetime.datetime(\n",
        "            year=int(row.year), month=int(row.month), day=1), axis=1)\n",
        "    df_2 = df_2.drop([\"city_density\", \"gender\"], axis=1)\n",
        "  \n",
        "    df_2 = df_2[df_2.user.isin(list(imputed1.user.unique()))]\n",
        "    df_2 = df_2.reindex(sorted(df_2.columns), axis=1)\n",
        "    df_tot = pd.concat([imputed1,df_2],axis = 0) \n",
        "\n",
        "    df_tot = df_tot.sort_values(by=[\"user\", \"date\"])\n",
        "    df_tot = df_tot.set_index(\"date\")\n",
        "    return df_tot "
      ],
      "metadata": {
        "id": "rp0qlhqxcRpM"
      },
      "execution_count": null,
      "outputs": []
    },
    {
      "cell_type": "code",
      "source": [
        "train_features_ds_pd_1, validation_features_ds_pd_1, test_features_ds_pd_1 = prepare_data(\"task_1\")\n",
        "train_features_ds_pd_2, validation_features_ds_pd_2, test_features_ds_pd_2 = prepare_data(\"task_2\")"
      ],
      "metadata": {
        "id": "hck1wiWSEWRz"
      },
      "execution_count": null,
      "outputs": []
    },
    {
      "cell_type": "code",
      "source": [
        "train_df = impute_data2(train_features_ds_pd_1, train_features_ds_pd_2, 50)\n",
        "val_df = impute_data2(validation_features_ds_pd_1, validation_features_ds_pd_2, 50)\n",
        "test_df = impute_data2(test_features_ds_pd_1, test_features_ds_pd_2, 50)"
      ],
      "metadata": {
        "id": "VkSi7FrTIYI6"
      },
      "execution_count": null,
      "outputs": []
    },
    {
      "cell_type": "code",
      "source": [
        "print(train_df)"
      ],
      "metadata": {
        "colab": {
          "base_uri": "https://localhost:8080/"
        },
        "id": "B7PdmdjVK3OD",
        "outputId": "2fa61220-d156-4a39-c29c-266585f93bf7"
      },
      "execution_count": null,
      "outputs": [
        {
          "output_type": "stream",
          "name": "stdout",
          "text": [
            "            age  city_elevation         f1         f2         f3  is_resident  \\\n",
            "date                                                                            \n",
            "2021-07-01   65           191.0  24.000000  74.000000  22.000000            1   \n",
            "2021-08-01   65           191.0  24.000000  74.000000  22.000000            1   \n",
            "2021-09-01   65           191.0  34.111413  73.835893  42.699787            1   \n",
            "2021-10-01   65           191.0  35.154412  68.921249  57.448956            1   \n",
            "2021-11-01   65           191.0  33.000000  62.000000  67.000000            1   \n",
            "...         ...             ...        ...        ...        ...          ...   \n",
            "2023-02-01   72            15.0  13.000000  25.000000  16.000000            0   \n",
            "2023-03-01   72            15.0  15.000000  25.000000  15.000000            0   \n",
            "2023-04-01   72            15.0  11.000000  26.000000   9.000000            0   \n",
            "2023-05-01   72            15.0   8.000000  23.000000  11.000000            0   \n",
            "2023-06-01   72            15.0   3.000000  24.000000  10.000000            0   \n",
            "\n",
            "            month  upper_bound   user  year  \n",
            "date                                         \n",
            "2021-07-01      7          3.0    141  2021  \n",
            "2021-08-01      8          3.0    141  2021  \n",
            "2021-09-01      9          3.0    141  2021  \n",
            "2021-10-01     10          3.0    141  2021  \n",
            "2021-11-01     11          3.0    141  2021  \n",
            "...           ...          ...    ...   ...  \n",
            "2023-02-01      2          3.0  69948  2023  \n",
            "2023-03-01      3          3.0  69948  2023  \n",
            "2023-04-01      4          3.0  69948  2023  \n",
            "2023-05-01      5          3.0  69948  2023  \n",
            "2023-06-01      6          3.0  69948  2023  \n",
            "\n",
            "[7824 rows x 10 columns]\n"
          ]
        }
      ]
    },
    {
      "cell_type": "markdown",
      "source": [
        "# Model"
      ],
      "metadata": {
        "id": "WjQwFmpGEnIh"
      }
    },
    {
      "cell_type": "markdown",
      "source": [
        "Define a function for train and evaluate "
      ],
      "metadata": {
        "id": "rVeXorYOErPZ"
      }
    },
    {
      "cell_type": "code",
      "source": [
        "def train_evaluate_model(\n",
        "        model, train_window, plot_window,\n",
        "        val_performance, test_performance):\n",
        "\n",
        "    history = model.compile_and_fit(train_window)\n",
        "\n",
        "    val_performance[model.name] = model.evaluate(\n",
        "        train_window.val)\n",
        "    test_performance[model.name] = model.evaluate(\n",
        "        train_window.test, verbose=False)\n",
        "\n",
        "    print(f\"Final plot {model.name}\")\n",
        "    plot_window.plot(model)\n",
        "\n",
        "    return history\n"
      ],
      "metadata": {
        "id": "KNJwLc5D7kv6"
      },
      "execution_count": null,
      "outputs": []
    },
    {
      "cell_type": "code",
      "source": [
        "train_2022_05 = train_df[(train_df.index <= '2022-05-01')]\n",
        "val_2022_05 = val_df[(val_df.index <= '2022-05-01')]\n",
        "test_2022_05 = test_df[(test_df.index <= '2022-05-01')]"
      ],
      "metadata": {
        "id": "Nl4xAvm17nkT"
      },
      "execution_count": null,
      "outputs": []
    },
    {
      "cell_type": "markdown",
      "source": [
        "Define a window generator (to manage the composition of a dataset in the case of a time-series)"
      ],
      "metadata": {
        "id": "_ujHP2LTE32d"
      }
    },
    {
      "cell_type": "code",
      "source": [
        "monthly_window = training_camp_21_22.data.window_generator.WindowGenerator (\n",
        "            input_width=1, label_width=1, shift=1,\n",
        "            train_df=train_2022_05 ,val_df=val_2022_05, test_df=test_2022_05,\n",
        "            label_columns=[\"f1\", \"f2\", \"f3\"])\n",
        "\n",
        "quadrimestral_window = training_camp_21_22.data.window_generator.WindowGenerator(\n",
        "            input_width=6, label_width=6, shift=1,\n",
        "            train_df=train_2022_05, val_df=val_2022_05,  test_df=test_2022_05,\n",
        "            label_columns=[\"f1\", \"f2\", \"f3\"])"
      ],
      "metadata": {
        "id": "_tEpg3iJJHJL"
      },
      "execution_count": null,
      "outputs": []
    },
    {
      "cell_type": "code",
      "source": [
        "val_performance = {}\n",
        "test_performance = {}\n",
        "column_indices = {name: i for i, name in enumerate(train_df.columns)}\n",
        "baseline = training_camp_21_22.models.baseline.Baseline(\n",
        "        label_indices=[column_indices[f] for f in [\"f1\", \"f2\", \"f3\"]])\n",
        "\n",
        "baseline_history = train_evaluate_model(\n",
        "    baseline, monthly_window, quadrimestral_window, val_performance, test_performance)\n"
      ],
      "metadata": {
        "colab": {
          "base_uri": "https://localhost:8080/",
          "height": 620
        },
        "id": "S3Bn9-wNJXfx",
        "outputId": "bde1f953-589c-4b4e-dafc-726512b3bab9"
      },
      "execution_count": null,
      "outputs": [
        {
          "output_type": "stream",
          "name": "stdout",
          "text": [
            "3/3 [==============================] - 0s 5ms/step - loss: 155.3132 - mean_absolute_error: 6.5038\n",
            "Final plot baseline\n"
          ]
        },
        {
          "output_type": "display_data",
          "data": {
            "text/plain": [
              "<Figure size 864x576 with 3 Axes>"
            ],
            "image/png": "[encoded data removed]"
          },
          "metadata": {
            "needs_background": "light"
          }
        }
      ]
    },
    {
      "cell_type": "markdown",
      "source": [
        "Plot models"
      ],
      "metadata": {
        "id": "hFWFg-b17vxo"
      }
    },
    {
      "cell_type": "code",
      "source": [
        "def plot_models(model_list):\n",
        "\n",
        "    for model in model_list:\n",
        "        model_plot_path = os.path.join(\n",
        "            training_camp_21_22.config.plot_path,\n",
        "            f\"{model.name}_model.png\")\n",
        "        os.makedirs(model_plot_path, exist_ok=True)\n",
        "        model.summary()\n",
        "        tf.keras.utils.plot_model(\n",
        "            model, model_plot_path, show_shapes=True)\n"
      ],
      "metadata": {
        "id": "DAhjx_0z7pdx"
      },
      "execution_count": null,
      "outputs": []
    },
    {
      "cell_type": "markdown",
      "source": [
        "# Baseline model"
      ],
      "metadata": {
        "id": "2IlaoXLvk2wz"
      }
    },
    {
      "cell_type": "code",
      "source": [
        "#app = test_features_ds_pd_2[test_features_ds_pd_2[\"date\"] > \"2022-05-01\"]\n",
        "app = features_df[['user_month_year', \"billing_range.from_date\", 'f1', 'f2', 'f3']]"
      ],
      "metadata": {
        "id": "Qc5GmcLFk5Lr"
      },
      "execution_count": null,
      "outputs": []
    },
    {
      "cell_type": "code",
      "source": [
        "app[:12]"
      ],
      "metadata": {
        "colab": {
          "base_uri": "https://localhost:8080/",
          "height": 425
        },
        "id": "8dj_KP_HxoTw",
        "outputId": "368fdbfc-8b75-4700-97f0-082c09255c2d"
      },
      "execution_count": null,
      "outputs": [
        {
          "output_type": "execute_result",
          "data": {
            "text/plain": [
              "   user_month_year billing_range.from_date    f1    f2    f3\n",
              "0    90000_07_2022              2022-07-01   0.0  34.0  33.0\n",
              "1    90000_08_2022              2022-08-01   0.0  25.0  35.0\n",
              "2    90000_09_2022              2022-09-01   2.0  20.0  33.0\n",
              "3    90000_10_2022              2022-10-01   4.0  12.0  40.0\n",
              "4    90000_11_2022              2022-11-01   3.0   3.0  38.0\n",
              "5    90000_12_2022              2022-12-01   2.0   4.0  39.0\n",
              "6    90000_01_2023              2023-01-01  24.0  13.0  47.0\n",
              "7    90000_02_2023              2023-02-01  34.0  14.0  54.0\n",
              "8    90000_03_2023              2023-03-01  19.0   9.0  49.0\n",
              "9    90000_04_2023              2023-04-01   9.0  17.0  39.0\n",
              "10   90000_05_2023              2023-05-01   4.0  10.0  42.0\n",
              "11   90001_07_2022              2022-07-01  10.0   0.0  24.0"
            ],
            "text/html": [
              "\n",
              "  <div id=\"df-4c220b90-32ec-4245-a6bf-b18235e3a29e\">\n",
              "    <div class=\"colab-df-container\">\n",
              "      <div>\n",
              "<style scoped>\n",
              "    .dataframe tbody tr th:only-of-type {\n",
              "        vertical-align: middle;\n",
              "    }\n",
              "\n",
              "    .dataframe tbody tr th {\n",
              "        vertical-align: top;\n",
              "    }\n",
              "\n",
              "    .dataframe thead th {\n",
              "        text-align: right;\n",
              "    }\n",
              "</style>\n",
              "<table border=\"1\" class=\"dataframe\">\n",
              "  <thead>\n",
              "    <tr style=\"text-align: right;\">\n",
              "      <th></th>\n",
              "      <th>user_month_year</th>\n",
              "      <th>billing_range.from_date</th>\n",
              "      <th>f1</th>\n",
              "      <th>f2</th>\n",
              "      <th>f3</th>\n",
              "    </tr>\n",
              "  </thead>\n",
              "  <tbody>\n",
              "    <tr>\n",
              "      <th>0</th>\n",
              "      <td>90000_07_2022</td>\n",
              "      <td>2022-07-01</td>\n",
              "      <td>0.0</td>\n",
              "      <td>34.0</td>\n",
              "      <td>33.0</td>\n",
              "    </tr>\n",
              "    <tr>\n",
              "      <th>1</th>\n",
              "      <td>90000_08_2022</td>\n",
              "      <td>2022-08-01</td>\n",
              "      <td>0.0</td>\n",
              "      <td>25.0</td>\n",
              "      <td>35.0</td>\n",
              "    </tr>\n",
              "    <tr>\n",
              "      <th>2</th>\n",
              "      <td>90000_09_2022</td>\n",
              "      <td>2022-09-01</td>\n",
              "      <td>2.0</td>\n",
              "      <td>20.0</td>\n",
              "      <td>33.0</td>\n",
              "    </tr>\n",
              "    <tr>\n",
              "      <th>3</th>\n",
              "      <td>90000_10_2022</td>\n",
              "      <td>2022-10-01</td>\n",
              "      <td>4.0</td>\n",
              "      <td>12.0</td>\n",
              "      <td>40.0</td>\n",
              "    </tr>\n",
              "    <tr>\n",
              "      <th>4</th>\n",
              "      <td>90000_11_2022</td>\n",
              "      <td>2022-11-01</td>\n",
              "      <td>3.0</td>\n",
              "      <td>3.0</td>\n",
              "      <td>38.0</td>\n",
              "    </tr>\n",
              "    <tr>\n",
              "      <th>5</th>\n",
              "      <td>90000_12_2022</td>\n",
              "      <td>2022-12-01</td>\n",
              "      <td>2.0</td>\n",
              "      <td>4.0</td>\n",
              "      <td>39.0</td>\n",
              "    </tr>\n",
              "    <tr>\n",
              "      <th>6</th>\n",
              "      <td>90000_01_2023</td>\n",
              "      <td>2023-01-01</td>\n",
              "      <td>24.0</td>\n",
              "      <td>13.0</td>\n",
              "      <td>47.0</td>\n",
              "    </tr>\n",
              "    <tr>\n",
              "      <th>7</th>\n",
              "      <td>90000_02_2023</td>\n",
              "      <td>2023-02-01</td>\n",
              "      <td>34.0</td>\n",
              "      <td>14.0</td>\n",
              "      <td>54.0</td>\n",
              "    </tr>\n",
              "    <tr>\n",
              "      <th>8</th>\n",
              "      <td>90000_03_2023</td>\n",
              "      <td>2023-03-01</td>\n",
              "      <td>19.0</td>\n",
              "      <td>9.0</td>\n",
              "      <td>49.0</td>\n",
              "    </tr>\n",
              "    <tr>\n",
              "      <th>9</th>\n",
              "      <td>90000_04_2023</td>\n",
              "      <td>2023-04-01</td>\n",
              "      <td>9.0</td>\n",
              "      <td>17.0</td>\n",
              "      <td>39.0</td>\n",
              "    </tr>\n",
              "    <tr>\n",
              "      <th>10</th>\n",
              "      <td>90000_05_2023</td>\n",
              "      <td>2023-05-01</td>\n",
              "      <td>4.0</td>\n",
              "      <td>10.0</td>\n",
              "      <td>42.0</td>\n",
              "    </tr>\n",
              "    <tr>\n",
              "      <th>11</th>\n",
              "      <td>90001_07_2022</td>\n",
              "      <td>2022-07-01</td>\n",
              "      <td>10.0</td>\n",
              "      <td>0.0</td>\n",
              "      <td>24.0</td>\n",
              "    </tr>\n",
              "  </tbody>\n",
              "</table>\n",
              "</div>\n",
              "      <button class=\"colab-df-convert\" onclick=\"convertToInteractive('df-4c220b90-32ec-4245-a6bf-b18235e3a29e')\"\n",
              "              title=\"Convert this dataframe to an interactive table.\"\n",
              "              style=\"display:none;\">\n",
              "        \n",
              "  <svg xmlns=\"http://www.w3.org/2000/svg\" height=\"24px\"viewBox=\"0 0 24 24\"\n",
              "       width=\"24px\">\n",
              "    <path d=\"M0 0h24v24H0V0z\" fill=\"none\"/>\n",
              "    <path d=\"M18.56 5.44l.94 2.06.94-2.06 2.06-.94-2.06-.94-.94-2.06-.94 2.06-2.06.94zm-11 1L8.5 8.5l.94-2.06 2.06-.94-2.06-.94L8.5 2.5l-.94 2.06-2.06.94zm10 10l.94 2.06.94-2.06 2.06-.94-2.06-.94-.94-2.06-.94 2.06-2.06.94z\"/><path d=\"M17.41 7.96l-1.37-1.37c-.4-.4-.92-.59-1.43-.59-.52 0-1.04.2-1.43.59L10.3 9.45l-7.72 7.72c-.78.78-.78 2.05 0 2.83L4 21.41c.39.39.9.59 1.41.59.51 0 1.02-.2 1.41-.59l7.78-7.78 2.81-2.81c.8-.78.8-2.07 0-2.86zM5.41 20L4 18.59l7.72-7.72 1.47 1.35L5.41 20z\"/>\n",
              "  </svg>\n",
              "      </button>\n",
              "      \n",
              "  <style>\n",
              "    .colab-df-container {\n",
              "      display:flex;\n",
              "      flex-wrap:wrap;\n",
              "      gap: 12px;\n",
              "    }\n",
              "\n",
              "    .colab-df-convert {\n",
              "      background-color: #E8F0FE;\n",
              "      border: none;\n",
              "      border-radius: 50%;\n",
              "      cursor: pointer;\n",
              "      display: none;\n",
              "      fill: #1967D2;\n",
              "      height: 32px;\n",
              "      padding: 0 0 0 0;\n",
              "      width: 32px;\n",
              "    }\n",
              "\n",
              "    .colab-df-convert:hover {\n",
              "      background-color: #E2EBFA;\n",
              "      box-shadow: 0px 1px 2px rgba(60, 64, 67, 0.3), 0px 1px 3px 1px rgba(60, 64, 67, 0.15);\n",
              "      fill: #174EA6;\n",
              "    }\n",
              "\n",
              "    [theme=dark] .colab-df-convert {\n",
              "      background-color: #3B4455;\n",
              "      fill: #D2E3FC;\n",
              "    }\n",
              "\n",
              "    [theme=dark] .colab-df-convert:hover {\n",
              "      background-color: #434B5C;\n",
              "      box-shadow: 0px 1px 3px 1px rgba(0, 0, 0, 0.15);\n",
              "      filter: drop-shadow(0px 1px 2px rgba(0, 0, 0, 0.3));\n",
              "      fill: #FFFFFF;\n",
              "    }\n",
              "  </style>\n",
              "\n",
              "      <script>\n",
              "        const buttonEl =\n",
              "          document.querySelector('#df-4c220b90-32ec-4245-a6bf-b18235e3a29e button.colab-df-convert');\n",
              "        buttonEl.style.display =\n",
              "          google.colab.kernel.accessAllowed ? 'block' : 'none';\n",
              "\n",
              "        async function convertToInteractive(key) {\n",
              "          const element = document.querySelector('#df-4c220b90-32ec-4245-a6bf-b18235e3a29e');\n",
              "          const dataTable =\n",
              "            await google.colab.kernel.invokeFunction('convertToInteractive',\n",
              "                                                     [key], {});\n",
              "          if (!dataTable) return;\n",
              "\n",
              "          const docLinkHtml = 'Like what you see? Visit the ' +\n",
              "            '<a target=\"_blank\" href=https://colab.research.google.com/notebooks/data_table.ipynb>data table notebook</a>'\n",
              "            + ' to learn more about interactive tables.';\n",
              "          element.innerHTML = '';\n",
              "          dataTable['output_type'] = 'display_data';\n",
              "          await google.colab.output.renderOutput(dataTable, element);\n",
              "          const docLink = document.createElement('div');\n",
              "          docLink.innerHTML = docLinkHtml;\n",
              "          element.appendChild(docLink);\n",
              "        }\n",
              "      </script>\n",
              "    </div>\n",
              "  </div>\n",
              "  "
            ]
          },
          "metadata": {},
          "execution_count": 54
        }
      ]
    },
    {
      "cell_type": "code",
      "source": [
        "def baseline_predictions(df):\n",
        "    df = df.drop(df[(df[\"billing_range.from_date\"]=='2023-06-01')].index)\n",
        "    return df\n",
        "\n",
        "def create_kaggle_submission(df):\n",
        "\n",
        "    def build_key(row):\n",
        "        output = (\n",
        "            str(row[\"user\"]) + \"_\" +\n",
        "            datetime.datetime.strftime(row[\"date\"], \"%m_%Y\")) \n",
        "        return output\n",
        "\n",
        "    #df[\"key\"] = df.apply(build_key, axis=1)\n",
        "    df.drop([\"billing_range.from_date\"], axis=1, inplace=True)\n",
        "    df.rename(\n",
        "        columns={\n",
        "            \"f1\": \"next_month_f1\",\n",
        "            \"f2\": \"next_month_f2\",\n",
        "            \"f3\": \"next_month_f3\"},\n",
        "            inplace=True)\n",
        "    return df"
      ],
      "metadata": {
        "id": "-w8_ZtAFo9fx"
      },
      "execution_count": null,
      "outputs": []
    },
    {
      "cell_type": "markdown",
      "source": [
        ""
      ],
      "metadata": {
        "id": "H2PGJ9Ptk4tt"
      }
    },
    {
      "cell_type": "code",
      "source": [
        "#baseline_predictions = baseline_predictions(app)\n",
        "baseline_predictions = create_kaggle_submission(app)"
      ],
      "metadata": {
        "id": "HNmMVsxikVjz",
        "colab": {
          "base_uri": "https://localhost:8080/"
        },
        "outputId": "e1adf7f7-6f7f-4d0d-961f-89522c251b66"
      },
      "execution_count": null,
      "outputs": [
        {
          "output_type": "stream",
          "name": "stderr",
          "text": [
            "/usr/local/lib/python3.7/dist-packages/pandas/core/frame.py:4913: SettingWithCopyWarning: \n",
            "A value is trying to be set on a copy of a slice from a DataFrame\n",
            "\n",
            "See the caveats in the documentation: https://pandas.pydata.org/pandas-docs/stable/user_guide/indexing.html#returning-a-view-versus-a-copy\n",
            "  errors=errors,\n",
            "/usr/local/lib/python3.7/dist-packages/pandas/core/frame.py:5047: SettingWithCopyWarning: \n",
            "A value is trying to be set on a copy of a slice from a DataFrame\n",
            "\n",
            "See the caveats in the documentation: https://pandas.pydata.org/pandas-docs/stable/user_guide/indexing.html#returning-a-view-versus-a-copy\n",
            "  errors=errors,\n"
          ]
        }
      ]
    },
    {
      "cell_type": "code",
      "source": [
        "baseline_predictions"
      ],
      "metadata": {
        "colab": {
          "base_uri": "https://localhost:8080/",
          "height": 423
        },
        "id": "RPEjxObbsDo8",
        "outputId": "af3b7549-787c-435b-9034-cd212e3e8aa5"
      },
      "execution_count": null,
      "outputs": [
        {
          "output_type": "execute_result",
          "data": {
            "text/plain": [
              "       user_month_year  next_month_f1  next_month_f2  next_month_f3\n",
              "0        90000_07_2022            0.0           34.0           33.0\n",
              "1        90000_08_2022            0.0           25.0           35.0\n",
              "2        90000_09_2022            2.0           20.0           33.0\n",
              "3        90000_10_2022            4.0           12.0           40.0\n",
              "4        90000_11_2022            3.0            3.0           38.0\n",
              "...                ...            ...            ...            ...\n",
              "109995   99999_01_2023           46.0           49.0           20.0\n",
              "109996   99999_02_2023           50.0           51.0           28.0\n",
              "109997   99999_03_2023           49.0           46.0           37.0\n",
              "109998   99999_04_2023           45.0           39.0           33.0\n",
              "109999   99999_05_2023           37.0           27.0           18.0\n",
              "\n",
              "[110000 rows x 4 columns]"
            ],
            "text/html": [
              "\n",
              "  <div id=\"df-a7b9120c-f08e-4608-b0c2-6aaa85474baa\">\n",
              "    <div class=\"colab-df-container\">\n",
              "      <div>\n",
              "<style scoped>\n",
              "    .dataframe tbody tr th:only-of-type {\n",
              "        vertical-align: middle;\n",
              "    }\n",
              "\n",
              "    .dataframe tbody tr th {\n",
              "        vertical-align: top;\n",
              "    }\n",
              "\n",
              "    .dataframe thead th {\n",
              "        text-align: right;\n",
              "    }\n",
              "</style>\n",
              "<table border=\"1\" class=\"dataframe\">\n",
              "  <thead>\n",
              "    <tr style=\"text-align: right;\">\n",
              "      <th></th>\n",
              "      <th>user_month_year</th>\n",
              "      <th>next_month_f1</th>\n",
              "      <th>next_month_f2</th>\n",
              "      <th>next_month_f3</th>\n",
              "    </tr>\n",
              "  </thead>\n",
              "  <tbody>\n",
              "    <tr>\n",
              "      <th>0</th>\n",
              "      <td>90000_07_2022</td>\n",
              "      <td>0.0</td>\n",
              "      <td>34.0</td>\n",
              "      <td>33.0</td>\n",
              "    </tr>\n",
              "    <tr>\n",
              "      <th>1</th>\n",
              "      <td>90000_08_2022</td>\n",
              "      <td>0.0</td>\n",
              "      <td>25.0</td>\n",
              "      <td>35.0</td>\n",
              "    </tr>\n",
              "    <tr>\n",
              "      <th>2</th>\n",
              "      <td>90000_09_2022</td>\n",
              "      <td>2.0</td>\n",
              "      <td>20.0</td>\n",
              "      <td>33.0</td>\n",
              "    </tr>\n",
              "    <tr>\n",
              "      <th>3</th>\n",
              "      <td>90000_10_2022</td>\n",
              "      <td>4.0</td>\n",
              "      <td>12.0</td>\n",
              "      <td>40.0</td>\n",
              "    </tr>\n",
              "    <tr>\n",
              "      <th>4</th>\n",
              "      <td>90000_11_2022</td>\n",
              "      <td>3.0</td>\n",
              "      <td>3.0</td>\n",
              "      <td>38.0</td>\n",
              "    </tr>\n",
              "    <tr>\n",
              "      <th>...</th>\n",
              "      <td>...</td>\n",
              "      <td>...</td>\n",
              "      <td>...</td>\n",
              "      <td>...</td>\n",
              "    </tr>\n",
              "    <tr>\n",
              "      <th>109995</th>\n",
              "      <td>99999_01_2023</td>\n",
              "      <td>46.0</td>\n",
              "      <td>49.0</td>\n",
              "      <td>20.0</td>\n",
              "    </tr>\n",
              "    <tr>\n",
              "      <th>109996</th>\n",
              "      <td>99999_02_2023</td>\n",
              "      <td>50.0</td>\n",
              "      <td>51.0</td>\n",
              "      <td>28.0</td>\n",
              "    </tr>\n",
              "    <tr>\n",
              "      <th>109997</th>\n",
              "      <td>99999_03_2023</td>\n",
              "      <td>49.0</td>\n",
              "      <td>46.0</td>\n",
              "      <td>37.0</td>\n",
              "    </tr>\n",
              "    <tr>\n",
              "      <th>109998</th>\n",
              "      <td>99999_04_2023</td>\n",
              "      <td>45.0</td>\n",
              "      <td>39.0</td>\n",
              "      <td>33.0</td>\n",
              "    </tr>\n",
              "    <tr>\n",
              "      <th>109999</th>\n",
              "      <td>99999_05_2023</td>\n",
              "      <td>37.0</td>\n",
              "      <td>27.0</td>\n",
              "      <td>18.0</td>\n",
              "    </tr>\n",
              "  </tbody>\n",
              "</table>\n",
              "<p>110000 rows × 4 columns</p>\n",
              "</div>\n",
              "      <button class=\"colab-df-convert\" onclick=\"convertToInteractive('df-a7b9120c-f08e-4608-b0c2-6aaa85474baa')\"\n",
              "              title=\"Convert this dataframe to an interactive table.\"\n",
              "              style=\"display:none;\">\n",
              "        \n",
              "  <svg xmlns=\"http://www.w3.org/2000/svg\" height=\"24px\"viewBox=\"0 0 24 24\"\n",
              "       width=\"24px\">\n",
              "    <path d=\"M0 0h24v24H0V0z\" fill=\"none\"/>\n",
              "    <path d=\"M18.56 5.44l.94 2.06.94-2.06 2.06-.94-2.06-.94-.94-2.06-.94 2.06-2.06.94zm-11 1L8.5 8.5l.94-2.06 2.06-.94-2.06-.94L8.5 2.5l-.94 2.06-2.06.94zm10 10l.94 2.06.94-2.06 2.06-.94-2.06-.94-.94-2.06-.94 2.06-2.06.94z\"/><path d=\"M17.41 7.96l-1.37-1.37c-.4-.4-.92-.59-1.43-.59-.52 0-1.04.2-1.43.59L10.3 9.45l-7.72 7.72c-.78.78-.78 2.05 0 2.83L4 21.41c.39.39.9.59 1.41.59.51 0 1.02-.2 1.41-.59l7.78-7.78 2.81-2.81c.8-.78.8-2.07 0-2.86zM5.41 20L4 18.59l7.72-7.72 1.47 1.35L5.41 20z\"/>\n",
              "  </svg>\n",
              "      </button>\n",
              "      \n",
              "  <style>\n",
              "    .colab-df-container {\n",
              "      display:flex;\n",
              "      flex-wrap:wrap;\n",
              "      gap: 12px;\n",
              "    }\n",
              "\n",
              "    .colab-df-convert {\n",
              "      background-color: #E8F0FE;\n",
              "      border: none;\n",
              "      border-radius: 50%;\n",
              "      cursor: pointer;\n",
              "      display: none;\n",
              "      fill: #1967D2;\n",
              "      height: 32px;\n",
              "      padding: 0 0 0 0;\n",
              "      width: 32px;\n",
              "    }\n",
              "\n",
              "    .colab-df-convert:hover {\n",
              "      background-color: #E2EBFA;\n",
              "      box-shadow: 0px 1px 2px rgba(60, 64, 67, 0.3), 0px 1px 3px 1px rgba(60, 64, 67, 0.15);\n",
              "      fill: #174EA6;\n",
              "    }\n",
              "\n",
              "    [theme=dark] .colab-df-convert {\n",
              "      background-color: #3B4455;\n",
              "      fill: #D2E3FC;\n",
              "    }\n",
              "\n",
              "    [theme=dark] .colab-df-convert:hover {\n",
              "      background-color: #434B5C;\n",
              "      box-shadow: 0px 1px 3px 1px rgba(0, 0, 0, 0.15);\n",
              "      filter: drop-shadow(0px 1px 2px rgba(0, 0, 0, 0.3));\n",
              "      fill: #FFFFFF;\n",
              "    }\n",
              "  </style>\n",
              "\n",
              "      <script>\n",
              "        const buttonEl =\n",
              "          document.querySelector('#df-a7b9120c-f08e-4608-b0c2-6aaa85474baa button.colab-df-convert');\n",
              "        buttonEl.style.display =\n",
              "          google.colab.kernel.accessAllowed ? 'block' : 'none';\n",
              "\n",
              "        async function convertToInteractive(key) {\n",
              "          const element = document.querySelector('#df-a7b9120c-f08e-4608-b0c2-6aaa85474baa');\n",
              "          const dataTable =\n",
              "            await google.colab.kernel.invokeFunction('convertToInteractive',\n",
              "                                                     [key], {});\n",
              "          if (!dataTable) return;\n",
              "\n",
              "          const docLinkHtml = 'Like what you see? Visit the ' +\n",
              "            '<a target=\"_blank\" href=https://colab.research.google.com/notebooks/data_table.ipynb>data table notebook</a>'\n",
              "            + ' to learn more about interactive tables.';\n",
              "          element.innerHTML = '';\n",
              "          dataTable['output_type'] = 'display_data';\n",
              "          await google.colab.output.renderOutput(dataTable, element);\n",
              "          const docLink = document.createElement('div');\n",
              "          docLink.innerHTML = docLinkHtml;\n",
              "          element.appendChild(docLink);\n",
              "        }\n",
              "      </script>\n",
              "    </div>\n",
              "  </div>\n",
              "  "
            ]
          },
          "metadata": {},
          "execution_count": 57
        }
      ]
    },
    {
      "cell_type": "markdown",
      "source": [
        "# Neural Models must be inserted here"
      ],
      "metadata": {
        "id": "QB-lf2JOMZL8"
      }
    },
    {
      "cell_type": "code",
      "source": [
        "# Insert a list of models here\n",
        "# (linear, echo-state network, dense, multi_step_dense, long-short time memory)"
      ],
      "metadata": {
        "id": "rwEslsLr7zB3"
      },
      "execution_count": null,
      "outputs": []
    },
    {
      "cell_type": "code",
      "source": [
        "from keras.models import Sequential\n",
        "from keras.layers import Dense\n",
        "from keras.optimizers import SGD"
      ],
      "metadata": {
        "id": "PPgKW6V5z1jS"
      },
      "execution_count": null,
      "outputs": []
    },
    {
      "cell_type": "code",
      "source": [
        "# Parse the csv file with json entries\n",
        "\n",
        "def convert_json_2_pd(json_input_path, train = True):\n",
        "    \"\"\"\n",
        "    Read the csv file and extract from json events\n",
        "    any feature useful to classify the consumer consumption profile \n",
        "    \"\"\"\n",
        "    csv_df = pd.DataFrame(columns=[\n",
        "      \"user_month\",\n",
        "      \"fasciaF1ConsumoFatturato\",\n",
        "      \"fasciaF2ConsumoFatturato\",\n",
        "      \"fasciaF3ConsumoFatturato\",\n",
        "      \"res_address_code\",\n",
        "      \"res_address_value\",\n",
        "      \"dom_address_code\",\n",
        "      \"dom_address_value\",\n",
        "      \"next_f1\",\n",
        "      \"next_f2\",\n",
        "      \"next_f3\"\n",
        "    ])\n",
        "\n",
        "\n",
        "    d = {}\n",
        "    truth = {}\n",
        "    i = 0\n",
        "    j = 0\n",
        "    with open(json_input_path) as csvfile:\n",
        "\n",
        "        reader = csv.reader(csvfile, delimiter=',')\n",
        "        next(reader)\n",
        "\n",
        "        for row in tqdm(reader):\n",
        "          # iterate through bill\n",
        "\n",
        "          for bill in json.loads(row[1]) :\n",
        "            # read consumer id\n",
        "            user_month = row[0]\n",
        "\n",
        "            # billing_range\n",
        "            billing_range = bill['customData']['billing_range']\n",
        "            energy = bill['customData']['energy']\n",
        "            addresses = bill['bamData']['items']['bamItem']['addresses']\n",
        "            \n",
        "            res_address_code = ''\n",
        "            res_address_value = ''\n",
        "            dom_address_code = ''\n",
        "            dom_address_value = ''\n",
        "\n",
        "            # build the fields\n",
        "            for addr in addresses:\n",
        "              if(addr['type']['code'] == '2'):\n",
        "                res_address_code = addr['city']['code']\n",
        "                res_address_value = addr['city']['value']\n",
        "              elif(addr['type']['code'] == '6'):\n",
        "                dom_address_code = addr['city']['code']\n",
        "                dom_address_value = addr['city']['value']\n",
        "            \n",
        "\n",
        "            d[i] = {\n",
        "              'user_month' : user_month,\n",
        "              'month': int(user_month.split('_')[1]),\n",
        "              'f1' : float(energy['fasciaF1ConsumoFatturato']),\n",
        "              'f2' : float(energy['fasciaF2ConsumoFatturato']),\n",
        "              'f3' : float(energy['fasciaF3ConsumoFatturato']),\n",
        "              'res_address_code': res_address_code,\n",
        "              'res_address_value': res_address_value,\n",
        "              'dom_address_code': dom_address_code,\n",
        "              'dom_address_value': dom_address_value,\n",
        "              'next_f1' : float(row[2]) if train == True else '',\n",
        "              'next_f2' : float(row[3]) if train == True else '',\n",
        "              'next_f3' : float(row[4]) if train == True else ''\n",
        "            }\n",
        "            i = i+1\n",
        "\n",
        "          if(train):\n",
        "            truth[j] = {'user_month' : user_month, 'next_f1' : row[2],\n",
        "              'next_f2' : row[3],\n",
        "              'next_f3' : row[4]}\n",
        "            j += 1\n",
        "\n",
        "\n",
        "    if(train):\n",
        "      return pd.DataFrame.from_dict(d, \"index\"), pd.DataFrame.from_dict(truth, 'index')\n",
        "    return  pd.DataFrame.from_dict(d, \"index\")\n",
        "\n",
        "\n",
        "features_df, truth_df = convert_json_2_pd(json_input_path=\"data/task_2/train.csv\")\n",
        "test_df = convert_json_2_pd(json_input_path=\"data/task_2/test.csv\", train = False)"
      ],
      "metadata": {
        "colab": {
          "base_uri": "https://localhost:8080/"
        },
        "id": "GXEuqO6az3uN",
        "outputId": "a15847f1-b675-48e7-bbe0-e4aface063fc"
      },
      "execution_count": null,
      "outputs": [
        {
          "output_type": "stream",
          "name": "stderr",
          "text": [
            "770000it [01:35, 8040.61it/s]\n",
            "110000it [00:13, 8293.36it/s]\n"
          ]
        }
      ]
    },
    {
      "cell_type": "code",
      "source": [
        "from sklearn.model_selection import train_test_split\n",
        "\n",
        "X=features_df[['month', 'f1', 'f2', 'f3']]\n",
        "#'res_address_code', 'res_address_value', 'dom_address_code','dom_address_value'\n",
        "\n",
        "y=features_df[['next_f1', 'next_f2', 'next_f3']]\n",
        "\n",
        "X_train, X_val, y_train, y_val = train_test_split(X, y, test_size=0.33, random_state=42)"
      ],
      "metadata": {
        "id": "M4D1_DwM0Bl1"
      },
      "execution_count": null,
      "outputs": []
    },
    {
      "cell_type": "code",
      "source": [
        "from sklearn.preprocessing import StandardScaler\n",
        "\n",
        "scaler = StandardScaler().fit(X_train)\n",
        "X_train = scaler.transform(X_train)\n",
        "X_val = scaler.transform(X_val)"
      ],
      "metadata": {
        "id": "awVYJzKB0D6d"
      },
      "execution_count": null,
      "outputs": []
    },
    {
      "cell_type": "code",
      "source": [
        "model = Sequential()\n",
        "\n",
        "model = Sequential()\n",
        "model.add(Dense(8, input_dim=4, activation='relu'))\n",
        "model.add(Dense(8, activation='relu'))\n",
        "model.add(Dense(3, activation='linear'))\n",
        "model.compile(loss='mae', optimizer='adam')\n",
        "\n",
        "model.fit(X_train, y_train,epochs=6, verbose=1, validation_data=(X_val, y_val))"
      ],
      "metadata": {
        "colab": {
          "base_uri": "https://localhost:8080/"
        },
        "id": "RaDBdMV00F_t",
        "outputId": "0e1ef1a4-a284-4ca7-b897-ff66abddb8a7"
      },
      "execution_count": null,
      "outputs": [
        {
          "output_type": "stream",
          "name": "stdout",
          "text": [
            "Epoch 1/6\n",
            "16122/16122 [==============================] - 34s 2ms/step - loss: 8.2936 - val_loss: 7.2837\n",
            "Epoch 2/6\n",
            "16122/16122 [==============================] - 34s 2ms/step - loss: 7.3082 - val_loss: 7.2959\n",
            "Epoch 3/6\n",
            "16122/16122 [==============================] - 35s 2ms/step - loss: 7.3064 - val_loss: 7.2832\n",
            "Epoch 4/6\n",
            "16122/16122 [==============================] - 34s 2ms/step - loss: 7.3055 - val_loss: 7.2794\n",
            "Epoch 5/6\n",
            "16122/16122 [==============================] - 34s 2ms/step - loss: 7.3055 - val_loss: 7.2811\n",
            "Epoch 6/6\n",
            "16122/16122 [==============================] - 37s 2ms/step - loss: 7.3053 - val_loss: 7.2787\n"
          ]
        },
        {
          "output_type": "execute_result",
          "data": {
            "text/plain": [
              "<keras.callbacks.History at 0x7f47df110090>"
            ]
          },
          "metadata": {},
          "execution_count": 22
        }
      ]
    },
    {
      "cell_type": "code",
      "source": [
        "X_test=test_df[['month', 'f1', 'f2', 'f3']]\n",
        "preds = model.predict(X_test)"
      ],
      "metadata": {
        "colab": {
          "base_uri": "https://localhost:8080/"
        },
        "id": "K2dfeTkB0ISC",
        "outputId": "702bb7e6-1834-45b4-e553-e34b0d10f332"
      },
      "execution_count": null,
      "outputs": [
        {
          "output_type": "stream",
          "name": "stdout",
          "text": [
            "3438/3438 [==============================] - 13s 4ms/step\n"
          ]
        }
      ]
    },
    {
      "cell_type": "code",
      "source": [
        "baseline_predictions = pd.DataFrame(preds, columns = ['next_month_f1', 'next_month_f2', 'next_month_f3'])\n",
        "baseline_predictions['user_month_year'] = ''\n",
        "baseline_predictions['user_month_year'] = test_df['user_month']\n",
        "baseline_predictions = baseline_predictions[['user_month_year', 'next_month_f1', 'next_month_f2', 'next_month_f3']]"
      ],
      "metadata": {
        "id": "6zaeivFf26uK"
      },
      "execution_count": null,
      "outputs": []
    },
    {
      "cell_type": "code",
      "source": [
        "baseline_predictions"
      ],
      "metadata": {
        "colab": {
          "base_uri": "https://localhost:8080/",
          "height": 423
        },
        "id": "EAC-gnhe3pVn",
        "outputId": "54caf2db-737a-433b-9de8-50ce7cc7167d"
      },
      "execution_count": null,
      "outputs": [
        {
          "output_type": "execute_result",
          "data": {
            "text/plain": [
              "       user_month_year  next_month_f1  next_month_f2  next_month_f3\n",
              "0        90000_07_2022      24.483849     832.385864     805.423523\n",
              "1        90000_08_2022      21.953514     617.720093     853.701538\n",
              "2        90000_09_2022      63.427010     501.145660     805.423035\n",
              "3        90000_10_2022     100.955849     309.479187     968.615784\n",
              "4        90000_11_2022      76.502342      99.786003     921.712769\n",
              "...                ...            ...            ...            ...\n",
              "109995   99999_01_2023    1124.768433    1214.449951     447.594360\n",
              "109996   99999_02_2023    1213.479980    1261.064575     631.036133\n",
              "109997   99999_03_2023    1179.908447    1138.521973     844.018433\n",
              "109998   99999_04_2023    1085.924927     971.999512     755.605469\n",
              "109999   99999_05_2023     904.722717     688.940979     414.080322\n",
              "\n",
              "[110000 rows x 4 columns]"
            ],
            "text/html": [
              "\n",
              "  <div id=\"df-297ecf12-1428-4341-ac22-d6cc21e6de90\">\n",
              "    <div class=\"colab-df-container\">\n",
              "      <div>\n",
              "<style scoped>\n",
              "    .dataframe tbody tr th:only-of-type {\n",
              "        vertical-align: middle;\n",
              "    }\n",
              "\n",
              "    .dataframe tbody tr th {\n",
              "        vertical-align: top;\n",
              "    }\n",
              "\n",
              "    .dataframe thead th {\n",
              "        text-align: right;\n",
              "    }\n",
              "</style>\n",
              "<table border=\"1\" class=\"dataframe\">\n",
              "  <thead>\n",
              "    <tr style=\"text-align: right;\">\n",
              "      <th></th>\n",
              "      <th>user_month_year</th>\n",
              "      <th>next_month_f1</th>\n",
              "      <th>next_month_f2</th>\n",
              "      <th>next_month_f3</th>\n",
              "    </tr>\n",
              "  </thead>\n",
              "  <tbody>\n",
              "    <tr>\n",
              "      <th>0</th>\n",
              "      <td>90000_07_2022</td>\n",
              "      <td>24.483849</td>\n",
              "      <td>832.385864</td>\n",
              "      <td>805.423523</td>\n",
              "    </tr>\n",
              "    <tr>\n",
              "      <th>1</th>\n",
              "      <td>90000_08_2022</td>\n",
              "      <td>21.953514</td>\n",
              "      <td>617.720093</td>\n",
              "      <td>853.701538</td>\n",
              "    </tr>\n",
              "    <tr>\n",
              "      <th>2</th>\n",
              "      <td>90000_09_2022</td>\n",
              "      <td>63.427010</td>\n",
              "      <td>501.145660</td>\n",
              "      <td>805.423035</td>\n",
              "    </tr>\n",
              "    <tr>\n",
              "      <th>3</th>\n",
              "      <td>90000_10_2022</td>\n",
              "      <td>100.955849</td>\n",
              "      <td>309.479187</td>\n",
              "      <td>968.615784</td>\n",
              "    </tr>\n",
              "    <tr>\n",
              "      <th>4</th>\n",
              "      <td>90000_11_2022</td>\n",
              "      <td>76.502342</td>\n",
              "      <td>99.786003</td>\n",
              "      <td>921.712769</td>\n",
              "    </tr>\n",
              "    <tr>\n",
              "      <th>...</th>\n",
              "      <td>...</td>\n",
              "      <td>...</td>\n",
              "      <td>...</td>\n",
              "      <td>...</td>\n",
              "    </tr>\n",
              "    <tr>\n",
              "      <th>109995</th>\n",
              "      <td>99999_01_2023</td>\n",
              "      <td>1124.768433</td>\n",
              "      <td>1214.449951</td>\n",
              "      <td>447.594360</td>\n",
              "    </tr>\n",
              "    <tr>\n",
              "      <th>109996</th>\n",
              "      <td>99999_02_2023</td>\n",
              "      <td>1213.479980</td>\n",
              "      <td>1261.064575</td>\n",
              "      <td>631.036133</td>\n",
              "    </tr>\n",
              "    <tr>\n",
              "      <th>109997</th>\n",
              "      <td>99999_03_2023</td>\n",
              "      <td>1179.908447</td>\n",
              "      <td>1138.521973</td>\n",
              "      <td>844.018433</td>\n",
              "    </tr>\n",
              "    <tr>\n",
              "      <th>109998</th>\n",
              "      <td>99999_04_2023</td>\n",
              "      <td>1085.924927</td>\n",
              "      <td>971.999512</td>\n",
              "      <td>755.605469</td>\n",
              "    </tr>\n",
              "    <tr>\n",
              "      <th>109999</th>\n",
              "      <td>99999_05_2023</td>\n",
              "      <td>904.722717</td>\n",
              "      <td>688.940979</td>\n",
              "      <td>414.080322</td>\n",
              "    </tr>\n",
              "  </tbody>\n",
              "</table>\n",
              "<p>110000 rows × 4 columns</p>\n",
              "</div>\n",
              "      <button class=\"colab-df-convert\" onclick=\"convertToInteractive('df-297ecf12-1428-4341-ac22-d6cc21e6de90')\"\n",
              "              title=\"Convert this dataframe to an interactive table.\"\n",
              "              style=\"display:none;\">\n",
              "        \n",
              "  <svg xmlns=\"http://www.w3.org/2000/svg\" height=\"24px\"viewBox=\"0 0 24 24\"\n",
              "       width=\"24px\">\n",
              "    <path d=\"M0 0h24v24H0V0z\" fill=\"none\"/>\n",
              "    <path d=\"M18.56 5.44l.94 2.06.94-2.06 2.06-.94-2.06-.94-.94-2.06-.94 2.06-2.06.94zm-11 1L8.5 8.5l.94-2.06 2.06-.94-2.06-.94L8.5 2.5l-.94 2.06-2.06.94zm10 10l.94 2.06.94-2.06 2.06-.94-2.06-.94-.94-2.06-.94 2.06-2.06.94z\"/><path d=\"M17.41 7.96l-1.37-1.37c-.4-.4-.92-.59-1.43-.59-.52 0-1.04.2-1.43.59L10.3 9.45l-7.72 7.72c-.78.78-.78 2.05 0 2.83L4 21.41c.39.39.9.59 1.41.59.51 0 1.02-.2 1.41-.59l7.78-7.78 2.81-2.81c.8-.78.8-2.07 0-2.86zM5.41 20L4 18.59l7.72-7.72 1.47 1.35L5.41 20z\"/>\n",
              "  </svg>\n",
              "      </button>\n",
              "      \n",
              "  <style>\n",
              "    .colab-df-container {\n",
              "      display:flex;\n",
              "      flex-wrap:wrap;\n",
              "      gap: 12px;\n",
              "    }\n",
              "\n",
              "    .colab-df-convert {\n",
              "      background-color: #E8F0FE;\n",
              "      border: none;\n",
              "      border-radius: 50%;\n",
              "      cursor: pointer;\n",
              "      display: none;\n",
              "      fill: #1967D2;\n",
              "      height: 32px;\n",
              "      padding: 0 0 0 0;\n",
              "      width: 32px;\n",
              "    }\n",
              "\n",
              "    .colab-df-convert:hover {\n",
              "      background-color: #E2EBFA;\n",
              "      box-shadow: 0px 1px 2px rgba(60, 64, 67, 0.3), 0px 1px 3px 1px rgba(60, 64, 67, 0.15);\n",
              "      fill: #174EA6;\n",
              "    }\n",
              "\n",
              "    [theme=dark] .colab-df-convert {\n",
              "      background-color: #3B4455;\n",
              "      fill: #D2E3FC;\n",
              "    }\n",
              "\n",
              "    [theme=dark] .colab-df-convert:hover {\n",
              "      background-color: #434B5C;\n",
              "      box-shadow: 0px 1px 3px 1px rgba(0, 0, 0, 0.15);\n",
              "      filter: drop-shadow(0px 1px 2px rgba(0, 0, 0, 0.3));\n",
              "      fill: #FFFFFF;\n",
              "    }\n",
              "  </style>\n",
              "\n",
              "      <script>\n",
              "        const buttonEl =\n",
              "          document.querySelector('#df-297ecf12-1428-4341-ac22-d6cc21e6de90 button.colab-df-convert');\n",
              "        buttonEl.style.display =\n",
              "          google.colab.kernel.accessAllowed ? 'block' : 'none';\n",
              "\n",
              "        async function convertToInteractive(key) {\n",
              "          const element = document.querySelector('#df-297ecf12-1428-4341-ac22-d6cc21e6de90');\n",
              "          const dataTable =\n",
              "            await google.colab.kernel.invokeFunction('convertToInteractive',\n",
              "                                                     [key], {});\n",
              "          if (!dataTable) return;\n",
              "\n",
              "          const docLinkHtml = 'Like what you see? Visit the ' +\n",
              "            '<a target=\"_blank\" href=https://colab.research.google.com/notebooks/data_table.ipynb>data table notebook</a>'\n",
              "            + ' to learn more about interactive tables.';\n",
              "          element.innerHTML = '';\n",
              "          dataTable['output_type'] = 'display_data';\n",
              "          await google.colab.output.renderOutput(dataTable, element);\n",
              "          const docLink = document.createElement('div');\n",
              "          docLink.innerHTML = docLinkHtml;\n",
              "          element.appendChild(docLink);\n",
              "        }\n",
              "      </script>\n",
              "    </div>\n",
              "  </div>\n",
              "  "
            ]
          },
          "metadata": {},
          "execution_count": 37
        }
      ]
    },
    {
      "cell_type": "markdown",
      "source": [
        "# Submit solution to Kaggle competition"
      ],
      "metadata": {
        "id": "lem1OcCxjquo"
      }
    },
    {
      "cell_type": "markdown",
      "source": [
        "Create a termporary folder for submissions"
      ],
      "metadata": {
        "id": "ELA1MHivjvkr"
      }
    },
    {
      "cell_type": "code",
      "source": [
        "!mkdir -p submissions"
      ],
      "metadata": {
        "id": "a1fjBxTrjrzX"
      },
      "execution_count": null,
      "outputs": []
    },
    {
      "cell_type": "code",
      "source": [
        "baseline_predictions_path = \"submissions/baseline.csv\"\n",
        "baseline_predictions.to_csv(baseline_predictions_path, index=False)"
      ],
      "metadata": {
        "id": "Gg06fnZZjy8M"
      },
      "execution_count": null,
      "outputs": []
    },
    {
      "cell_type": "code",
      "source": [
        "!kaggle competitions submit -c pitc-2122-prediction -f \"submissions/baseline.csv\" -m \"Dense NN prediction\""
      ],
      "metadata": {
        "colab": {
          "base_uri": "https://localhost:8080/"
        },
        "id": "0NOFLNTfj9n0",
        "outputId": "e04f99a9-3ce2-4fae-e13c-75d7ee51b8e3"
      },
      "execution_count": null,
      "outputs": [
        {
          "output_type": "stream",
          "name": "stdout",
          "text": [
            "100% 4.50M/4.50M [00:00<00:00, 9.40MB/s]\n",
            "Successfully submitted to PITC 21/22 - Prediction"
          ]
        }
      ]
    }
  ]
}